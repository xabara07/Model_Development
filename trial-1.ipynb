{
 "cells": [
  {
   "cell_type": "code",
   "execution_count": 1,
   "id": "7f171c73",
   "metadata": {},
   "outputs": [],
   "source": [
    "import pandas as pd\n",
    "import numpy as np\n",
    "from sklearn import preprocessing\n",
    "import seaborn as sns\n",
    "import matplotlib.pyplot as plt\n",
    "from sklearn.preprocessing import LabelEncoder"
   ]
  },
  {
   "cell_type": "code",
   "execution_count": 2,
   "id": "d5a26a29",
   "metadata": {},
   "outputs": [
    {
     "data": {
      "text/html": [
       "<div>\n",
       "<style scoped>\n",
       "    .dataframe tbody tr th:only-of-type {\n",
       "        vertical-align: middle;\n",
       "    }\n",
       "\n",
       "    .dataframe tbody tr th {\n",
       "        vertical-align: top;\n",
       "    }\n",
       "\n",
       "    .dataframe thead th {\n",
       "        text-align: right;\n",
       "    }\n",
       "</style>\n",
       "<table border=\"1\" class=\"dataframe\">\n",
       "  <thead>\n",
       "    <tr style=\"text-align: right;\">\n",
       "      <th></th>\n",
       "      <th>student_id</th>\n",
       "      <th>age</th>\n",
       "      <th>sex</th>\n",
       "      <th>course</th>\n",
       "      <th>yr_level</th>\n",
       "      <th>socioeconomic_stat</th>\n",
       "      <th>fam_support</th>\n",
       "      <th>working_stud</th>\n",
       "      <th>scholar</th>\n",
       "      <th>personality_type</th>\n",
       "      <th>...</th>\n",
       "      <th>wifi</th>\n",
       "      <th>prepaid-wifi</th>\n",
       "      <th>cellular_data</th>\n",
       "      <th>hotspot</th>\n",
       "      <th>vhigh_speed</th>\n",
       "      <th>high_speed</th>\n",
       "      <th>moderate_speed</th>\n",
       "      <th>light_speed</th>\n",
       "      <th>GPA</th>\n",
       "      <th>gpa_range</th>\n",
       "    </tr>\n",
       "  </thead>\n",
       "  <tbody>\n",
       "    <tr>\n",
       "      <th>0</th>\n",
       "      <td>2021-01592</td>\n",
       "      <td>19.0</td>\n",
       "      <td>F</td>\n",
       "      <td>CD</td>\n",
       "      <td>2</td>\n",
       "      <td>low</td>\n",
       "      <td>yes</td>\n",
       "      <td>no</td>\n",
       "      <td>yes</td>\n",
       "      <td>ISTJ</td>\n",
       "      <td>...</td>\n",
       "      <td>never</td>\n",
       "      <td>always</td>\n",
       "      <td>always</td>\n",
       "      <td>sometimes</td>\n",
       "      <td>always</td>\n",
       "      <td>always</td>\n",
       "      <td>sometimes</td>\n",
       "      <td>sometimes</td>\n",
       "      <td>1.5588</td>\n",
       "      <td>2</td>\n",
       "    </tr>\n",
       "    <tr>\n",
       "      <th>1</th>\n",
       "      <td>2021-02910</td>\n",
       "      <td>19.0</td>\n",
       "      <td>F</td>\n",
       "      <td>CD</td>\n",
       "      <td>2</td>\n",
       "      <td>lower middle</td>\n",
       "      <td>yes</td>\n",
       "      <td>no</td>\n",
       "      <td>no</td>\n",
       "      <td>ESFJ</td>\n",
       "      <td>...</td>\n",
       "      <td>sometimes</td>\n",
       "      <td>sometimes</td>\n",
       "      <td>sometimes</td>\n",
       "      <td>sometimes</td>\n",
       "      <td>sometimes</td>\n",
       "      <td>sometimes</td>\n",
       "      <td>sometimes</td>\n",
       "      <td>sometimes</td>\n",
       "      <td>1.3824</td>\n",
       "      <td>2</td>\n",
       "    </tr>\n",
       "    <tr>\n",
       "      <th>2</th>\n",
       "      <td>2021-02862</td>\n",
       "      <td>19.0</td>\n",
       "      <td>F</td>\n",
       "      <td>CD</td>\n",
       "      <td>2</td>\n",
       "      <td>low</td>\n",
       "      <td>yes</td>\n",
       "      <td>no</td>\n",
       "      <td>no</td>\n",
       "      <td>ENTP</td>\n",
       "      <td>...</td>\n",
       "      <td>always</td>\n",
       "      <td>never</td>\n",
       "      <td>always</td>\n",
       "      <td>sometimes</td>\n",
       "      <td>sometimes</td>\n",
       "      <td>always</td>\n",
       "      <td>sometimes</td>\n",
       "      <td>sometimes</td>\n",
       "      <td>1.5882</td>\n",
       "      <td>2</td>\n",
       "    </tr>\n",
       "    <tr>\n",
       "      <th>3</th>\n",
       "      <td>2021-02890</td>\n",
       "      <td>19.0</td>\n",
       "      <td>F</td>\n",
       "      <td>CD</td>\n",
       "      <td>2</td>\n",
       "      <td>lower middle</td>\n",
       "      <td>yes</td>\n",
       "      <td>yes</td>\n",
       "      <td>no</td>\n",
       "      <td>ESFJ</td>\n",
       "      <td>...</td>\n",
       "      <td>always</td>\n",
       "      <td>sometimes</td>\n",
       "      <td>never</td>\n",
       "      <td>sometimes</td>\n",
       "      <td>sometimes</td>\n",
       "      <td>sometimes</td>\n",
       "      <td>always</td>\n",
       "      <td>sometimes</td>\n",
       "      <td>1.5000</td>\n",
       "      <td>2</td>\n",
       "    </tr>\n",
       "    <tr>\n",
       "      <th>4</th>\n",
       "      <td>2020-04136</td>\n",
       "      <td>20.0</td>\n",
       "      <td>F</td>\n",
       "      <td>CD</td>\n",
       "      <td>2</td>\n",
       "      <td>low</td>\n",
       "      <td>yes</td>\n",
       "      <td>no</td>\n",
       "      <td>no</td>\n",
       "      <td>ISFJ</td>\n",
       "      <td>...</td>\n",
       "      <td>sometimes</td>\n",
       "      <td>never</td>\n",
       "      <td>sometimes</td>\n",
       "      <td>sometimes</td>\n",
       "      <td>never</td>\n",
       "      <td>sometimes</td>\n",
       "      <td>sometimes</td>\n",
       "      <td>always</td>\n",
       "      <td>1.4347</td>\n",
       "      <td>2</td>\n",
       "    </tr>\n",
       "    <tr>\n",
       "      <th>...</th>\n",
       "      <td>...</td>\n",
       "      <td>...</td>\n",
       "      <td>...</td>\n",
       "      <td>...</td>\n",
       "      <td>...</td>\n",
       "      <td>...</td>\n",
       "      <td>...</td>\n",
       "      <td>...</td>\n",
       "      <td>...</td>\n",
       "      <td>...</td>\n",
       "      <td>...</td>\n",
       "      <td>...</td>\n",
       "      <td>...</td>\n",
       "      <td>...</td>\n",
       "      <td>...</td>\n",
       "      <td>...</td>\n",
       "      <td>...</td>\n",
       "      <td>...</td>\n",
       "      <td>...</td>\n",
       "      <td>...</td>\n",
       "      <td>...</td>\n",
       "    </tr>\n",
       "    <tr>\n",
       "      <th>352</th>\n",
       "      <td>2021-00476</td>\n",
       "      <td>21.0</td>\n",
       "      <td>F</td>\n",
       "      <td>SW</td>\n",
       "      <td>2</td>\n",
       "      <td>lower middle</td>\n",
       "      <td>yes</td>\n",
       "      <td>no</td>\n",
       "      <td>no</td>\n",
       "      <td>ISFP</td>\n",
       "      <td>...</td>\n",
       "      <td>always</td>\n",
       "      <td>sometimes</td>\n",
       "      <td>never</td>\n",
       "      <td>never</td>\n",
       "      <td>Sometimes</td>\n",
       "      <td>sometimes</td>\n",
       "      <td>sometimes</td>\n",
       "      <td>never</td>\n",
       "      <td>1.9559</td>\n",
       "      <td>3</td>\n",
       "    </tr>\n",
       "    <tr>\n",
       "      <th>353</th>\n",
       "      <td>2021-01868</td>\n",
       "      <td>20.0</td>\n",
       "      <td>F</td>\n",
       "      <td>SW</td>\n",
       "      <td>2</td>\n",
       "      <td>low</td>\n",
       "      <td>yes</td>\n",
       "      <td>yes</td>\n",
       "      <td>no</td>\n",
       "      <td>ISFP</td>\n",
       "      <td>...</td>\n",
       "      <td>always</td>\n",
       "      <td>never</td>\n",
       "      <td>sometimes</td>\n",
       "      <td>sometimes</td>\n",
       "      <td>Sometimes</td>\n",
       "      <td>always</td>\n",
       "      <td>sometimes</td>\n",
       "      <td>never</td>\n",
       "      <td>1.5294</td>\n",
       "      <td>2</td>\n",
       "    </tr>\n",
       "    <tr>\n",
       "      <th>354</th>\n",
       "      <td>2021-01891</td>\n",
       "      <td>19.0</td>\n",
       "      <td>F</td>\n",
       "      <td>SW</td>\n",
       "      <td>2</td>\n",
       "      <td>low</td>\n",
       "      <td>yes</td>\n",
       "      <td>no</td>\n",
       "      <td>no</td>\n",
       "      <td>ENFJ</td>\n",
       "      <td>...</td>\n",
       "      <td>always</td>\n",
       "      <td>never</td>\n",
       "      <td>always</td>\n",
       "      <td>never</td>\n",
       "      <td>always</td>\n",
       "      <td>sometimes</td>\n",
       "      <td>sometimes</td>\n",
       "      <td>sometimes</td>\n",
       "      <td>1.7647</td>\n",
       "      <td>3</td>\n",
       "    </tr>\n",
       "    <tr>\n",
       "      <th>355</th>\n",
       "      <td>2021-01897</td>\n",
       "      <td>19.0</td>\n",
       "      <td>F</td>\n",
       "      <td>SW</td>\n",
       "      <td>2</td>\n",
       "      <td>low</td>\n",
       "      <td>yes</td>\n",
       "      <td>no</td>\n",
       "      <td>no</td>\n",
       "      <td>ISFP</td>\n",
       "      <td>...</td>\n",
       "      <td>always</td>\n",
       "      <td>always</td>\n",
       "      <td>sometimes</td>\n",
       "      <td>never</td>\n",
       "      <td>always</td>\n",
       "      <td>always</td>\n",
       "      <td>sometimes</td>\n",
       "      <td>never</td>\n",
       "      <td>1.4853</td>\n",
       "      <td>2</td>\n",
       "    </tr>\n",
       "    <tr>\n",
       "      <th>356</th>\n",
       "      <td>2021-02472</td>\n",
       "      <td>21.0</td>\n",
       "      <td>M</td>\n",
       "      <td>SW</td>\n",
       "      <td>2</td>\n",
       "      <td>low</td>\n",
       "      <td>no</td>\n",
       "      <td>no</td>\n",
       "      <td>no</td>\n",
       "      <td>ESFP</td>\n",
       "      <td>...</td>\n",
       "      <td>never</td>\n",
       "      <td>sometimes</td>\n",
       "      <td>always</td>\n",
       "      <td>sometimes</td>\n",
       "      <td>sometimes</td>\n",
       "      <td>sometimes</td>\n",
       "      <td>sometimes</td>\n",
       "      <td>sometimes</td>\n",
       "      <td>1.4265</td>\n",
       "      <td>2</td>\n",
       "    </tr>\n",
       "  </tbody>\n",
       "</table>\n",
       "<p>357 rows × 51 columns</p>\n",
       "</div>"
      ],
      "text/plain": [
       "     student_id   age sex course  yr_level socioeconomic_stat fam_support  \\\n",
       "0    2021-01592  19.0   F     CD         2                low         yes   \n",
       "1    2021-02910  19.0   F     CD         2       lower middle         yes   \n",
       "2    2021-02862  19.0   F     CD         2                low         yes   \n",
       "3    2021-02890  19.0   F     CD         2       lower middle         yes   \n",
       "4    2020-04136  20.0   F     CD         2                low         yes   \n",
       "..          ...   ...  ..    ...       ...                ...         ...   \n",
       "352  2021-00476  21.0   F     SW         2       lower middle         yes   \n",
       "353  2021-01868  20.0   F     SW         2                low         yes   \n",
       "354  2021-01891  19.0   F     SW         2                low         yes   \n",
       "355  2021-01897  19.0   F     SW         2                low         yes   \n",
       "356  2021-02472  21.0   M     SW         2                low          no   \n",
       "\n",
       "    working_stud scholar personality_type  ...       wifi prepaid-wifi  \\\n",
       "0             no     yes             ISTJ  ...      never       always   \n",
       "1             no      no             ESFJ  ...  sometimes    sometimes   \n",
       "2             no      no             ENTP  ...     always        never   \n",
       "3            yes      no             ESFJ  ...     always    sometimes   \n",
       "4             no      no             ISFJ  ...  sometimes        never   \n",
       "..           ...     ...              ...  ...        ...          ...   \n",
       "352           no      no             ISFP  ...     always    sometimes   \n",
       "353          yes      no             ISFP  ...     always        never   \n",
       "354           no      no             ENFJ  ...     always        never   \n",
       "355           no      no             ISFP  ...     always       always   \n",
       "356           no      no             ESFP  ...      never    sometimes   \n",
       "\n",
       "    cellular_data    hotspot vhigh_speed high_speed moderate_speed  \\\n",
       "0          always  sometimes      always     always      sometimes   \n",
       "1       sometimes  sometimes   sometimes  sometimes      sometimes   \n",
       "2          always  sometimes   sometimes     always      sometimes   \n",
       "3           never  sometimes   sometimes  sometimes         always   \n",
       "4       sometimes  sometimes       never  sometimes      sometimes   \n",
       "..            ...        ...         ...        ...            ...   \n",
       "352         never      never   Sometimes  sometimes      sometimes   \n",
       "353     sometimes  sometimes   Sometimes     always      sometimes   \n",
       "354        always      never      always  sometimes      sometimes   \n",
       "355     sometimes      never      always     always      sometimes   \n",
       "356        always  sometimes   sometimes  sometimes      sometimes   \n",
       "\n",
       "    light_speed     GPA gpa_range  \n",
       "0     sometimes  1.5588         2  \n",
       "1     sometimes  1.3824         2  \n",
       "2     sometimes  1.5882         2  \n",
       "3     sometimes  1.5000         2  \n",
       "4        always  1.4347         2  \n",
       "..          ...     ...       ...  \n",
       "352       never  1.9559         3  \n",
       "353       never  1.5294         2  \n",
       "354   sometimes  1.7647         3  \n",
       "355       never  1.4853         2  \n",
       "356   sometimes  1.4265         2  \n",
       "\n",
       "[357 rows x 51 columns]"
      ]
     },
     "execution_count": 2,
     "metadata": {},
     "output_type": "execute_result"
    }
   ],
   "source": [
    "df = pd.read_csv(r'C:\\thesis\\datasets.csv')\n",
    "df2 = pd.read_csv(r'C:\\thesis\\datasets.csv')\n",
    "df"
   ]
  },
  {
   "cell_type": "markdown",
   "id": "1b3c3f30",
   "metadata": {},
   "source": [
    "# DATA EXPLORATION"
   ]
  },
  {
   "cell_type": "code",
   "execution_count": 3,
   "id": "7b845d27",
   "metadata": {},
   "outputs": [
    {
     "name": "stdout",
     "output_type": "stream",
     "text": [
      "Dimension of the data raw dataframe Rows by Columns,  (357, 51)\n"
     ]
    }
   ],
   "source": [
    "#Dimension of the raw dataframe\n",
    "print(\"Dimension of the data raw dataframe Rows by Columns, \", df.shape)"
   ]
  },
  {
   "cell_type": "code",
   "execution_count": 4,
   "id": "976a8299",
   "metadata": {},
   "outputs": [
    {
     "data": {
      "text/plain": [
       "student_id             0\n",
       "age                   11\n",
       "sex                    6\n",
       "course                 0\n",
       "yr_level               0\n",
       "socioeconomic_stat     0\n",
       "fam_support            0\n",
       "working_stud           0\n",
       "scholar                0\n",
       "personality_type       0\n",
       "TM1                    0\n",
       "TM2                    0\n",
       "TM3                    0\n",
       "TM4                    0\n",
       "TM5                    0\n",
       "TM6                    0\n",
       "TM7                    0\n",
       "CAP1                   0\n",
       "CAP2                   0\n",
       "CAP3                   1\n",
       "CAP4                   0\n",
       "GSS1                   0\n",
       "GSS2                   0\n",
       "GSS3                   0\n",
       "GSS4                   0\n",
       "GSS5                   0\n",
       "GSS6                   0\n",
       "GSS7                   0\n",
       "EP1                    0\n",
       "EP2                    0\n",
       "EP3                    0\n",
       "EP4                    0\n",
       "EP5                    0\n",
       "EP6                    0\n",
       "NT1                    0\n",
       "NT2                    0\n",
       "NT3                    0\n",
       "desktop                0\n",
       "laptop                 0\n",
       "mobile_phone           0\n",
       "tablet                 0\n",
       "wifi                   0\n",
       "prepaid-wifi           0\n",
       "cellular_data          0\n",
       "hotspot                0\n",
       "vhigh_speed            0\n",
       "high_speed             0\n",
       "moderate_speed         0\n",
       "light_speed            0\n",
       "GPA                    0\n",
       "gpa_range              0\n",
       "dtype: int64"
      ]
     },
     "execution_count": 4,
     "metadata": {},
     "output_type": "execute_result"
    }
   ],
   "source": [
    "#check Dataframe with null values\n",
    "df2.isna().sum()"
   ]
  },
  {
   "cell_type": "code",
   "execution_count": 5,
   "id": "f69ce3e0",
   "metadata": {},
   "outputs": [
    {
     "data": {
      "text/html": [
       "<div>\n",
       "<style scoped>\n",
       "    .dataframe tbody tr th:only-of-type {\n",
       "        vertical-align: middle;\n",
       "    }\n",
       "\n",
       "    .dataframe tbody tr th {\n",
       "        vertical-align: top;\n",
       "    }\n",
       "\n",
       "    .dataframe thead th {\n",
       "        text-align: right;\n",
       "    }\n",
       "</style>\n",
       "<table border=\"1\" class=\"dataframe\">\n",
       "  <thead>\n",
       "    <tr style=\"text-align: right;\">\n",
       "      <th></th>\n",
       "      <th>age</th>\n",
       "      <th>yr_level</th>\n",
       "      <th>GPA</th>\n",
       "      <th>gpa_range</th>\n",
       "    </tr>\n",
       "  </thead>\n",
       "  <tbody>\n",
       "    <tr>\n",
       "      <th>count</th>\n",
       "      <td>346.000000</td>\n",
       "      <td>357.000000</td>\n",
       "      <td>357.000000</td>\n",
       "      <td>357.000000</td>\n",
       "    </tr>\n",
       "    <tr>\n",
       "      <th>mean</th>\n",
       "      <td>20.462428</td>\n",
       "      <td>2.851541</td>\n",
       "      <td>1.918353</td>\n",
       "      <td>2.801120</td>\n",
       "    </tr>\n",
       "    <tr>\n",
       "      <th>std</th>\n",
       "      <td>1.520880</td>\n",
       "      <td>0.740353</td>\n",
       "      <td>0.446958</td>\n",
       "      <td>0.829376</td>\n",
       "    </tr>\n",
       "    <tr>\n",
       "      <th>min</th>\n",
       "      <td>10.000000</td>\n",
       "      <td>2.000000</td>\n",
       "      <td>1.197900</td>\n",
       "      <td>1.000000</td>\n",
       "    </tr>\n",
       "    <tr>\n",
       "      <th>25%</th>\n",
       "      <td>20.000000</td>\n",
       "      <td>2.000000</td>\n",
       "      <td>1.586500</td>\n",
       "      <td>2.000000</td>\n",
       "    </tr>\n",
       "    <tr>\n",
       "      <th>50%</th>\n",
       "      <td>20.000000</td>\n",
       "      <td>3.000000</td>\n",
       "      <td>1.855800</td>\n",
       "      <td>3.000000</td>\n",
       "    </tr>\n",
       "    <tr>\n",
       "      <th>75%</th>\n",
       "      <td>21.000000</td>\n",
       "      <td>3.000000</td>\n",
       "      <td>2.148700</td>\n",
       "      <td>3.000000</td>\n",
       "    </tr>\n",
       "    <tr>\n",
       "      <th>max</th>\n",
       "      <td>29.000000</td>\n",
       "      <td>4.000000</td>\n",
       "      <td>4.368400</td>\n",
       "      <td>6.000000</td>\n",
       "    </tr>\n",
       "  </tbody>\n",
       "</table>\n",
       "</div>"
      ],
      "text/plain": [
       "              age    yr_level         GPA   gpa_range\n",
       "count  346.000000  357.000000  357.000000  357.000000\n",
       "mean    20.462428    2.851541    1.918353    2.801120\n",
       "std      1.520880    0.740353    0.446958    0.829376\n",
       "min     10.000000    2.000000    1.197900    1.000000\n",
       "25%     20.000000    2.000000    1.586500    2.000000\n",
       "50%     20.000000    3.000000    1.855800    3.000000\n",
       "75%     21.000000    3.000000    2.148700    3.000000\n",
       "max     29.000000    4.000000    4.368400    6.000000"
      ]
     },
     "execution_count": 5,
     "metadata": {},
     "output_type": "execute_result"
    }
   ],
   "source": [
    "df.describe()"
   ]
  },
  {
   "cell_type": "markdown",
   "id": "0fc12066",
   "metadata": {},
   "source": [
    "# DATA CLEANING"
   ]
  },
  {
   "cell_type": "code",
   "execution_count": 6,
   "id": "30df69c6",
   "metadata": {},
   "outputs": [
    {
     "name": "stdout",
     "output_type": "stream",
     "text": [
      "Sex Attributes : ['F' 'M' nan 'M ' 'F ']\n",
      "  Justification  There are 4 attribute exsting inside Sex. We should replace the values with \n",
      "                             precise input for consistency.\n",
      "\n",
      "Number of missing values of Sex [ 6 ]\n",
      "\n",
      "Updated Attributes inside Sex :  ['F' 'M']\n",
      "\n",
      "Number of missing values of Sex [ 0 ]\n"
     ]
    },
    {
     "data": {
      "text/plain": [
       "F    198\n",
       "M    159\n",
       "Name: sex, dtype: int64"
      ]
     },
     "execution_count": 6,
     "metadata": {},
     "output_type": "execute_result"
    }
   ],
   "source": [
    "#Check Sex consistency\n",
    "print(\"Sex Attributes :\" ,df2.sex.unique())\n",
    "print(\"\"\"  Justification  There are 4 attribute exsting inside Sex. We should replace the values with \n",
    "                             precise input for consistency.\"\"\"\"\" )\n",
    "\n",
    "#checking missing value for sex\n",
    "print(\"\\nNumber of missing values of Sex\",\"[\" ,df2.sex.isna().sum(), \"]\")\n",
    "\n",
    "#Replace Sex value with a precise value 'S' and 'M' and Fill values\n",
    "df[\"sex\"].replace(\"M \", \"M\", inplace = True)\n",
    "df[\"sex\"].replace(\"F \", \"F\", inplace = True)\n",
    "df[\"sex\"].fillna(method=\"ffill\", inplace=True)\n",
    "\n",
    "#Check uniqueness of Sex\n",
    "print(\"\\nUpdated Attributes inside Sex : \" ,df[\"sex\"].unique())\n",
    "\n",
    "print(\"\\nNumber of missing values of Sex\",\"[\" ,df.sex.isna().sum(), \"]\")\n",
    "\n",
    "#Values of each attribute for Sex\n",
    "valueCounts_MaleFemale = df.sex.value_counts()\n",
    "valueCounts_MaleFemale\n"
   ]
  },
  {
   "cell_type": "code",
   "execution_count": 7,
   "id": "8eb7112f",
   "metadata": {},
   "outputs": [
    {
     "data": {
      "text/plain": [
       "array([10., 18., 19., 20., 21., 22., 23., 24., 25., 26., 27., 28., 29.,\n",
       "       nan])"
      ]
     },
     "execution_count": 7,
     "metadata": {},
     "output_type": "execute_result"
    }
   ],
   "source": [
    "#Check uniqueness for age\n",
    "Age_Unique = df.age.sort_values().unique()\n",
    "Age_Unique"
   ]
  },
  {
   "cell_type": "code",
   "execution_count": 8,
   "id": "deb393cd",
   "metadata": {},
   "outputs": [
    {
     "name": "stdout",
     "output_type": "stream",
     "text": [
      "\n",
      "Number of missing value of age :  11  missing\n",
      "\n",
      "Number of missing value of age :  0  missing\n"
     ]
    }
   ],
   "source": [
    "#Check for missing values for age\n",
    "AgeMissing = df2[\"age\"].isna().sum()\n",
    "print(\"\\nNumber of missing value of age : \", AgeMissing, \" missing\")\n",
    "\n",
    "#Filling missing values for age with mean.\n",
    "df.age.fillna(df[\"age\"].mean(), inplace = True)\n",
    "\n",
    "#Check for missing values for age\n",
    "print(\"\\nNumber of missing value of age : \", df[\"age\"].isna().sum(), \" missing\")"
   ]
  },
  {
   "cell_type": "code",
   "execution_count": 9,
   "id": "e9aa3d3b",
   "metadata": {},
   "outputs": [
    {
     "name": "stdout",
     "output_type": "stream",
     "text": [
      "\n",
      "Number of missing value of CAP3 :  0\n"
     ]
    }
   ],
   "source": [
    "#fill missing values for CAP3\n",
    "df[\"CAP3\"].fillna(method=\"ffill\", inplace = True)\n",
    "print(\"\\nNumber of missing value of CAP3 : \", df[\"CAP3\"].isna().sum())"
   ]
  },
  {
   "cell_type": "code",
   "execution_count": 10,
   "id": "539ea41d",
   "metadata": {},
   "outputs": [
    {
     "name": "stdout",
     "output_type": "stream",
     "text": [
      "Dataframe has no missing value\n"
     ]
    },
    {
     "data": {
      "text/plain": [
       "student_id            0\n",
       "age                   0\n",
       "sex                   0\n",
       "course                0\n",
       "yr_level              0\n",
       "socioeconomic_stat    0\n",
       "fam_support           0\n",
       "working_stud          0\n",
       "scholar               0\n",
       "personality_type      0\n",
       "TM1                   0\n",
       "TM2                   0\n",
       "TM3                   0\n",
       "TM4                   0\n",
       "TM5                   0\n",
       "TM6                   0\n",
       "TM7                   0\n",
       "CAP1                  0\n",
       "CAP2                  0\n",
       "CAP3                  0\n",
       "CAP4                  0\n",
       "GSS1                  0\n",
       "GSS2                  0\n",
       "GSS3                  0\n",
       "GSS4                  0\n",
       "GSS5                  0\n",
       "GSS6                  0\n",
       "GSS7                  0\n",
       "EP1                   0\n",
       "EP2                   0\n",
       "EP3                   0\n",
       "EP4                   0\n",
       "EP5                   0\n",
       "EP6                   0\n",
       "NT1                   0\n",
       "NT2                   0\n",
       "NT3                   0\n",
       "desktop               0\n",
       "laptop                0\n",
       "mobile_phone          0\n",
       "tablet                0\n",
       "wifi                  0\n",
       "prepaid-wifi          0\n",
       "cellular_data         0\n",
       "hotspot               0\n",
       "vhigh_speed           0\n",
       "high_speed            0\n",
       "moderate_speed        0\n",
       "light_speed           0\n",
       "GPA                   0\n",
       "gpa_range             0\n",
       "dtype: int64"
      ]
     },
     "execution_count": 10,
     "metadata": {},
     "output_type": "execute_result"
    }
   ],
   "source": [
    "print(\"Dataframe has no missing value\")\n",
    "df.isna().sum()"
   ]
  },
  {
   "cell_type": "code",
   "execution_count": 11,
   "id": "c2dfde7b",
   "metadata": {},
   "outputs": [
    {
     "data": {
      "text/plain": [
       "array(['low', 'lower middle', 'middle', 'upper middle', 'low ',\n",
       "       'Upper but not rich', 'rich', 'lower'], dtype=object)"
      ]
     },
     "execution_count": 11,
     "metadata": {},
     "output_type": "execute_result"
    }
   ],
   "source": [
    "df.socioeconomic_stat.unique()"
   ]
  },
  {
   "cell_type": "markdown",
   "id": "8ae25bf3",
   "metadata": {},
   "source": [
    "# RECONSTRUCTING VALUES INSIDE COLUMNS"
   ]
  },
  {
   "cell_type": "code",
   "execution_count": 12,
   "id": "e0a70bae",
   "metadata": {},
   "outputs": [
    {
     "name": "stdout",
     "output_type": "stream",
     "text": [
      "<class 'pandas.core.frame.DataFrame'>\n",
      "RangeIndex: 357 entries, 0 to 356\n",
      "Data columns (total 51 columns):\n",
      " #   Column              Non-Null Count  Dtype  \n",
      "---  ------              --------------  -----  \n",
      " 0   student_id          357 non-null    object \n",
      " 1   age                 357 non-null    float64\n",
      " 2   sex                 357 non-null    object \n",
      " 3   course              357 non-null    object \n",
      " 4   yr_level            357 non-null    int64  \n",
      " 5   socioeconomic_stat  357 non-null    object \n",
      " 6   fam_support         357 non-null    object \n",
      " 7   working_stud        357 non-null    object \n",
      " 8   scholar             357 non-null    object \n",
      " 9   personality_type    357 non-null    object \n",
      " 10  TM1                 357 non-null    object \n",
      " 11  TM2                 357 non-null    object \n",
      " 12  TM3                 357 non-null    object \n",
      " 13  TM4                 357 non-null    object \n",
      " 14  TM5                 357 non-null    object \n",
      " 15  TM6                 357 non-null    object \n",
      " 16  TM7                 357 non-null    object \n",
      " 17  CAP1                357 non-null    object \n",
      " 18  CAP2                357 non-null    object \n",
      " 19  CAP3                357 non-null    object \n",
      " 20  CAP4                357 non-null    object \n",
      " 21  GSS1                357 non-null    object \n",
      " 22  GSS2                357 non-null    object \n",
      " 23  GSS3                357 non-null    object \n",
      " 24  GSS4                357 non-null    object \n",
      " 25  GSS5                357 non-null    object \n",
      " 26  GSS6                357 non-null    object \n",
      " 27  GSS7                357 non-null    object \n",
      " 28  EP1                 357 non-null    object \n",
      " 29  EP2                 357 non-null    object \n",
      " 30  EP3                 357 non-null    object \n",
      " 31  EP4                 357 non-null    object \n",
      " 32  EP5                 357 non-null    object \n",
      " 33  EP6                 357 non-null    object \n",
      " 34  NT1                 357 non-null    object \n",
      " 35  NT2                 357 non-null    object \n",
      " 36  NT3                 357 non-null    object \n",
      " 37  desktop             357 non-null    object \n",
      " 38  laptop              357 non-null    object \n",
      " 39  mobile_phone        357 non-null    object \n",
      " 40  tablet              357 non-null    object \n",
      " 41  wifi                357 non-null    object \n",
      " 42  prepaid-wifi        357 non-null    object \n",
      " 43  cellular_data       357 non-null    object \n",
      " 44  hotspot             357 non-null    object \n",
      " 45  vhigh_speed         357 non-null    object \n",
      " 46  high_speed          357 non-null    object \n",
      " 47  moderate_speed      357 non-null    object \n",
      " 48  light_speed         357 non-null    object \n",
      " 49  GPA                 357 non-null    float64\n",
      " 50  gpa_range           357 non-null    int64  \n",
      "dtypes: float64(2), int64(2), object(47)\n",
      "memory usage: 142.4+ KB\n"
     ]
    }
   ],
   "source": [
    "df.info()"
   ]
  },
  {
   "cell_type": "code",
   "execution_count": 13,
   "id": "585d8fbb",
   "metadata": {},
   "outputs": [
    {
     "name": "stdout",
     "output_type": "stream",
     "text": [
      " Unique of age :  [19. 20. 21. 25. 18. nan 22. 27. 24. 23. 29. 28. 10. 26.] \n",
      "\n",
      " Unique of sex :  ['F' 'M' nan 'M ' 'F '] \n",
      "\n",
      " Unique of course :  ['CD' 'IT' 'CS' 'SW'] \n",
      "\n",
      " Unique of yr_level:  [2 3 4] \n",
      "\n",
      " Unique of socioeconomic_stat :  ['low' 'lower middle' 'middle' 'upper middle' 'low ' 'Upper but not rich'\n",
      " 'rich' 'lower'] \n",
      "\n",
      " Unique of fam_support :  ['yes' 'no'] \n",
      "\n",
      " Unique of working_stud :  ['no' 'yes'] \n",
      "\n",
      " Unique of scholar :  ['yes' 'no'] \n",
      "\n",
      " Unique of personality_type :  ['ISTJ' 'ESFJ' 'ENTP' 'ISFJ' 'ENFJ' 'INFJ' 'ISFP' 'INTJ' 'ENTJ' 'ESTP'\n",
      " 'INFP' 'ESFP' 'ESTJ' 'ENFP' 'ISTP' 'INTP'] \n",
      "\n",
      " Unique of TM1 :  ['always' 'sometimes' 'never' 'sometime' 'Sometimes' 'sometimesom'\n",
      " 'sometiems'] \n",
      "\n",
      " Unique of TM2 :  ['sometimes' 'never' 'always'] \n",
      "\n",
      " Unique of TM3 :  ['sometimes' 'always' 'never'] \n",
      "\n",
      " Unique of TM4 :  ['always' 'sometimes' 'never'] \n",
      "\n",
      " Unique of TM5 :  ['always' 'sometimes' 'never'] \n",
      "\n",
      " Unique of TM6 :  ['always' 'sometimes' 'never' 'sometime' 'sometimess' 'someyimes'] \n",
      "\n",
      " Unique of TM7 :  ['always' 'sometimes' 'never'] \n",
      "\n",
      " Unique of CAP1 :  ['always' 'sometimes' 'Always' 'never'] \n",
      "\n",
      " Unique of CAP2 :  ['always' 'sometimes' 'Sometimes' 'never' 'sometimesnever' 's'] \n",
      "\n",
      " Unique of CAP3 :  ['always' 'sometimes' 'never' nan] \n",
      "\n",
      " Unique of CAP4 :  ['always' 'sometimes' 'never'] \n",
      "\n",
      " Unique of GSS1 :  ['always' 'sometimes' 'never'] \n",
      "\n",
      " Unique of GSS2 :  ['always' 'sometimes' 'never'] \n",
      "\n",
      " Unique of GSS3 :  ['sometimes' 'always' 'never'] \n",
      "\n",
      " Unique of GSS4 :  ['sometimes' 'always' 'never'] \n",
      "\n",
      " Unique of GSS5 :  ['always' 'sometimes' 'Sometimes' 'never' 'sometimes ' 'sometime'] \n",
      "\n",
      " Unique of GSS6 :  ['always' 'sometimes' 'never'] \n",
      "\n",
      " Unique of GSS7 :  ['always' 'sometimes' 'never'] \n",
      "\n",
      " Unique of EP1 :  ['always' 'sometimes' 'never'] \n",
      "\n",
      " Unique of EP2 :  ['always' 'sometimes' 'never'] \n",
      "\n",
      " Unique of EP3 :  ['sometimes' 'never' 'always'] \n",
      "\n",
      " Unique of EP4 :  ['always' 'sometimes' 'never'] \n",
      "\n",
      " Unique of EP5 :  ['sometimes' 'never' 'always'] \n",
      "\n",
      " Unique of EP6 :  ['never' 'sometimes' 'always'] \n",
      "\n",
      " Unique of NT1 :  ['always' 'sometimes' 'never'] \n",
      "\n",
      " Unique of NT2 :  ['always' 'sometimes' 'never'] \n",
      "\n",
      " Unique of NT3 :  ['always' 'never' 'sometimes'] \n",
      "\n",
      " Unique of desktop :  ['sometimes' 'always' 'never'] \n",
      "\n",
      " Unique of laptop :  ['always' 'sometimes' 'never'] \n",
      "\n",
      " Unique of mobile_phone :  ['always' 'sometimes' 'never'] \n",
      "\n",
      " Unique of tablet :  ['never' 'sometimes' 'an' 'always'] \n",
      "\n",
      " Unique of wifi :  ['never' 'sometimes' 'always'] \n",
      "\n",
      " Unique of prepaid-wifi :  ['always' 'sometimes' 'never' 'Sometimes'] \n",
      "\n",
      " Unique of cellular_data :  ['always' 'sometimes' 'never'] \n",
      "\n",
      " Unique of hotspot :  ['sometimes' 'never' 'always'] \n",
      "\n",
      " Unique of vhigh_speed :  ['always' 'sometimes' 'never' 'Sometimes'] \n",
      "\n",
      " Unique of high_speed :  ['always' 'sometimes' 'never' 'high'] \n",
      "\n",
      " Unique of moderate_speed :  ['sometimes' 'always' 'never' 'moderate'] \n",
      "\n",
      " Unique of light_speed :  ['sometimes' 'always' 'never'] \n",
      "\n"
     ]
    }
   ],
   "source": [
    "#PRINT UNIQUENESS \n",
    "print(\" Unique of age : \", df2[\"age\"].unique(), \"\\n\")\n",
    "print(\" Unique of sex : \", df2[\"sex\"].unique(), \"\\n\")\n",
    "print(\" Unique of course : \", df2[\"course\"].unique(), \"\\n\")\n",
    "print(\" Unique of yr_level: \", df2[\"yr_level\"].unique(), \"\\n\")\n",
    "print(\" Unique of socioeconomic_stat : \", df2[\"socioeconomic_stat\"].unique(), \"\\n\")\n",
    "print(\" Unique of fam_support : \", df2[\"fam_support\"].unique(), \"\\n\")\n",
    "print(\" Unique of working_stud : \", df2[\"working_stud\"].unique(), \"\\n\")\n",
    "print(\" Unique of scholar : \", df2[\"scholar\"].unique(), \"\\n\")\n",
    "print(\" Unique of personality_type : \", df2[\"personality_type\"].unique(), \"\\n\")\n",
    "print(\" Unique of TM1 : \", df2[\"TM1\"].unique(), \"\\n\")\n",
    "print(\" Unique of TM2 : \", df2[\"TM2\"].unique(), \"\\n\")\n",
    "print(\" Unique of TM3 : \", df2[\"TM3\"].unique(), \"\\n\")\n",
    "print(\" Unique of TM4 : \", df2[\"TM4\"].unique(), \"\\n\")\n",
    "print(\" Unique of TM5 : \", df2[\"TM5\"].unique(), \"\\n\")\n",
    "print(\" Unique of TM6 : \", df2[\"TM6\"].unique(), \"\\n\")\n",
    "print(\" Unique of TM7 : \", df2[\"TM7\"].unique(), \"\\n\")\n",
    "print(\" Unique of CAP1 : \", df2[\"CAP1\"].unique(), \"\\n\")\n",
    "print(\" Unique of CAP2 : \", df2[\"CAP2\"].unique(), \"\\n\")\n",
    "print(\" Unique of CAP3 : \", df2[\"CAP3\"].unique(), \"\\n\")\n",
    "print(\" Unique of CAP4 : \", df2[\"CAP4\"].unique(), \"\\n\")\n",
    "print(\" Unique of GSS1 : \", df2[\"GSS1\"].unique(), \"\\n\")\n",
    "print(\" Unique of GSS2 : \", df2[\"GSS2\"].unique(), \"\\n\")\n",
    "print(\" Unique of GSS3 : \", df2[\"GSS3\"].unique(), \"\\n\")\n",
    "print(\" Unique of GSS4 : \", df2[\"GSS4\"].unique(), \"\\n\")\n",
    "print(\" Unique of GSS5 : \", df2[\"GSS5\"].unique(), \"\\n\")\n",
    "print(\" Unique of GSS6 : \", df2[\"GSS6\"].unique(), \"\\n\")\n",
    "print(\" Unique of GSS7 : \", df2[\"GSS7\"].unique(), \"\\n\")\n",
    "print(\" Unique of EP1 : \", df2[\"EP1\"].unique(), \"\\n\")\n",
    "print(\" Unique of EP2 : \", df2[\"EP2\"].unique(), \"\\n\")\n",
    "print(\" Unique of EP3 : \", df2[\"EP3\"].unique(), \"\\n\")\n",
    "print(\" Unique of EP4 : \", df2[\"EP4\"].unique(), \"\\n\")\n",
    "print(\" Unique of EP5 : \", df2[\"EP5\"].unique(), \"\\n\")\n",
    "print(\" Unique of EP6 : \", df2[\"EP6\"].unique(), \"\\n\")\n",
    "print(\" Unique of NT1 : \", df2[\"NT1\"].unique(), \"\\n\")\n",
    "print(\" Unique of NT2 : \", df2[\"NT2\"].unique(), \"\\n\")\n",
    "print(\" Unique of NT3 : \", df2[\"NT3\"].unique(), \"\\n\")\n",
    "print(\" Unique of desktop : \", df2[\"desktop\"].unique(), \"\\n\")\n",
    "print(\" Unique of laptop : \", df2[\"laptop\"].unique(), \"\\n\")\n",
    "print(\" Unique of mobile_phone : \", df2[\"mobile_phone\"].unique(), \"\\n\")\n",
    "print(\" Unique of tablet : \", df2[\"tablet\"].unique(), \"\\n\")\n",
    "print(\" Unique of wifi : \", df2[\"wifi\"].unique(), \"\\n\")\n",
    "print(\" Unique of prepaid-wifi : \", df2[\"prepaid-wifi\"].unique(), \"\\n\")\n",
    "print(\" Unique of cellular_data : \", df2[\"cellular_data\"].unique(), \"\\n\")\n",
    "print(\" Unique of hotspot : \", df2[\"hotspot\"].unique(), \"\\n\")\n",
    "print(\" Unique of vhigh_speed : \", df2[\"vhigh_speed\"].unique(), \"\\n\")\n",
    "print(\" Unique of high_speed : \", df2[\"high_speed\"].unique(), \"\\n\")\n",
    "print(\" Unique of moderate_speed : \", df2[\"moderate_speed\"].unique(), \"\\n\")\n",
    "print(\" Unique of light_speed : \", df2[\"light_speed\"].unique(), \"\\n\")\n"
   ]
  },
  {
   "cell_type": "markdown",
   "id": "47b74cca",
   "metadata": {},
   "source": [
    "       JUSTIFICATION :\n",
    "           Columns that REQUIRES replacing unwanted values;\n",
    "              TM1 -> ['always' 'sometimes' 'never' 'sometime' 'Sometimes' 'sometimesom' 'sometiems'] \n",
    "              TM6 ->  ['always' 'sometimes' 'never' 'sometime' 'sometimess' 'someyimes']\n",
    "              CAP1 -> ['always' 'sometimes' 'Always' 'never'] \n",
    "              CAP2 -> ['always' 'sometimes' 'Sometimes' 'never' 'sometimesnever' 's'] \n",
    "              GSS5 -> ['always' 'sometimes' 'Sometimes' 'never' 'sometimes ' 'sometime'] \n",
    "              tablet -> ['never' 'sometimes' 'an' 'always']\n",
    "              prepaid-wifi -> ['always' 'sometimes' 'never' 'Sometimes'] \n",
    "              vhigh_speed -> ['always' 'sometimes' 'never' 'Sometimes'] \n",
    "              high_speed -> ['always' 'sometimes' 'never' 'high'] \n",
    "              moderate_speed -> ['sometimes' 'always' 'never' 'moderate'] \n",
    "                \n",
    "       **THE FF. INPUTS WAS NOT CONSISTENT**    "
   ]
  },
  {
   "cell_type": "code",
   "execution_count": 14,
   "id": "2816ba08",
   "metadata": {},
   "outputs": [],
   "source": [
    "#Replacing unwanted values\n",
    "df.replace({\n",
    "            'socioeconomic_stat' : {'low ':'low', 'lower':'low'},\n",
    "            'TM1' : {'sometime':'sometimes',\n",
    "                     'Sometimes':'sometimes',\n",
    "                     'sometimesom':'sometimes',\n",
    "                     'sometiems':'sometimes'\n",
    "                    },\n",
    "            'TM6' : {'sometime':'sometimes',\n",
    "                     'sometimess':'sometimes',\n",
    "                     'someyimes':'sometimes'\n",
    "                    },\n",
    "            'CAP1' : {'Always':'always'},\n",
    "            'CAP2' : {'Sometimes':'sometimes',\n",
    "                      'sometimesnever':'sometimes',\n",
    "                      's':'sometimes'\n",
    "                     },\n",
    "            'GSS5' : {'Sometimes':'sometimes',\n",
    "                      'sometimes ':'sometimes', \n",
    "                      'sometime':'sometimes'},\n",
    "            'tablet' : {'an':'always'},\n",
    "            'prepaid-wifi' : {'Sometimes':'sometimes'},\n",
    "            'vhigh_speed' : {'Sometimes':'sometimes'},\n",
    "            'high_speed' : {'high':'always'},\n",
    "            'moderate_speed' : {'moderate':'sometimes'}\n",
    "           }, inplace=True)"
   ]
  },
  {
   "cell_type": "code",
   "execution_count": 15,
   "id": "fcf8de0a",
   "metadata": {},
   "outputs": [
    {
     "name": "stdout",
     "output_type": "stream",
     "text": [
      "Updated Uniqueness of socioeconomic_stat :  ['low' 'lower middle' 'middle' 'upper middle' 'Upper but not rich' 'rich'] \n",
      "\n",
      "Updated Uniqueness of TM1 :  ['always' 'sometimes' 'never'] \n",
      "\n",
      "Updated Uniqueness of TM6 :  ['always' 'sometimes' 'never'] \n",
      "\n",
      "Updated Uniqueness of CAP1 :  ['always' 'sometimes' 'never'] \n",
      "\n",
      "Updated Uniqueness of CAP2 :  ['always' 'sometimes' 'never'] \n",
      "\n",
      "Updated Uniqueness of GSS5 :  ['always' 'sometimes' 'never'] \n",
      "\n",
      "Updated Uniqueness of prepaid-wifi :  ['always' 'sometimes' 'never'] \n",
      "\n",
      "Updated Uniqueness of vhigh_speed :  ['always' 'sometimes' 'never'] \n",
      "\n",
      "Updated Uniqueness of high_speed :  ['always' 'sometimes' 'never'] \n",
      "\n",
      "Updated Uniqueness of moderate_speed :  ['sometimes' 'always' 'never'] \n",
      "\n"
     ]
    }
   ],
   "source": [
    "print(\"Updated Uniqueness of socioeconomic_stat : \", df[\"socioeconomic_stat\"].unique(), \"\\n\")\n",
    "print(\"Updated Uniqueness of TM1 : \", df[\"TM1\"].unique(),\"\\n\")\n",
    "print(\"Updated Uniqueness of TM6 : \", df[\"TM6\"].unique(),\"\\n\")\n",
    "print(\"Updated Uniqueness of CAP1 : \", df[\"CAP1\"].unique(),\"\\n\")\n",
    "print(\"Updated Uniqueness of CAP2 : \", df[\"CAP2\"].unique(),\"\\n\")\n",
    "print(\"Updated Uniqueness of GSS5 : \", df[\"GSS5\"].unique(),\"\\n\")\n",
    "print(\"Updated Uniqueness of prepaid-wifi : \", df[\"prepaid-wifi\"].unique(),\"\\n\")\n",
    "print(\"Updated Uniqueness of vhigh_speed : \", df[\"vhigh_speed\"].unique(),\"\\n\")\n",
    "print(\"Updated Uniqueness of high_speed : \", df[\"high_speed\"].unique(),\"\\n\")\n",
    "print(\"Updated Uniqueness of moderate_speed : \", df[\"moderate_speed\"].unique(),\"\\n\")"
   ]
  },
  {
   "cell_type": "code",
   "execution_count": 16,
   "id": "68a179ba",
   "metadata": {},
   "outputs": [
    {
     "name": "stdout",
     "output_type": "stream",
     "text": [
      "<class 'pandas.core.frame.DataFrame'>\n",
      "RangeIndex: 357 entries, 0 to 356\n",
      "Data columns (total 51 columns):\n",
      " #   Column              Non-Null Count  Dtype  \n",
      "---  ------              --------------  -----  \n",
      " 0   student_id          357 non-null    object \n",
      " 1   age                 357 non-null    float64\n",
      " 2   sex                 357 non-null    object \n",
      " 3   course              357 non-null    object \n",
      " 4   yr_level            357 non-null    int64  \n",
      " 5   socioeconomic_stat  357 non-null    object \n",
      " 6   fam_support         357 non-null    object \n",
      " 7   working_stud        357 non-null    object \n",
      " 8   scholar             357 non-null    object \n",
      " 9   personality_type    357 non-null    object \n",
      " 10  TM1                 357 non-null    object \n",
      " 11  TM2                 357 non-null    object \n",
      " 12  TM3                 357 non-null    object \n",
      " 13  TM4                 357 non-null    object \n",
      " 14  TM5                 357 non-null    object \n",
      " 15  TM6                 357 non-null    object \n",
      " 16  TM7                 357 non-null    object \n",
      " 17  CAP1                357 non-null    object \n",
      " 18  CAP2                357 non-null    object \n",
      " 19  CAP3                357 non-null    object \n",
      " 20  CAP4                357 non-null    object \n",
      " 21  GSS1                357 non-null    object \n",
      " 22  GSS2                357 non-null    object \n",
      " 23  GSS3                357 non-null    object \n",
      " 24  GSS4                357 non-null    object \n",
      " 25  GSS5                357 non-null    object \n",
      " 26  GSS6                357 non-null    object \n",
      " 27  GSS7                357 non-null    object \n",
      " 28  EP1                 357 non-null    object \n",
      " 29  EP2                 357 non-null    object \n",
      " 30  EP3                 357 non-null    object \n",
      " 31  EP4                 357 non-null    object \n",
      " 32  EP5                 357 non-null    object \n",
      " 33  EP6                 357 non-null    object \n",
      " 34  NT1                 357 non-null    object \n",
      " 35  NT2                 357 non-null    object \n",
      " 36  NT3                 357 non-null    object \n",
      " 37  desktop             357 non-null    object \n",
      " 38  laptop              357 non-null    object \n",
      " 39  mobile_phone        357 non-null    object \n",
      " 40  tablet              357 non-null    object \n",
      " 41  wifi                357 non-null    object \n",
      " 42  prepaid-wifi        357 non-null    object \n",
      " 43  cellular_data       357 non-null    object \n",
      " 44  hotspot             357 non-null    object \n",
      " 45  vhigh_speed         357 non-null    object \n",
      " 46  high_speed          357 non-null    object \n",
      " 47  moderate_speed      357 non-null    object \n",
      " 48  light_speed         357 non-null    object \n",
      " 49  GPA                 357 non-null    float64\n",
      " 50  gpa_range           357 non-null    int64  \n",
      "dtypes: float64(2), int64(2), object(47)\n",
      "memory usage: 142.4+ KB\n"
     ]
    }
   ],
   "source": [
    "df.info()"
   ]
  },
  {
   "cell_type": "markdown",
   "id": "add297ec",
   "metadata": {},
   "source": [
    "# TRANSFORMING DATA"
   ]
  },
  {
   "cell_type": "code",
   "execution_count": 17,
   "id": "f80ec1bb",
   "metadata": {},
   "outputs": [],
   "source": [
    "from category_encoders import OrdinalEncoder\n",
    "Select_StudInfo_MBTIFeatures = df.iloc[:, [0,1,2,3,4,9]]\n",
    "maplist = [{'col' : 'sex' , 'mapping' : { 'F' : 0 , 'M' : 1}},\n",
    "           {'col' : 'course' , 'mapping' : { 'CD':1, 'IT':2, 'CS':3 , 'SW':4}},\n",
    "           {'col' : 'personality_type' , 'mapping' : {'ISTJ':0, 'ESFJ':1, 'ENTP':2, 'ISFJ':3, 'ENFJ':4, 'INFJ':5, 'ISFP':6, 'INTJ':7,\n",
    "       'ENTJ':8, 'ESTP':9, 'INFP':10, 'ESFP':11, 'ESTJ':12, 'ENFP':13, 'ISTP':14, 'INTP':15}}]\n",
    "oeStudentInfo = OrdinalEncoder(mapping=maplist)\n",
    "StudInfo_DF = oeStudentInfo.fit_transform(Select_StudInfo_MBTIFeatures)"
   ]
  },
  {
   "cell_type": "code",
   "execution_count": 18,
   "id": "ad68a720",
   "metadata": {},
   "outputs": [
    {
     "data": {
      "text/plain": [
       "array([ 0,  1,  2,  3,  4,  5,  6,  7,  8,  9, 10, 11, 12, 13, 14, 15])"
      ]
     },
     "execution_count": 18,
     "metadata": {},
     "output_type": "execute_result"
    }
   ],
   "source": [
    "StudInfo_DF.personality_type.unique()"
   ]
  },
  {
   "cell_type": "code",
   "execution_count": 19,
   "id": "f9abf26c",
   "metadata": {},
   "outputs": [],
   "source": [
    "Select_demographicFeatures = df.iloc[:, [5, 6, 7, 8]]\n",
    "maplist = [{'col' : 'socioeconomic_stat', \n",
    "            'mapping' : {'low' : 1 ,'lower middle' : 2 ,'middle' : 3, 'upper middle': 4, 'Upper but not rich' : 5,  'rich' :6}},\n",
    "           {'col' : 'fam_support', \n",
    "                    'mapping' : {'yes' : 1, 'no' : 0}},\n",
    "           {'col' : 'scholar',\n",
    "                    'mapping' : {'yes' : 1, 'no' : 0}},\n",
    "           {'col' : 'working_stud', \n",
    "                    'mapping' : {'yes' : 1, 'no' : 0}}]\n",
    "oeDic = OrdinalEncoder(mapping=maplist)\n",
    "DiFeatures_DF = oeDic.fit_transform(Select_demographicFeatures)"
   ]
  },
  {
   "cell_type": "code",
   "execution_count": 20,
   "id": "5c0223ed",
   "metadata": {},
   "outputs": [],
   "source": [
    "Select_Tri_ValFeatures = df.iloc[:, 10 : 51]\n",
    "maplist = [{'col' : 'TM1', 'mapping' : {'always' : 1, 'sometimes' : 2, 'never' : 3}},\n",
    "           {'col' : 'TM2', 'mapping' : {'always' : 1, 'sometimes' : 2, 'never' : 3}},\n",
    "           {'col' : 'TM3', 'mapping' : {'always' : 1, 'sometimes' : 2, 'never' : 3}},\n",
    "           {'col' : 'TM4', 'mapping' : {'always' : 1, 'sometimes' : 2, 'never' : 3}},\n",
    "           {'col' : 'TM5', 'mapping' : {'always' : 1, 'sometimes' : 2, 'never' : 3}},\n",
    "           {'col' : 'TM6', 'mapping' : {'always' : 1, 'sometimes' : 2, 'never' : 3}},\n",
    "           {'col' : 'TM7', 'mapping' : {'always' : 1, 'sometimes' : 2, 'never' : 3}},\n",
    "           {'col' : 'CAP1', 'mapping' : {'always' : 1, 'sometimes' : 2, 'never' : 3}},\n",
    "           {'col' : 'CAP2', 'mapping' : {'always' : 1, 'sometimes' : 2, 'never' : 3}},\n",
    "           {'col' : 'CAP3', 'mapping' : {'always' : 1, 'sometimes' : 2, 'never' : 3}},\n",
    "           {'col' : 'CAP4', 'mapping' : {'always' : 1, 'sometimes' : 2, 'never' : 3}},\n",
    "           {'col' : 'GSS1', 'mapping' : {'always' : 1, 'sometimes' : 2, 'never' : 3}},\n",
    "           {'col' : 'GSS2', 'mapping' : {'always' : 1, 'sometimes' : 2, 'never' : 3}},\n",
    "           {'col' : 'GSS3', 'mapping' : {'always' : 1, 'sometimes' : 2, 'never' : 3}},\n",
    "           {'col' : 'GSS4', 'mapping' : {'always' : 1, 'sometimes' : 2, 'never' : 3}},\n",
    "           {'col' : 'GSS5', 'mapping' : {'always' : 1, 'sometimes' : 2, 'never' : 3}},\n",
    "           {'col' : 'GSS6', 'mapping' : {'always' : 1, 'sometimes' : 2, 'never' : 3}},\n",
    "           {'col' : 'GSS7', 'mapping' : {'always' : 1, 'sometimes' : 2, 'never' : 3}},\n",
    "           {'col' : 'EP1', 'mapping' : {'always' : 1, 'sometimes' : 2, 'never' : 3}},\n",
    "           {'col' : 'EP2', 'mapping' : {'always' : 1, 'sometimes' : 2, 'never' : 3}},\n",
    "           {'col' : 'EP3', 'mapping' : {'always' : 1, 'sometimes' : 2, 'never' : 3}},\n",
    "           {'col' : 'EP4', 'mapping' : {'always' : 1, 'sometimes' : 2, 'never' : 3}},\n",
    "           {'col' : 'EP5', 'mapping' : {'always' : 1, 'sometimes' : 2, 'never' : 3}},\n",
    "           {'col' : 'EP6', 'mapping' : {'always' : 1, 'sometimes' : 2, 'never' : 3}},\n",
    "           {'col' : 'NT1', 'mapping' : {'always' : 1, 'sometimes' : 2, 'never' : 3}},\n",
    "           {'col' : 'NT2', 'mapping' : {'always' : 1, 'sometimes' : 2, 'never' : 3}},\n",
    "           {'col' : 'NT3', 'mapping' : {'always' : 1, 'sometimes' : 2, 'never' : 3}},\n",
    "           {'col' : 'desktop', 'mapping' : {'always' : 1, 'sometimes' : 2, 'never' : 3}},\n",
    "           {'col' : 'laptop', 'mapping' : {'always' : 1, 'sometimes' : 2, 'never' : 3}},\n",
    "           {'col' : 'mobile_phone', 'mapping' : {'always' : 1, 'sometimes' : 2, 'never' : 3}},\n",
    "           {'col' : 'tablet', 'mapping' : {'always' : 1, 'sometimes' : 2, 'never' : 3}},\n",
    "           {'col' : 'wifi', 'mapping' : {'always' : 1, 'sometimes' : 2, 'never' : 3}},\n",
    "           {'col' : 'prepaid-wifi', 'mapping' : {'always' : 1, 'sometimes' : 2, 'never' : 3}},\n",
    "           {'col' : 'cellular_data', 'mapping' : {'always' : 1, 'sometimes' : 2, 'never' : 3}},\n",
    "           {'col' : 'hotspot', 'mapping' : {'always' : 1, 'sometimes' : 2, 'never' : 3}},\n",
    "           {'col' : 'vhigh_speed', 'mapping' : {'always' : 1, 'sometimes' : 2, 'never' : 3}},\n",
    "           {'col' : 'high_speed', 'mapping' : {'always' : 1, 'sometimes' : 2, 'never' : 3}},\n",
    "           {'col' : 'moderate_speed', 'mapping' : {'always' : 1, 'sometimes' : 2, 'never' : 3}},\n",
    "           {'col' : 'light_speed', 'mapping' : {'always' : 1, 'sometimes' : 2, 'never' : 3}}]\n",
    "\n",
    "oeTri = OrdinalEncoder(mapping=maplist)\n",
    "TriFeatures_DF = oeTri.fit_transform(Select_Tri_ValFeatures)"
   ]
  },
  {
   "cell_type": "markdown",
   "id": "082097ec",
   "metadata": {},
   "source": [
    "# DATAFRAME CONCATINATION"
   ]
  },
  {
   "cell_type": "code",
   "execution_count": 21,
   "id": "2509d4d4",
   "metadata": {},
   "outputs": [
    {
     "data": {
      "text/html": [
       "<div>\n",
       "<style scoped>\n",
       "    .dataframe tbody tr th:only-of-type {\n",
       "        vertical-align: middle;\n",
       "    }\n",
       "\n",
       "    .dataframe tbody tr th {\n",
       "        vertical-align: top;\n",
       "    }\n",
       "\n",
       "    .dataframe thead th {\n",
       "        text-align: right;\n",
       "    }\n",
       "</style>\n",
       "<table border=\"1\" class=\"dataframe\">\n",
       "  <thead>\n",
       "    <tr style=\"text-align: right;\">\n",
       "      <th></th>\n",
       "      <th>student_id</th>\n",
       "      <th>age</th>\n",
       "      <th>sex</th>\n",
       "      <th>course</th>\n",
       "      <th>yr_level</th>\n",
       "      <th>personality_type</th>\n",
       "      <th>socioeconomic_stat</th>\n",
       "      <th>fam_support</th>\n",
       "      <th>working_stud</th>\n",
       "      <th>scholar</th>\n",
       "      <th>...</th>\n",
       "      <th>wifi</th>\n",
       "      <th>prepaid-wifi</th>\n",
       "      <th>cellular_data</th>\n",
       "      <th>hotspot</th>\n",
       "      <th>vhigh_speed</th>\n",
       "      <th>high_speed</th>\n",
       "      <th>moderate_speed</th>\n",
       "      <th>light_speed</th>\n",
       "      <th>GPA</th>\n",
       "      <th>gpa_range</th>\n",
       "    </tr>\n",
       "  </thead>\n",
       "  <tbody>\n",
       "    <tr>\n",
       "      <th>0</th>\n",
       "      <td>2021-01592</td>\n",
       "      <td>19.0</td>\n",
       "      <td>0</td>\n",
       "      <td>1</td>\n",
       "      <td>2</td>\n",
       "      <td>0</td>\n",
       "      <td>1</td>\n",
       "      <td>1</td>\n",
       "      <td>0</td>\n",
       "      <td>1</td>\n",
       "      <td>...</td>\n",
       "      <td>3</td>\n",
       "      <td>1</td>\n",
       "      <td>1</td>\n",
       "      <td>2</td>\n",
       "      <td>1</td>\n",
       "      <td>1</td>\n",
       "      <td>2</td>\n",
       "      <td>2</td>\n",
       "      <td>1.5588</td>\n",
       "      <td>2</td>\n",
       "    </tr>\n",
       "    <tr>\n",
       "      <th>1</th>\n",
       "      <td>2021-02910</td>\n",
       "      <td>19.0</td>\n",
       "      <td>0</td>\n",
       "      <td>1</td>\n",
       "      <td>2</td>\n",
       "      <td>1</td>\n",
       "      <td>2</td>\n",
       "      <td>1</td>\n",
       "      <td>0</td>\n",
       "      <td>0</td>\n",
       "      <td>...</td>\n",
       "      <td>2</td>\n",
       "      <td>2</td>\n",
       "      <td>2</td>\n",
       "      <td>2</td>\n",
       "      <td>2</td>\n",
       "      <td>2</td>\n",
       "      <td>2</td>\n",
       "      <td>2</td>\n",
       "      <td>1.3824</td>\n",
       "      <td>2</td>\n",
       "    </tr>\n",
       "    <tr>\n",
       "      <th>2</th>\n",
       "      <td>2021-02862</td>\n",
       "      <td>19.0</td>\n",
       "      <td>0</td>\n",
       "      <td>1</td>\n",
       "      <td>2</td>\n",
       "      <td>2</td>\n",
       "      <td>1</td>\n",
       "      <td>1</td>\n",
       "      <td>0</td>\n",
       "      <td>0</td>\n",
       "      <td>...</td>\n",
       "      <td>1</td>\n",
       "      <td>3</td>\n",
       "      <td>1</td>\n",
       "      <td>2</td>\n",
       "      <td>2</td>\n",
       "      <td>1</td>\n",
       "      <td>2</td>\n",
       "      <td>2</td>\n",
       "      <td>1.5882</td>\n",
       "      <td>2</td>\n",
       "    </tr>\n",
       "    <tr>\n",
       "      <th>3</th>\n",
       "      <td>2021-02890</td>\n",
       "      <td>19.0</td>\n",
       "      <td>0</td>\n",
       "      <td>1</td>\n",
       "      <td>2</td>\n",
       "      <td>1</td>\n",
       "      <td>2</td>\n",
       "      <td>1</td>\n",
       "      <td>1</td>\n",
       "      <td>0</td>\n",
       "      <td>...</td>\n",
       "      <td>1</td>\n",
       "      <td>2</td>\n",
       "      <td>3</td>\n",
       "      <td>2</td>\n",
       "      <td>2</td>\n",
       "      <td>2</td>\n",
       "      <td>1</td>\n",
       "      <td>2</td>\n",
       "      <td>1.5000</td>\n",
       "      <td>2</td>\n",
       "    </tr>\n",
       "    <tr>\n",
       "      <th>4</th>\n",
       "      <td>2020-04136</td>\n",
       "      <td>20.0</td>\n",
       "      <td>0</td>\n",
       "      <td>1</td>\n",
       "      <td>2</td>\n",
       "      <td>3</td>\n",
       "      <td>1</td>\n",
       "      <td>1</td>\n",
       "      <td>0</td>\n",
       "      <td>0</td>\n",
       "      <td>...</td>\n",
       "      <td>2</td>\n",
       "      <td>3</td>\n",
       "      <td>2</td>\n",
       "      <td>2</td>\n",
       "      <td>3</td>\n",
       "      <td>2</td>\n",
       "      <td>2</td>\n",
       "      <td>1</td>\n",
       "      <td>1.4347</td>\n",
       "      <td>2</td>\n",
       "    </tr>\n",
       "    <tr>\n",
       "      <th>...</th>\n",
       "      <td>...</td>\n",
       "      <td>...</td>\n",
       "      <td>...</td>\n",
       "      <td>...</td>\n",
       "      <td>...</td>\n",
       "      <td>...</td>\n",
       "      <td>...</td>\n",
       "      <td>...</td>\n",
       "      <td>...</td>\n",
       "      <td>...</td>\n",
       "      <td>...</td>\n",
       "      <td>...</td>\n",
       "      <td>...</td>\n",
       "      <td>...</td>\n",
       "      <td>...</td>\n",
       "      <td>...</td>\n",
       "      <td>...</td>\n",
       "      <td>...</td>\n",
       "      <td>...</td>\n",
       "      <td>...</td>\n",
       "      <td>...</td>\n",
       "    </tr>\n",
       "    <tr>\n",
       "      <th>352</th>\n",
       "      <td>2021-00476</td>\n",
       "      <td>21.0</td>\n",
       "      <td>0</td>\n",
       "      <td>4</td>\n",
       "      <td>2</td>\n",
       "      <td>6</td>\n",
       "      <td>2</td>\n",
       "      <td>1</td>\n",
       "      <td>0</td>\n",
       "      <td>0</td>\n",
       "      <td>...</td>\n",
       "      <td>1</td>\n",
       "      <td>2</td>\n",
       "      <td>3</td>\n",
       "      <td>3</td>\n",
       "      <td>2</td>\n",
       "      <td>2</td>\n",
       "      <td>2</td>\n",
       "      <td>3</td>\n",
       "      <td>1.9559</td>\n",
       "      <td>3</td>\n",
       "    </tr>\n",
       "    <tr>\n",
       "      <th>353</th>\n",
       "      <td>2021-01868</td>\n",
       "      <td>20.0</td>\n",
       "      <td>0</td>\n",
       "      <td>4</td>\n",
       "      <td>2</td>\n",
       "      <td>6</td>\n",
       "      <td>1</td>\n",
       "      <td>1</td>\n",
       "      <td>1</td>\n",
       "      <td>0</td>\n",
       "      <td>...</td>\n",
       "      <td>1</td>\n",
       "      <td>3</td>\n",
       "      <td>2</td>\n",
       "      <td>2</td>\n",
       "      <td>2</td>\n",
       "      <td>1</td>\n",
       "      <td>2</td>\n",
       "      <td>3</td>\n",
       "      <td>1.5294</td>\n",
       "      <td>2</td>\n",
       "    </tr>\n",
       "    <tr>\n",
       "      <th>354</th>\n",
       "      <td>2021-01891</td>\n",
       "      <td>19.0</td>\n",
       "      <td>0</td>\n",
       "      <td>4</td>\n",
       "      <td>2</td>\n",
       "      <td>4</td>\n",
       "      <td>1</td>\n",
       "      <td>1</td>\n",
       "      <td>0</td>\n",
       "      <td>0</td>\n",
       "      <td>...</td>\n",
       "      <td>1</td>\n",
       "      <td>3</td>\n",
       "      <td>1</td>\n",
       "      <td>3</td>\n",
       "      <td>1</td>\n",
       "      <td>2</td>\n",
       "      <td>2</td>\n",
       "      <td>2</td>\n",
       "      <td>1.7647</td>\n",
       "      <td>3</td>\n",
       "    </tr>\n",
       "    <tr>\n",
       "      <th>355</th>\n",
       "      <td>2021-01897</td>\n",
       "      <td>19.0</td>\n",
       "      <td>0</td>\n",
       "      <td>4</td>\n",
       "      <td>2</td>\n",
       "      <td>6</td>\n",
       "      <td>1</td>\n",
       "      <td>1</td>\n",
       "      <td>0</td>\n",
       "      <td>0</td>\n",
       "      <td>...</td>\n",
       "      <td>1</td>\n",
       "      <td>1</td>\n",
       "      <td>2</td>\n",
       "      <td>3</td>\n",
       "      <td>1</td>\n",
       "      <td>1</td>\n",
       "      <td>2</td>\n",
       "      <td>3</td>\n",
       "      <td>1.4853</td>\n",
       "      <td>2</td>\n",
       "    </tr>\n",
       "    <tr>\n",
       "      <th>356</th>\n",
       "      <td>2021-02472</td>\n",
       "      <td>21.0</td>\n",
       "      <td>1</td>\n",
       "      <td>4</td>\n",
       "      <td>2</td>\n",
       "      <td>11</td>\n",
       "      <td>1</td>\n",
       "      <td>0</td>\n",
       "      <td>0</td>\n",
       "      <td>0</td>\n",
       "      <td>...</td>\n",
       "      <td>3</td>\n",
       "      <td>2</td>\n",
       "      <td>1</td>\n",
       "      <td>2</td>\n",
       "      <td>2</td>\n",
       "      <td>2</td>\n",
       "      <td>2</td>\n",
       "      <td>2</td>\n",
       "      <td>1.4265</td>\n",
       "      <td>2</td>\n",
       "    </tr>\n",
       "  </tbody>\n",
       "</table>\n",
       "<p>357 rows × 51 columns</p>\n",
       "</div>"
      ],
      "text/plain": [
       "     student_id   age  sex  course  yr_level  personality_type  \\\n",
       "0    2021-01592  19.0    0       1         2                 0   \n",
       "1    2021-02910  19.0    0       1         2                 1   \n",
       "2    2021-02862  19.0    0       1         2                 2   \n",
       "3    2021-02890  19.0    0       1         2                 1   \n",
       "4    2020-04136  20.0    0       1         2                 3   \n",
       "..          ...   ...  ...     ...       ...               ...   \n",
       "352  2021-00476  21.0    0       4         2                 6   \n",
       "353  2021-01868  20.0    0       4         2                 6   \n",
       "354  2021-01891  19.0    0       4         2                 4   \n",
       "355  2021-01897  19.0    0       4         2                 6   \n",
       "356  2021-02472  21.0    1       4         2                11   \n",
       "\n",
       "     socioeconomic_stat  fam_support  working_stud  scholar  ...  wifi  \\\n",
       "0                     1            1             0        1  ...     3   \n",
       "1                     2            1             0        0  ...     2   \n",
       "2                     1            1             0        0  ...     1   \n",
       "3                     2            1             1        0  ...     1   \n",
       "4                     1            1             0        0  ...     2   \n",
       "..                  ...          ...           ...      ...  ...   ...   \n",
       "352                   2            1             0        0  ...     1   \n",
       "353                   1            1             1        0  ...     1   \n",
       "354                   1            1             0        0  ...     1   \n",
       "355                   1            1             0        0  ...     1   \n",
       "356                   1            0             0        0  ...     3   \n",
       "\n",
       "     prepaid-wifi  cellular_data  hotspot  vhigh_speed  high_speed  \\\n",
       "0               1              1        2            1           1   \n",
       "1               2              2        2            2           2   \n",
       "2               3              1        2            2           1   \n",
       "3               2              3        2            2           2   \n",
       "4               3              2        2            3           2   \n",
       "..            ...            ...      ...          ...         ...   \n",
       "352             2              3        3            2           2   \n",
       "353             3              2        2            2           1   \n",
       "354             3              1        3            1           2   \n",
       "355             1              2        3            1           1   \n",
       "356             2              1        2            2           2   \n",
       "\n",
       "     moderate_speed  light_speed     GPA  gpa_range  \n",
       "0                 2            2  1.5588          2  \n",
       "1                 2            2  1.3824          2  \n",
       "2                 2            2  1.5882          2  \n",
       "3                 1            2  1.5000          2  \n",
       "4                 2            1  1.4347          2  \n",
       "..              ...          ...     ...        ...  \n",
       "352               2            3  1.9559          3  \n",
       "353               2            3  1.5294          2  \n",
       "354               2            2  1.7647          3  \n",
       "355               2            3  1.4853          2  \n",
       "356               2            2  1.4265          2  \n",
       "\n",
       "[357 rows x 51 columns]"
      ]
     },
     "execution_count": 21,
     "metadata": {},
     "output_type": "execute_result"
    }
   ],
   "source": [
    "newDF =  pd.concat([StudInfo_DF, DiFeatures_DF,TriFeatures_DF], axis=1)\n",
    "newDF"
   ]
  },
  {
   "cell_type": "code",
   "execution_count": 22,
   "id": "4f052170",
   "metadata": {},
   "outputs": [
    {
     "data": {
      "text/plain": [
       "array([ 0,  1,  2,  3,  4,  5,  6,  7,  8,  9, 10, 11, 12, 13, 14, 15])"
      ]
     },
     "execution_count": 22,
     "metadata": {},
     "output_type": "execute_result"
    }
   ],
   "source": [
    "newDF.personality_type.unique()"
   ]
  },
  {
   "cell_type": "code",
   "execution_count": 23,
   "id": "8010af55",
   "metadata": {},
   "outputs": [],
   "source": [
    "#newDF = newDF.join(df_pt)\n",
    "#newDF"
   ]
  },
  {
   "cell_type": "code",
   "execution_count": 24,
   "id": "bf9bca94",
   "metadata": {},
   "outputs": [
    {
     "name": "stdout",
     "output_type": "stream",
     "text": [
      "<class 'pandas.core.frame.DataFrame'>\n",
      "RangeIndex: 357 entries, 0 to 356\n",
      "Data columns (total 51 columns):\n",
      " #   Column              Non-Null Count  Dtype  \n",
      "---  ------              --------------  -----  \n",
      " 0   student_id          357 non-null    object \n",
      " 1   age                 357 non-null    float64\n",
      " 2   sex                 357 non-null    int32  \n",
      " 3   course              357 non-null    int32  \n",
      " 4   yr_level            357 non-null    int64  \n",
      " 5   personality_type    357 non-null    int32  \n",
      " 6   socioeconomic_stat  357 non-null    int32  \n",
      " 7   fam_support         357 non-null    int32  \n",
      " 8   working_stud        357 non-null    int32  \n",
      " 9   scholar             357 non-null    int32  \n",
      " 10  TM1                 357 non-null    int32  \n",
      " 11  TM2                 357 non-null    int32  \n",
      " 12  TM3                 357 non-null    int32  \n",
      " 13  TM4                 357 non-null    int32  \n",
      " 14  TM5                 357 non-null    int32  \n",
      " 15  TM6                 357 non-null    int32  \n",
      " 16  TM7                 357 non-null    int32  \n",
      " 17  CAP1                357 non-null    int32  \n",
      " 18  CAP2                357 non-null    int32  \n",
      " 19  CAP3                357 non-null    int32  \n",
      " 20  CAP4                357 non-null    int32  \n",
      " 21  GSS1                357 non-null    int32  \n",
      " 22  GSS2                357 non-null    int32  \n",
      " 23  GSS3                357 non-null    int32  \n",
      " 24  GSS4                357 non-null    int32  \n",
      " 25  GSS5                357 non-null    int32  \n",
      " 26  GSS6                357 non-null    int32  \n",
      " 27  GSS7                357 non-null    int32  \n",
      " 28  EP1                 357 non-null    int32  \n",
      " 29  EP2                 357 non-null    int32  \n",
      " 30  EP3                 357 non-null    int32  \n",
      " 31  EP4                 357 non-null    int32  \n",
      " 32  EP5                 357 non-null    int32  \n",
      " 33  EP6                 357 non-null    int32  \n",
      " 34  NT1                 357 non-null    int32  \n",
      " 35  NT2                 357 non-null    int32  \n",
      " 36  NT3                 357 non-null    int32  \n",
      " 37  desktop             357 non-null    int32  \n",
      " 38  laptop              357 non-null    int32  \n",
      " 39  mobile_phone        357 non-null    int32  \n",
      " 40  tablet              357 non-null    int32  \n",
      " 41  wifi                357 non-null    int32  \n",
      " 42  prepaid-wifi        357 non-null    int32  \n",
      " 43  cellular_data       357 non-null    int32  \n",
      " 44  hotspot             357 non-null    int32  \n",
      " 45  vhigh_speed         357 non-null    int32  \n",
      " 46  high_speed          357 non-null    int32  \n",
      " 47  moderate_speed      357 non-null    int32  \n",
      " 48  light_speed         357 non-null    int32  \n",
      " 49  GPA                 357 non-null    float64\n",
      " 50  gpa_range           357 non-null    int64  \n",
      "dtypes: float64(2), int32(46), int64(2), object(1)\n",
      "memory usage: 78.2+ KB\n"
     ]
    }
   ],
   "source": [
    "newDF.info()"
   ]
  },
  {
   "cell_type": "code",
   "execution_count": 25,
   "id": "7e48ffac",
   "metadata": {},
   "outputs": [
    {
     "data": {
      "text/html": [
       "<div>\n",
       "<style scoped>\n",
       "    .dataframe tbody tr th:only-of-type {\n",
       "        vertical-align: middle;\n",
       "    }\n",
       "\n",
       "    .dataframe tbody tr th {\n",
       "        vertical-align: top;\n",
       "    }\n",
       "\n",
       "    .dataframe thead th {\n",
       "        text-align: right;\n",
       "    }\n",
       "</style>\n",
       "<table border=\"1\" class=\"dataframe\">\n",
       "  <thead>\n",
       "    <tr style=\"text-align: right;\">\n",
       "      <th></th>\n",
       "      <th>student_id</th>\n",
       "      <th>age</th>\n",
       "      <th>sex</th>\n",
       "      <th>course</th>\n",
       "      <th>yr_level</th>\n",
       "      <th>personality_type</th>\n",
       "      <th>socioeconomic_stat</th>\n",
       "      <th>fam_support</th>\n",
       "      <th>working_stud</th>\n",
       "      <th>scholar</th>\n",
       "      <th>...</th>\n",
       "      <th>wifi</th>\n",
       "      <th>prepaid-wifi</th>\n",
       "      <th>cellular_data</th>\n",
       "      <th>hotspot</th>\n",
       "      <th>vhigh_speed</th>\n",
       "      <th>high_speed</th>\n",
       "      <th>moderate_speed</th>\n",
       "      <th>light_speed</th>\n",
       "      <th>GPA</th>\n",
       "      <th>gpa_range</th>\n",
       "    </tr>\n",
       "  </thead>\n",
       "  <tbody>\n",
       "    <tr>\n",
       "      <th>0</th>\n",
       "      <td>2021-01592</td>\n",
       "      <td>19.0</td>\n",
       "      <td>0</td>\n",
       "      <td>1</td>\n",
       "      <td>2</td>\n",
       "      <td>0</td>\n",
       "      <td>1</td>\n",
       "      <td>1</td>\n",
       "      <td>0</td>\n",
       "      <td>1</td>\n",
       "      <td>...</td>\n",
       "      <td>3</td>\n",
       "      <td>1</td>\n",
       "      <td>1</td>\n",
       "      <td>2</td>\n",
       "      <td>1</td>\n",
       "      <td>1</td>\n",
       "      <td>2</td>\n",
       "      <td>2</td>\n",
       "      <td>1.5588</td>\n",
       "      <td>2</td>\n",
       "    </tr>\n",
       "    <tr>\n",
       "      <th>1</th>\n",
       "      <td>2021-02910</td>\n",
       "      <td>19.0</td>\n",
       "      <td>0</td>\n",
       "      <td>1</td>\n",
       "      <td>2</td>\n",
       "      <td>1</td>\n",
       "      <td>2</td>\n",
       "      <td>1</td>\n",
       "      <td>0</td>\n",
       "      <td>0</td>\n",
       "      <td>...</td>\n",
       "      <td>2</td>\n",
       "      <td>2</td>\n",
       "      <td>2</td>\n",
       "      <td>2</td>\n",
       "      <td>2</td>\n",
       "      <td>2</td>\n",
       "      <td>2</td>\n",
       "      <td>2</td>\n",
       "      <td>1.3824</td>\n",
       "      <td>2</td>\n",
       "    </tr>\n",
       "    <tr>\n",
       "      <th>2</th>\n",
       "      <td>2021-02862</td>\n",
       "      <td>19.0</td>\n",
       "      <td>0</td>\n",
       "      <td>1</td>\n",
       "      <td>2</td>\n",
       "      <td>2</td>\n",
       "      <td>1</td>\n",
       "      <td>1</td>\n",
       "      <td>0</td>\n",
       "      <td>0</td>\n",
       "      <td>...</td>\n",
       "      <td>1</td>\n",
       "      <td>3</td>\n",
       "      <td>1</td>\n",
       "      <td>2</td>\n",
       "      <td>2</td>\n",
       "      <td>1</td>\n",
       "      <td>2</td>\n",
       "      <td>2</td>\n",
       "      <td>1.5882</td>\n",
       "      <td>2</td>\n",
       "    </tr>\n",
       "    <tr>\n",
       "      <th>3</th>\n",
       "      <td>2021-02890</td>\n",
       "      <td>19.0</td>\n",
       "      <td>0</td>\n",
       "      <td>1</td>\n",
       "      <td>2</td>\n",
       "      <td>1</td>\n",
       "      <td>2</td>\n",
       "      <td>1</td>\n",
       "      <td>1</td>\n",
       "      <td>0</td>\n",
       "      <td>...</td>\n",
       "      <td>1</td>\n",
       "      <td>2</td>\n",
       "      <td>3</td>\n",
       "      <td>2</td>\n",
       "      <td>2</td>\n",
       "      <td>2</td>\n",
       "      <td>1</td>\n",
       "      <td>2</td>\n",
       "      <td>1.5000</td>\n",
       "      <td>2</td>\n",
       "    </tr>\n",
       "    <tr>\n",
       "      <th>4</th>\n",
       "      <td>2020-04136</td>\n",
       "      <td>20.0</td>\n",
       "      <td>0</td>\n",
       "      <td>1</td>\n",
       "      <td>2</td>\n",
       "      <td>3</td>\n",
       "      <td>1</td>\n",
       "      <td>1</td>\n",
       "      <td>0</td>\n",
       "      <td>0</td>\n",
       "      <td>...</td>\n",
       "      <td>2</td>\n",
       "      <td>3</td>\n",
       "      <td>2</td>\n",
       "      <td>2</td>\n",
       "      <td>3</td>\n",
       "      <td>2</td>\n",
       "      <td>2</td>\n",
       "      <td>1</td>\n",
       "      <td>1.4347</td>\n",
       "      <td>2</td>\n",
       "    </tr>\n",
       "    <tr>\n",
       "      <th>5</th>\n",
       "      <td>2020-02817</td>\n",
       "      <td>21.0</td>\n",
       "      <td>0</td>\n",
       "      <td>1</td>\n",
       "      <td>2</td>\n",
       "      <td>4</td>\n",
       "      <td>1</td>\n",
       "      <td>1</td>\n",
       "      <td>0</td>\n",
       "      <td>0</td>\n",
       "      <td>...</td>\n",
       "      <td>1</td>\n",
       "      <td>3</td>\n",
       "      <td>1</td>\n",
       "      <td>3</td>\n",
       "      <td>2</td>\n",
       "      <td>2</td>\n",
       "      <td>2</td>\n",
       "      <td>1</td>\n",
       "      <td>2.2500</td>\n",
       "      <td>4</td>\n",
       "    </tr>\n",
       "    <tr>\n",
       "      <th>6</th>\n",
       "      <td>2021-02734</td>\n",
       "      <td>19.0</td>\n",
       "      <td>0</td>\n",
       "      <td>1</td>\n",
       "      <td>2</td>\n",
       "      <td>0</td>\n",
       "      <td>1</td>\n",
       "      <td>1</td>\n",
       "      <td>0</td>\n",
       "      <td>0</td>\n",
       "      <td>...</td>\n",
       "      <td>2</td>\n",
       "      <td>3</td>\n",
       "      <td>2</td>\n",
       "      <td>3</td>\n",
       "      <td>3</td>\n",
       "      <td>3</td>\n",
       "      <td>2</td>\n",
       "      <td>3</td>\n",
       "      <td>1.5000</td>\n",
       "      <td>2</td>\n",
       "    </tr>\n",
       "    <tr>\n",
       "      <th>7</th>\n",
       "      <td>2021-01674</td>\n",
       "      <td>21.0</td>\n",
       "      <td>0</td>\n",
       "      <td>1</td>\n",
       "      <td>2</td>\n",
       "      <td>5</td>\n",
       "      <td>1</td>\n",
       "      <td>0</td>\n",
       "      <td>1</td>\n",
       "      <td>0</td>\n",
       "      <td>...</td>\n",
       "      <td>1</td>\n",
       "      <td>2</td>\n",
       "      <td>2</td>\n",
       "      <td>2</td>\n",
       "      <td>2</td>\n",
       "      <td>2</td>\n",
       "      <td>2</td>\n",
       "      <td>2</td>\n",
       "      <td>1.5294</td>\n",
       "      <td>2</td>\n",
       "    </tr>\n",
       "    <tr>\n",
       "      <th>8</th>\n",
       "      <td>2021-01715</td>\n",
       "      <td>19.0</td>\n",
       "      <td>0</td>\n",
       "      <td>1</td>\n",
       "      <td>2</td>\n",
       "      <td>6</td>\n",
       "      <td>1</td>\n",
       "      <td>1</td>\n",
       "      <td>0</td>\n",
       "      <td>0</td>\n",
       "      <td>...</td>\n",
       "      <td>2</td>\n",
       "      <td>2</td>\n",
       "      <td>2</td>\n",
       "      <td>2</td>\n",
       "      <td>2</td>\n",
       "      <td>2</td>\n",
       "      <td>2</td>\n",
       "      <td>2</td>\n",
       "      <td>1.7206</td>\n",
       "      <td>2</td>\n",
       "    </tr>\n",
       "    <tr>\n",
       "      <th>9</th>\n",
       "      <td>2021-01769</td>\n",
       "      <td>19.0</td>\n",
       "      <td>0</td>\n",
       "      <td>1</td>\n",
       "      <td>2</td>\n",
       "      <td>3</td>\n",
       "      <td>1</td>\n",
       "      <td>1</td>\n",
       "      <td>0</td>\n",
       "      <td>0</td>\n",
       "      <td>...</td>\n",
       "      <td>3</td>\n",
       "      <td>3</td>\n",
       "      <td>1</td>\n",
       "      <td>3</td>\n",
       "      <td>3</td>\n",
       "      <td>3</td>\n",
       "      <td>2</td>\n",
       "      <td>1</td>\n",
       "      <td>1.5000</td>\n",
       "      <td>2</td>\n",
       "    </tr>\n",
       "  </tbody>\n",
       "</table>\n",
       "<p>10 rows × 51 columns</p>\n",
       "</div>"
      ],
      "text/plain": [
       "   student_id   age  sex  course  yr_level  personality_type  \\\n",
       "0  2021-01592  19.0    0       1         2                 0   \n",
       "1  2021-02910  19.0    0       1         2                 1   \n",
       "2  2021-02862  19.0    0       1         2                 2   \n",
       "3  2021-02890  19.0    0       1         2                 1   \n",
       "4  2020-04136  20.0    0       1         2                 3   \n",
       "5  2020-02817  21.0    0       1         2                 4   \n",
       "6  2021-02734  19.0    0       1         2                 0   \n",
       "7  2021-01674  21.0    0       1         2                 5   \n",
       "8  2021-01715  19.0    0       1         2                 6   \n",
       "9  2021-01769  19.0    0       1         2                 3   \n",
       "\n",
       "   socioeconomic_stat  fam_support  working_stud  scholar  ...  wifi  \\\n",
       "0                   1            1             0        1  ...     3   \n",
       "1                   2            1             0        0  ...     2   \n",
       "2                   1            1             0        0  ...     1   \n",
       "3                   2            1             1        0  ...     1   \n",
       "4                   1            1             0        0  ...     2   \n",
       "5                   1            1             0        0  ...     1   \n",
       "6                   1            1             0        0  ...     2   \n",
       "7                   1            0             1        0  ...     1   \n",
       "8                   1            1             0        0  ...     2   \n",
       "9                   1            1             0        0  ...     3   \n",
       "\n",
       "   prepaid-wifi  cellular_data  hotspot  vhigh_speed  high_speed  \\\n",
       "0             1              1        2            1           1   \n",
       "1             2              2        2            2           2   \n",
       "2             3              1        2            2           1   \n",
       "3             2              3        2            2           2   \n",
       "4             3              2        2            3           2   \n",
       "5             3              1        3            2           2   \n",
       "6             3              2        3            3           3   \n",
       "7             2              2        2            2           2   \n",
       "8             2              2        2            2           2   \n",
       "9             3              1        3            3           3   \n",
       "\n",
       "   moderate_speed  light_speed     GPA  gpa_range  \n",
       "0               2            2  1.5588          2  \n",
       "1               2            2  1.3824          2  \n",
       "2               2            2  1.5882          2  \n",
       "3               1            2  1.5000          2  \n",
       "4               2            1  1.4347          2  \n",
       "5               2            1  2.2500          4  \n",
       "6               2            3  1.5000          2  \n",
       "7               2            2  1.5294          2  \n",
       "8               2            2  1.7206          2  \n",
       "9               2            1  1.5000          2  \n",
       "\n",
       "[10 rows x 51 columns]"
      ]
     },
     "execution_count": 25,
     "metadata": {},
     "output_type": "execute_result"
    }
   ],
   "source": [
    "newDF.head(10)"
   ]
  },
  {
   "cell_type": "markdown",
   "id": "020cc9a3",
   "metadata": {},
   "source": [
    "# DESCRIPTIVE VISUALIZATION"
   ]
  },
  {
   "cell_type": "code",
   "execution_count": 26,
   "id": "be4b8e8c",
   "metadata": {},
   "outputs": [
    {
     "data": {
      "text/html": [
       "<div>\n",
       "<style scoped>\n",
       "    .dataframe tbody tr th:only-of-type {\n",
       "        vertical-align: middle;\n",
       "    }\n",
       "\n",
       "    .dataframe tbody tr th {\n",
       "        vertical-align: top;\n",
       "    }\n",
       "\n",
       "    .dataframe thead th {\n",
       "        text-align: right;\n",
       "    }\n",
       "</style>\n",
       "<table border=\"1\" class=\"dataframe\">\n",
       "  <thead>\n",
       "    <tr style=\"text-align: right;\">\n",
       "      <th></th>\n",
       "      <th>student_id</th>\n",
       "    </tr>\n",
       "    <tr>\n",
       "      <th>course</th>\n",
       "      <th></th>\n",
       "    </tr>\n",
       "  </thead>\n",
       "  <tbody>\n",
       "    <tr>\n",
       "      <th>1</th>\n",
       "      <td>75</td>\n",
       "    </tr>\n",
       "    <tr>\n",
       "      <th>2</th>\n",
       "      <td>123</td>\n",
       "    </tr>\n",
       "    <tr>\n",
       "      <th>3</th>\n",
       "      <td>109</td>\n",
       "    </tr>\n",
       "    <tr>\n",
       "      <th>4</th>\n",
       "      <td>50</td>\n",
       "    </tr>\n",
       "  </tbody>\n",
       "</table>\n",
       "</div>"
      ],
      "text/plain": [
       "        student_id\n",
       "course            \n",
       "1               75\n",
       "2              123\n",
       "3              109\n",
       "4               50"
      ]
     },
     "execution_count": 26,
     "metadata": {},
     "output_type": "execute_result"
    }
   ],
   "source": [
    "course_popu = pd.pivot_table(newDF, values=\"student_id\", index=\"course\",aggfunc=\"count\")\n",
    "course_popu"
   ]
  },
  {
   "cell_type": "code",
   "execution_count": 27,
   "id": "845c99b9",
   "metadata": {},
   "outputs": [
    {
     "data": {
      "text/plain": [
       "sex  fam_support\n",
       "0    1              191\n",
       "     0                7\n",
       "1    1              153\n",
       "     0                6\n",
       "dtype: int64"
      ]
     },
     "execution_count": 27,
     "metadata": {},
     "output_type": "execute_result"
    }
   ],
   "source": [
    "PersonalityPopu = newDF.groupby('sex')[[\"fam_support\"]].value_counts()\n",
    "PersonalityPopu"
   ]
  },
  {
   "cell_type": "code",
   "execution_count": 28,
   "id": "9673f5a6",
   "metadata": {},
   "outputs": [
    {
     "data": {
      "text/html": [
       "<div>\n",
       "<style scoped>\n",
       "    .dataframe tbody tr th:only-of-type {\n",
       "        vertical-align: middle;\n",
       "    }\n",
       "\n",
       "    .dataframe tbody tr th {\n",
       "        vertical-align: top;\n",
       "    }\n",
       "\n",
       "    .dataframe thead th {\n",
       "        text-align: right;\n",
       "    }\n",
       "</style>\n",
       "<table border=\"1\" class=\"dataframe\">\n",
       "  <thead>\n",
       "    <tr style=\"text-align: right;\">\n",
       "      <th></th>\n",
       "      <th>socioeconomic_stat</th>\n",
       "      <th>fam_support</th>\n",
       "      <th>working_stud</th>\n",
       "      <th>scholar</th>\n",
       "    </tr>\n",
       "  </thead>\n",
       "  <tbody>\n",
       "    <tr>\n",
       "      <th>socioeconomic_stat</th>\n",
       "      <td>1.000000</td>\n",
       "      <td>-0.064396</td>\n",
       "      <td>0.017799</td>\n",
       "      <td>0.001173</td>\n",
       "    </tr>\n",
       "    <tr>\n",
       "      <th>fam_support</th>\n",
       "      <td>-0.064396</td>\n",
       "      <td>1.000000</td>\n",
       "      <td>-0.305185</td>\n",
       "      <td>-0.023546</td>\n",
       "    </tr>\n",
       "    <tr>\n",
       "      <th>working_stud</th>\n",
       "      <td>0.017799</td>\n",
       "      <td>-0.305185</td>\n",
       "      <td>1.000000</td>\n",
       "      <td>0.077603</td>\n",
       "    </tr>\n",
       "    <tr>\n",
       "      <th>scholar</th>\n",
       "      <td>0.001173</td>\n",
       "      <td>-0.023546</td>\n",
       "      <td>0.077603</td>\n",
       "      <td>1.000000</td>\n",
       "    </tr>\n",
       "  </tbody>\n",
       "</table>\n",
       "</div>"
      ],
      "text/plain": [
       "                    socioeconomic_stat  fam_support  working_stud   scholar\n",
       "socioeconomic_stat            1.000000    -0.064396      0.017799  0.001173\n",
       "fam_support                  -0.064396     1.000000     -0.305185 -0.023546\n",
       "working_stud                  0.017799    -0.305185      1.000000  0.077603\n",
       "scholar                       0.001173    -0.023546      0.077603  1.000000"
      ]
     },
     "execution_count": 28,
     "metadata": {},
     "output_type": "execute_result"
    }
   ],
   "source": [
    "DiFeatures_DF.corr()"
   ]
  },
  {
   "cell_type": "code",
   "execution_count": 29,
   "id": "f3c51aed",
   "metadata": {},
   "outputs": [
    {
     "data": {
      "text/html": [
       "<div>\n",
       "<style scoped>\n",
       "    .dataframe tbody tr th:only-of-type {\n",
       "        vertical-align: middle;\n",
       "    }\n",
       "\n",
       "    .dataframe tbody tr th {\n",
       "        vertical-align: top;\n",
       "    }\n",
       "\n",
       "    .dataframe thead th {\n",
       "        text-align: right;\n",
       "    }\n",
       "</style>\n",
       "<table border=\"1\" class=\"dataframe\">\n",
       "  <thead>\n",
       "    <tr style=\"text-align: right;\">\n",
       "      <th></th>\n",
       "      <th>age</th>\n",
       "      <th>sex</th>\n",
       "      <th>course</th>\n",
       "      <th>yr_level</th>\n",
       "      <th>personality_type</th>\n",
       "    </tr>\n",
       "  </thead>\n",
       "  <tbody>\n",
       "    <tr>\n",
       "      <th>age</th>\n",
       "      <td>1.000000</td>\n",
       "      <td>-0.008345</td>\n",
       "      <td>0.073705</td>\n",
       "      <td>0.458607</td>\n",
       "      <td>0.032515</td>\n",
       "    </tr>\n",
       "    <tr>\n",
       "      <th>sex</th>\n",
       "      <td>-0.008345</td>\n",
       "      <td>1.000000</td>\n",
       "      <td>0.095132</td>\n",
       "      <td>-0.025881</td>\n",
       "      <td>0.073796</td>\n",
       "    </tr>\n",
       "    <tr>\n",
       "      <th>course</th>\n",
       "      <td>0.073705</td>\n",
       "      <td>0.095132</td>\n",
       "      <td>1.000000</td>\n",
       "      <td>0.042690</td>\n",
       "      <td>0.111371</td>\n",
       "    </tr>\n",
       "    <tr>\n",
       "      <th>yr_level</th>\n",
       "      <td>0.458607</td>\n",
       "      <td>-0.025881</td>\n",
       "      <td>0.042690</td>\n",
       "      <td>1.000000</td>\n",
       "      <td>-0.005072</td>\n",
       "    </tr>\n",
       "    <tr>\n",
       "      <th>personality_type</th>\n",
       "      <td>0.032515</td>\n",
       "      <td>0.073796</td>\n",
       "      <td>0.111371</td>\n",
       "      <td>-0.005072</td>\n",
       "      <td>1.000000</td>\n",
       "    </tr>\n",
       "  </tbody>\n",
       "</table>\n",
       "</div>"
      ],
      "text/plain": [
       "                       age       sex    course  yr_level  personality_type\n",
       "age               1.000000 -0.008345  0.073705  0.458607          0.032515\n",
       "sex              -0.008345  1.000000  0.095132 -0.025881          0.073796\n",
       "course            0.073705  0.095132  1.000000  0.042690          0.111371\n",
       "yr_level          0.458607 -0.025881  0.042690  1.000000         -0.005072\n",
       "personality_type  0.032515  0.073796  0.111371 -0.005072          1.000000"
      ]
     },
     "execution_count": 29,
     "metadata": {},
     "output_type": "execute_result"
    }
   ],
   "source": [
    "StudInfo_DF.corr()"
   ]
  },
  {
   "cell_type": "code",
   "execution_count": 30,
   "id": "d6e2ba0a",
   "metadata": {},
   "outputs": [
    {
     "data": {
      "text/plain": [
       "array([[<AxesSubplot:title={'center':'age'}>,\n",
       "        <AxesSubplot:title={'center':'sex'}>,\n",
       "        <AxesSubplot:title={'center':'course'}>,\n",
       "        <AxesSubplot:title={'center':'yr_level'}>,\n",
       "        <AxesSubplot:title={'center':'personality_type'}>,\n",
       "        <AxesSubplot:title={'center':'socioeconomic_stat'}>,\n",
       "        <AxesSubplot:title={'center':'fam_support'}>],\n",
       "       [<AxesSubplot:title={'center':'working_stud'}>,\n",
       "        <AxesSubplot:title={'center':'scholar'}>,\n",
       "        <AxesSubplot:title={'center':'TM1'}>,\n",
       "        <AxesSubplot:title={'center':'TM2'}>,\n",
       "        <AxesSubplot:title={'center':'TM3'}>,\n",
       "        <AxesSubplot:title={'center':'TM4'}>,\n",
       "        <AxesSubplot:title={'center':'TM5'}>],\n",
       "       [<AxesSubplot:title={'center':'TM6'}>,\n",
       "        <AxesSubplot:title={'center':'TM7'}>,\n",
       "        <AxesSubplot:title={'center':'CAP1'}>,\n",
       "        <AxesSubplot:title={'center':'CAP2'}>,\n",
       "        <AxesSubplot:title={'center':'CAP3'}>,\n",
       "        <AxesSubplot:title={'center':'CAP4'}>,\n",
       "        <AxesSubplot:title={'center':'GSS1'}>],\n",
       "       [<AxesSubplot:title={'center':'GSS2'}>,\n",
       "        <AxesSubplot:title={'center':'GSS3'}>,\n",
       "        <AxesSubplot:title={'center':'GSS4'}>,\n",
       "        <AxesSubplot:title={'center':'GSS5'}>,\n",
       "        <AxesSubplot:title={'center':'GSS6'}>,\n",
       "        <AxesSubplot:title={'center':'GSS7'}>,\n",
       "        <AxesSubplot:title={'center':'EP1'}>],\n",
       "       [<AxesSubplot:title={'center':'EP2'}>,\n",
       "        <AxesSubplot:title={'center':'EP3'}>,\n",
       "        <AxesSubplot:title={'center':'EP4'}>,\n",
       "        <AxesSubplot:title={'center':'EP5'}>,\n",
       "        <AxesSubplot:title={'center':'EP6'}>,\n",
       "        <AxesSubplot:title={'center':'NT1'}>,\n",
       "        <AxesSubplot:title={'center':'NT2'}>],\n",
       "       [<AxesSubplot:title={'center':'NT3'}>,\n",
       "        <AxesSubplot:title={'center':'desktop'}>,\n",
       "        <AxesSubplot:title={'center':'laptop'}>,\n",
       "        <AxesSubplot:title={'center':'mobile_phone'}>,\n",
       "        <AxesSubplot:title={'center':'tablet'}>,\n",
       "        <AxesSubplot:title={'center':'wifi'}>,\n",
       "        <AxesSubplot:title={'center':'prepaid-wifi'}>],\n",
       "       [<AxesSubplot:title={'center':'cellular_data'}>,\n",
       "        <AxesSubplot:title={'center':'hotspot'}>,\n",
       "        <AxesSubplot:title={'center':'vhigh_speed'}>,\n",
       "        <AxesSubplot:title={'center':'high_speed'}>,\n",
       "        <AxesSubplot:title={'center':'moderate_speed'}>,\n",
       "        <AxesSubplot:title={'center':'light_speed'}>,\n",
       "        <AxesSubplot:title={'center':'GPA'}>],\n",
       "       [<AxesSubplot:title={'center':'gpa_range'}>, <AxesSubplot:>,\n",
       "        <AxesSubplot:>, <AxesSubplot:>, <AxesSubplot:>, <AxesSubplot:>,\n",
       "        <AxesSubplot:>]], dtype=object)"
      ]
     },
     "execution_count": 30,
     "metadata": {},
     "output_type": "execute_result"
    },
    {
     "data": {
      "image/png": "[encoded data removed]",
      "text/plain": [
       "<Figure size 1152x1296 with 56 Axes>"
      ]
     },
     "metadata": {
      "needs_background": "light"
     },
     "output_type": "display_data"
    }
   ],
   "source": [
    "newDF.hist(grid=True,  figsize = (16,18))"
   ]
  },
  {
   "cell_type": "markdown",
   "id": "cbc0c518",
   "metadata": {},
   "source": [
    "### Dropping columns "
   ]
  },
  {
   "cell_type": "code",
   "execution_count": 31,
   "id": "68110df0",
   "metadata": {},
   "outputs": [],
   "source": [
    "newDF.drop(columns = 'student_id', inplace=True)"
   ]
  },
  {
   "cell_type": "code",
   "execution_count": 32,
   "id": "061ce81a",
   "metadata": {},
   "outputs": [
    {
     "data": {
      "text/html": [
       "<div>\n",
       "<style scoped>\n",
       "    .dataframe tbody tr th:only-of-type {\n",
       "        vertical-align: middle;\n",
       "    }\n",
       "\n",
       "    .dataframe tbody tr th {\n",
       "        vertical-align: top;\n",
       "    }\n",
       "\n",
       "    .dataframe thead th {\n",
       "        text-align: right;\n",
       "    }\n",
       "</style>\n",
       "<table border=\"1\" class=\"dataframe\">\n",
       "  <thead>\n",
       "    <tr style=\"text-align: right;\">\n",
       "      <th></th>\n",
       "      <th>age</th>\n",
       "      <th>sex</th>\n",
       "      <th>course</th>\n",
       "      <th>yr_level</th>\n",
       "      <th>personality_type</th>\n",
       "      <th>socioeconomic_stat</th>\n",
       "      <th>fam_support</th>\n",
       "      <th>working_stud</th>\n",
       "      <th>scholar</th>\n",
       "      <th>TM1</th>\n",
       "      <th>...</th>\n",
       "      <th>wifi</th>\n",
       "      <th>prepaid-wifi</th>\n",
       "      <th>cellular_data</th>\n",
       "      <th>hotspot</th>\n",
       "      <th>vhigh_speed</th>\n",
       "      <th>high_speed</th>\n",
       "      <th>moderate_speed</th>\n",
       "      <th>light_speed</th>\n",
       "      <th>GPA</th>\n",
       "      <th>gpa_range</th>\n",
       "    </tr>\n",
       "  </thead>\n",
       "  <tbody>\n",
       "    <tr>\n",
       "      <th>0</th>\n",
       "      <td>19.0</td>\n",
       "      <td>0</td>\n",
       "      <td>1</td>\n",
       "      <td>2</td>\n",
       "      <td>0</td>\n",
       "      <td>1</td>\n",
       "      <td>1</td>\n",
       "      <td>0</td>\n",
       "      <td>1</td>\n",
       "      <td>1</td>\n",
       "      <td>...</td>\n",
       "      <td>3</td>\n",
       "      <td>1</td>\n",
       "      <td>1</td>\n",
       "      <td>2</td>\n",
       "      <td>1</td>\n",
       "      <td>1</td>\n",
       "      <td>2</td>\n",
       "      <td>2</td>\n",
       "      <td>1.5588</td>\n",
       "      <td>2</td>\n",
       "    </tr>\n",
       "    <tr>\n",
       "      <th>1</th>\n",
       "      <td>19.0</td>\n",
       "      <td>0</td>\n",
       "      <td>1</td>\n",
       "      <td>2</td>\n",
       "      <td>1</td>\n",
       "      <td>2</td>\n",
       "      <td>1</td>\n",
       "      <td>0</td>\n",
       "      <td>0</td>\n",
       "      <td>2</td>\n",
       "      <td>...</td>\n",
       "      <td>2</td>\n",
       "      <td>2</td>\n",
       "      <td>2</td>\n",
       "      <td>2</td>\n",
       "      <td>2</td>\n",
       "      <td>2</td>\n",
       "      <td>2</td>\n",
       "      <td>2</td>\n",
       "      <td>1.3824</td>\n",
       "      <td>2</td>\n",
       "    </tr>\n",
       "    <tr>\n",
       "      <th>2</th>\n",
       "      <td>19.0</td>\n",
       "      <td>0</td>\n",
       "      <td>1</td>\n",
       "      <td>2</td>\n",
       "      <td>2</td>\n",
       "      <td>1</td>\n",
       "      <td>1</td>\n",
       "      <td>0</td>\n",
       "      <td>0</td>\n",
       "      <td>2</td>\n",
       "      <td>...</td>\n",
       "      <td>1</td>\n",
       "      <td>3</td>\n",
       "      <td>1</td>\n",
       "      <td>2</td>\n",
       "      <td>2</td>\n",
       "      <td>1</td>\n",
       "      <td>2</td>\n",
       "      <td>2</td>\n",
       "      <td>1.5882</td>\n",
       "      <td>2</td>\n",
       "    </tr>\n",
       "    <tr>\n",
       "      <th>3</th>\n",
       "      <td>19.0</td>\n",
       "      <td>0</td>\n",
       "      <td>1</td>\n",
       "      <td>2</td>\n",
       "      <td>1</td>\n",
       "      <td>2</td>\n",
       "      <td>1</td>\n",
       "      <td>1</td>\n",
       "      <td>0</td>\n",
       "      <td>2</td>\n",
       "      <td>...</td>\n",
       "      <td>1</td>\n",
       "      <td>2</td>\n",
       "      <td>3</td>\n",
       "      <td>2</td>\n",
       "      <td>2</td>\n",
       "      <td>2</td>\n",
       "      <td>1</td>\n",
       "      <td>2</td>\n",
       "      <td>1.5000</td>\n",
       "      <td>2</td>\n",
       "    </tr>\n",
       "    <tr>\n",
       "      <th>4</th>\n",
       "      <td>20.0</td>\n",
       "      <td>0</td>\n",
       "      <td>1</td>\n",
       "      <td>2</td>\n",
       "      <td>3</td>\n",
       "      <td>1</td>\n",
       "      <td>1</td>\n",
       "      <td>0</td>\n",
       "      <td>0</td>\n",
       "      <td>1</td>\n",
       "      <td>...</td>\n",
       "      <td>2</td>\n",
       "      <td>3</td>\n",
       "      <td>2</td>\n",
       "      <td>2</td>\n",
       "      <td>3</td>\n",
       "      <td>2</td>\n",
       "      <td>2</td>\n",
       "      <td>1</td>\n",
       "      <td>1.4347</td>\n",
       "      <td>2</td>\n",
       "    </tr>\n",
       "    <tr>\n",
       "      <th>5</th>\n",
       "      <td>21.0</td>\n",
       "      <td>0</td>\n",
       "      <td>1</td>\n",
       "      <td>2</td>\n",
       "      <td>4</td>\n",
       "      <td>1</td>\n",
       "      <td>1</td>\n",
       "      <td>0</td>\n",
       "      <td>0</td>\n",
       "      <td>2</td>\n",
       "      <td>...</td>\n",
       "      <td>1</td>\n",
       "      <td>3</td>\n",
       "      <td>1</td>\n",
       "      <td>3</td>\n",
       "      <td>2</td>\n",
       "      <td>2</td>\n",
       "      <td>2</td>\n",
       "      <td>1</td>\n",
       "      <td>2.2500</td>\n",
       "      <td>4</td>\n",
       "    </tr>\n",
       "    <tr>\n",
       "      <th>6</th>\n",
       "      <td>19.0</td>\n",
       "      <td>0</td>\n",
       "      <td>1</td>\n",
       "      <td>2</td>\n",
       "      <td>0</td>\n",
       "      <td>1</td>\n",
       "      <td>1</td>\n",
       "      <td>0</td>\n",
       "      <td>0</td>\n",
       "      <td>2</td>\n",
       "      <td>...</td>\n",
       "      <td>2</td>\n",
       "      <td>3</td>\n",
       "      <td>2</td>\n",
       "      <td>3</td>\n",
       "      <td>3</td>\n",
       "      <td>3</td>\n",
       "      <td>2</td>\n",
       "      <td>3</td>\n",
       "      <td>1.5000</td>\n",
       "      <td>2</td>\n",
       "    </tr>\n",
       "    <tr>\n",
       "      <th>7</th>\n",
       "      <td>21.0</td>\n",
       "      <td>0</td>\n",
       "      <td>1</td>\n",
       "      <td>2</td>\n",
       "      <td>5</td>\n",
       "      <td>1</td>\n",
       "      <td>0</td>\n",
       "      <td>1</td>\n",
       "      <td>0</td>\n",
       "      <td>2</td>\n",
       "      <td>...</td>\n",
       "      <td>1</td>\n",
       "      <td>2</td>\n",
       "      <td>2</td>\n",
       "      <td>2</td>\n",
       "      <td>2</td>\n",
       "      <td>2</td>\n",
       "      <td>2</td>\n",
       "      <td>2</td>\n",
       "      <td>1.5294</td>\n",
       "      <td>2</td>\n",
       "    </tr>\n",
       "    <tr>\n",
       "      <th>8</th>\n",
       "      <td>19.0</td>\n",
       "      <td>0</td>\n",
       "      <td>1</td>\n",
       "      <td>2</td>\n",
       "      <td>6</td>\n",
       "      <td>1</td>\n",
       "      <td>1</td>\n",
       "      <td>0</td>\n",
       "      <td>0</td>\n",
       "      <td>1</td>\n",
       "      <td>...</td>\n",
       "      <td>2</td>\n",
       "      <td>2</td>\n",
       "      <td>2</td>\n",
       "      <td>2</td>\n",
       "      <td>2</td>\n",
       "      <td>2</td>\n",
       "      <td>2</td>\n",
       "      <td>2</td>\n",
       "      <td>1.7206</td>\n",
       "      <td>2</td>\n",
       "    </tr>\n",
       "    <tr>\n",
       "      <th>9</th>\n",
       "      <td>19.0</td>\n",
       "      <td>0</td>\n",
       "      <td>1</td>\n",
       "      <td>2</td>\n",
       "      <td>3</td>\n",
       "      <td>1</td>\n",
       "      <td>1</td>\n",
       "      <td>0</td>\n",
       "      <td>0</td>\n",
       "      <td>2</td>\n",
       "      <td>...</td>\n",
       "      <td>3</td>\n",
       "      <td>3</td>\n",
       "      <td>1</td>\n",
       "      <td>3</td>\n",
       "      <td>3</td>\n",
       "      <td>3</td>\n",
       "      <td>2</td>\n",
       "      <td>1</td>\n",
       "      <td>1.5000</td>\n",
       "      <td>2</td>\n",
       "    </tr>\n",
       "  </tbody>\n",
       "</table>\n",
       "<p>10 rows × 50 columns</p>\n",
       "</div>"
      ],
      "text/plain": [
       "    age  sex  course  yr_level  personality_type  socioeconomic_stat  \\\n",
       "0  19.0    0       1         2                 0                   1   \n",
       "1  19.0    0       1         2                 1                   2   \n",
       "2  19.0    0       1         2                 2                   1   \n",
       "3  19.0    0       1         2                 1                   2   \n",
       "4  20.0    0       1         2                 3                   1   \n",
       "5  21.0    0       1         2                 4                   1   \n",
       "6  19.0    0       1         2                 0                   1   \n",
       "7  21.0    0       1         2                 5                   1   \n",
       "8  19.0    0       1         2                 6                   1   \n",
       "9  19.0    0       1         2                 3                   1   \n",
       "\n",
       "   fam_support  working_stud  scholar  TM1  ...  wifi  prepaid-wifi  \\\n",
       "0            1             0        1    1  ...     3             1   \n",
       "1            1             0        0    2  ...     2             2   \n",
       "2            1             0        0    2  ...     1             3   \n",
       "3            1             1        0    2  ...     1             2   \n",
       "4            1             0        0    1  ...     2             3   \n",
       "5            1             0        0    2  ...     1             3   \n",
       "6            1             0        0    2  ...     2             3   \n",
       "7            0             1        0    2  ...     1             2   \n",
       "8            1             0        0    1  ...     2             2   \n",
       "9            1             0        0    2  ...     3             3   \n",
       "\n",
       "   cellular_data  hotspot  vhigh_speed  high_speed  moderate_speed  \\\n",
       "0              1        2            1           1               2   \n",
       "1              2        2            2           2               2   \n",
       "2              1        2            2           1               2   \n",
       "3              3        2            2           2               1   \n",
       "4              2        2            3           2               2   \n",
       "5              1        3            2           2               2   \n",
       "6              2        3            3           3               2   \n",
       "7              2        2            2           2               2   \n",
       "8              2        2            2           2               2   \n",
       "9              1        3            3           3               2   \n",
       "\n",
       "   light_speed     GPA  gpa_range  \n",
       "0            2  1.5588          2  \n",
       "1            2  1.3824          2  \n",
       "2            2  1.5882          2  \n",
       "3            2  1.5000          2  \n",
       "4            1  1.4347          2  \n",
       "5            1  2.2500          4  \n",
       "6            3  1.5000          2  \n",
       "7            2  1.5294          2  \n",
       "8            2  1.7206          2  \n",
       "9            1  1.5000          2  \n",
       "\n",
       "[10 rows x 50 columns]"
      ]
     },
     "execution_count": 32,
     "metadata": {},
     "output_type": "execute_result"
    }
   ],
   "source": [
    "newDF.head(10)"
   ]
  },
  {
   "cell_type": "markdown",
   "id": "5d3df22b",
   "metadata": {},
   "source": [
    "# Checking Outliers"
   ]
  },
  {
   "cell_type": "code",
   "execution_count": 33,
   "id": "273fc6b4",
   "metadata": {},
   "outputs": [
    {
     "data": {
      "text/plain": [
       "[Text(0.5, 1.0, 'Box Plot of Scores')]"
      ]
     },
     "execution_count": 33,
     "metadata": {},
     "output_type": "execute_result"
    },
    {
     "data": {
      "image/png": "[encoded data removed]",
      "text/plain": [
       "<Figure size 432x288 with 1 Axes>"
      ]
     },
     "metadata": {
      "needs_background": "light"
     },
     "output_type": "display_data"
    }
   ],
   "source": [
    "sns.boxplot(data=newDF[['sex', 'course', 'age', 'GPA']], orient = \"h\").set(title=\"Box Plot of Scores\")"
   ]
  },
  {
   "cell_type": "code",
   "execution_count": 34,
   "id": "1fe8c674",
   "metadata": {},
   "outputs": [
    {
     "data": {
      "text/plain": [
       "[Text(0.5, 1.0, 'Box Plot of Scores')]"
      ]
     },
     "execution_count": 34,
     "metadata": {},
     "output_type": "execute_result"
    },
    {
     "data": {
      "image/png": "[encoded data removed]",
      "text/plain": [
       "<Figure size 432x288 with 1 Axes>"
      ]
     },
     "metadata": {
      "needs_background": "light"
     },
     "output_type": "display_data"
    }
   ],
   "source": [
    "sns.boxplot(data=newDF[['yr_level', 'course']], orient = \"h\").set(title=\"Box Plot of Scores\")"
   ]
  },
  {
   "cell_type": "code",
   "execution_count": 35,
   "id": "af3d3f66",
   "metadata": {},
   "outputs": [
    {
     "name": "stdout",
     "output_type": "stream",
     "text": [
      "<class 'pandas.core.frame.DataFrame'>\n",
      "RangeIndex: 357 entries, 0 to 356\n",
      "Data columns (total 50 columns):\n",
      " #   Column              Non-Null Count  Dtype  \n",
      "---  ------              --------------  -----  \n",
      " 0   age                 357 non-null    float64\n",
      " 1   sex                 357 non-null    int32  \n",
      " 2   course              357 non-null    int32  \n",
      " 3   yr_level            357 non-null    int64  \n",
      " 4   personality_type    357 non-null    int32  \n",
      " 5   socioeconomic_stat  357 non-null    int32  \n",
      " 6   fam_support         357 non-null    int32  \n",
      " 7   working_stud        357 non-null    int32  \n",
      " 8   scholar             357 non-null    int32  \n",
      " 9   TM1                 357 non-null    int32  \n",
      " 10  TM2                 357 non-null    int32  \n",
      " 11  TM3                 357 non-null    int32  \n",
      " 12  TM4                 357 non-null    int32  \n",
      " 13  TM5                 357 non-null    int32  \n",
      " 14  TM6                 357 non-null    int32  \n",
      " 15  TM7                 357 non-null    int32  \n",
      " 16  CAP1                357 non-null    int32  \n",
      " 17  CAP2                357 non-null    int32  \n",
      " 18  CAP3                357 non-null    int32  \n",
      " 19  CAP4                357 non-null    int32  \n",
      " 20  GSS1                357 non-null    int32  \n",
      " 21  GSS2                357 non-null    int32  \n",
      " 22  GSS3                357 non-null    int32  \n",
      " 23  GSS4                357 non-null    int32  \n",
      " 24  GSS5                357 non-null    int32  \n",
      " 25  GSS6                357 non-null    int32  \n",
      " 26  GSS7                357 non-null    int32  \n",
      " 27  EP1                 357 non-null    int32  \n",
      " 28  EP2                 357 non-null    int32  \n",
      " 29  EP3                 357 non-null    int32  \n",
      " 30  EP4                 357 non-null    int32  \n",
      " 31  EP5                 357 non-null    int32  \n",
      " 32  EP6                 357 non-null    int32  \n",
      " 33  NT1                 357 non-null    int32  \n",
      " 34  NT2                 357 non-null    int32  \n",
      " 35  NT3                 357 non-null    int32  \n",
      " 36  desktop             357 non-null    int32  \n",
      " 37  laptop              357 non-null    int32  \n",
      " 38  mobile_phone        357 non-null    int32  \n",
      " 39  tablet              357 non-null    int32  \n",
      " 40  wifi                357 non-null    int32  \n",
      " 41  prepaid-wifi        357 non-null    int32  \n",
      " 42  cellular_data       357 non-null    int32  \n",
      " 43  hotspot             357 non-null    int32  \n",
      " 44  vhigh_speed         357 non-null    int32  \n",
      " 45  high_speed          357 non-null    int32  \n",
      " 46  moderate_speed      357 non-null    int32  \n",
      " 47  light_speed         357 non-null    int32  \n",
      " 48  GPA                 357 non-null    float64\n",
      " 49  gpa_range           357 non-null    int64  \n",
      "dtypes: float64(2), int32(46), int64(2)\n",
      "memory usage: 75.4 KB\n"
     ]
    }
   ],
   "source": [
    "newDF.info()"
   ]
  },
  {
   "cell_type": "code",
   "execution_count": 36,
   "id": "989cf55e",
   "metadata": {},
   "outputs": [
    {
     "data": {
      "text/plain": [
       "222    2021-00344\n",
       "Name: student_id, dtype: object"
      ]
     },
     "execution_count": 36,
     "metadata": {},
     "output_type": "execute_result"
    }
   ],
   "source": [
    "selectstud = df.loc[df[\"age\"]==10, \"student_id\"]\n",
    "selectstud"
   ]
  },
  {
   "cell_type": "code",
   "execution_count": 37,
   "id": "8368325c",
   "metadata": {},
   "outputs": [
    {
     "data": {
      "text/plain": [
       "[Text(0.5, 1.0, 'Box Plot of Scores')]"
      ]
     },
     "execution_count": 37,
     "metadata": {},
     "output_type": "execute_result"
    },
    {
     "data": {
      "image/png": "[encoded data removed]",
      "text/plain": [
       "<Figure size 432x288 with 1 Axes>"
      ]
     },
     "metadata": {
      "needs_background": "light"
     },
     "output_type": "display_data"
    }
   ],
   "source": [
    "sns.boxplot(data=newDF.iloc[:, 8:35], orient = \"h\").set(title=\"Box Plot of Scores\")"
   ]
  },
  {
   "cell_type": "code",
   "execution_count": 38,
   "id": "736cc4f1",
   "metadata": {},
   "outputs": [
    {
     "data": {
      "image/png": "[encoded data removed]",
      "text/plain": [
       "<Figure size 432x288 with 2 Axes>"
      ]
     },
     "metadata": {
      "needs_background": "light"
     },
     "output_type": "display_data"
    }
   ],
   "source": [
    "matrix = newDF.corr(method = 'pearson', min_periods = 1).round(2)\n",
    "mask = np.triu(np.ones_like(matrix, dtype=bool))\n",
    "sns.heatmap(matrix, annot=True, vmax=1, vmin=-1, center=0, cmap='vlag', mask=mask)\n",
    "plt.show()"
   ]
  },
  {
   "cell_type": "code",
   "execution_count": 39,
   "id": "e10fec4d",
   "metadata": {},
   "outputs": [
    {
     "data": {
      "text/plain": [
       "array(['age', 'sex', 'course', 'yr_level', 'personality_type',\n",
       "       'socioeconomic_stat', 'fam_support', 'working_stud', 'scholar',\n",
       "       'TM1', 'TM2', 'TM3', 'TM4', 'TM5', 'TM6', 'TM7', 'CAP1', 'CAP2',\n",
       "       'CAP3', 'CAP4', 'GSS1', 'GSS2', 'GSS3', 'GSS4', 'GSS5', 'GSS6',\n",
       "       'GSS7', 'EP1', 'EP2', 'EP3', 'EP4', 'EP5', 'EP6', 'NT1', 'NT2',\n",
       "       'NT3', 'desktop', 'laptop', 'mobile_phone', 'tablet', 'wifi',\n",
       "       'prepaid-wifi', 'cellular_data', 'hotspot', 'vhigh_speed',\n",
       "       'high_speed', 'moderate_speed', 'light_speed', 'GPA'], dtype=object)"
      ]
     },
     "execution_count": 39,
     "metadata": {},
     "output_type": "execute_result"
    }
   ],
   "source": [
    "features=newDF.columns[0:-1].values\n",
    "features"
   ]
  },
  {
   "cell_type": "code",
   "execution_count": 40,
   "id": "10ad3666",
   "metadata": {},
   "outputs": [
    {
     "data": {
      "text/plain": [
       "Index(['gpa_range'], dtype='object')"
      ]
     },
     "execution_count": 40,
     "metadata": {},
     "output_type": "execute_result"
    }
   ],
   "source": [
    "target=newDF.columns[-1:]\n",
    "target"
   ]
  },
  {
   "cell_type": "markdown",
   "id": "0e3cb53a",
   "metadata": {},
   "source": [
    "## Scaling (Normalize or Standardize data)"
   ]
  },
  {
   "cell_type": "code",
   "execution_count": 41,
   "id": "850220e8",
   "metadata": {},
   "outputs": [],
   "source": [
    "#data_scaledF = DataFrame(scaler_minmax.fit_transform(newDF[features]), columns = features)\n",
    "#data_scaledT = DataFrame(scaler_minmax.fit_transform(newDF[target]), columns = target)\n",
    "#scaled_data = pd.concat([data_scaled, data_scaledT], axis = 1)\n",
    "#scaled_data.head(5)"
   ]
  },
  {
   "cell_type": "code",
   "execution_count": 42,
   "id": "64e22ad4",
   "metadata": {},
   "outputs": [],
   "source": [
    "# Plot histogram of raw data\n",
    "#newDF.hist(figsize=(10,9), ec=\"k\")\n",
    "#plt.title('Raw Students Data')\n",
    "#plt.tight_layout()\n",
    "#plt.show"
   ]
  },
  {
   "cell_type": "markdown",
   "id": "7ac74a30",
   "metadata": {},
   "source": [
    "## Split data to train and test dataset"
   ]
  },
  {
   "cell_type": "code",
   "execution_count": 43,
   "id": "68d85789",
   "metadata": {},
   "outputs": [
    {
     "data": {
      "text/html": [
       "<div>\n",
       "<style scoped>\n",
       "    .dataframe tbody tr th:only-of-type {\n",
       "        vertical-align: middle;\n",
       "    }\n",
       "\n",
       "    .dataframe tbody tr th {\n",
       "        vertical-align: top;\n",
       "    }\n",
       "\n",
       "    .dataframe thead th {\n",
       "        text-align: right;\n",
       "    }\n",
       "</style>\n",
       "<table border=\"1\" class=\"dataframe\">\n",
       "  <thead>\n",
       "    <tr style=\"text-align: right;\">\n",
       "      <th></th>\n",
       "      <th>age</th>\n",
       "      <th>sex</th>\n",
       "      <th>course</th>\n",
       "      <th>yr_level</th>\n",
       "      <th>personality_type</th>\n",
       "      <th>socioeconomic_stat</th>\n",
       "      <th>fam_support</th>\n",
       "      <th>working_stud</th>\n",
       "      <th>scholar</th>\n",
       "      <th>TM1</th>\n",
       "      <th>...</th>\n",
       "      <th>wifi</th>\n",
       "      <th>prepaid-wifi</th>\n",
       "      <th>cellular_data</th>\n",
       "      <th>hotspot</th>\n",
       "      <th>vhigh_speed</th>\n",
       "      <th>high_speed</th>\n",
       "      <th>moderate_speed</th>\n",
       "      <th>light_speed</th>\n",
       "      <th>GPA</th>\n",
       "      <th>gpa_range</th>\n",
       "    </tr>\n",
       "  </thead>\n",
       "  <tbody>\n",
       "    <tr>\n",
       "      <th>158</th>\n",
       "      <td>22.0</td>\n",
       "      <td>1</td>\n",
       "      <td>3</td>\n",
       "      <td>4</td>\n",
       "      <td>3</td>\n",
       "      <td>3</td>\n",
       "      <td>1</td>\n",
       "      <td>0</td>\n",
       "      <td>0</td>\n",
       "      <td>2</td>\n",
       "      <td>...</td>\n",
       "      <td>1</td>\n",
       "      <td>2</td>\n",
       "      <td>2</td>\n",
       "      <td>3</td>\n",
       "      <td>1</td>\n",
       "      <td>2</td>\n",
       "      <td>2</td>\n",
       "      <td>2</td>\n",
       "      <td>2.4605</td>\n",
       "      <td>4</td>\n",
       "    </tr>\n",
       "    <tr>\n",
       "      <th>92</th>\n",
       "      <td>19.0</td>\n",
       "      <td>1</td>\n",
       "      <td>3</td>\n",
       "      <td>2</td>\n",
       "      <td>14</td>\n",
       "      <td>1</td>\n",
       "      <td>1</td>\n",
       "      <td>0</td>\n",
       "      <td>0</td>\n",
       "      <td>2</td>\n",
       "      <td>...</td>\n",
       "      <td>3</td>\n",
       "      <td>3</td>\n",
       "      <td>1</td>\n",
       "      <td>2</td>\n",
       "      <td>2</td>\n",
       "      <td>2</td>\n",
       "      <td>2</td>\n",
       "      <td>2</td>\n",
       "      <td>1.7788</td>\n",
       "      <td>3</td>\n",
       "    </tr>\n",
       "    <tr>\n",
       "      <th>352</th>\n",
       "      <td>21.0</td>\n",
       "      <td>0</td>\n",
       "      <td>4</td>\n",
       "      <td>2</td>\n",
       "      <td>6</td>\n",
       "      <td>2</td>\n",
       "      <td>1</td>\n",
       "      <td>0</td>\n",
       "      <td>0</td>\n",
       "      <td>2</td>\n",
       "      <td>...</td>\n",
       "      <td>1</td>\n",
       "      <td>2</td>\n",
       "      <td>3</td>\n",
       "      <td>3</td>\n",
       "      <td>2</td>\n",
       "      <td>2</td>\n",
       "      <td>2</td>\n",
       "      <td>3</td>\n",
       "      <td>1.9559</td>\n",
       "      <td>3</td>\n",
       "    </tr>\n",
       "    <tr>\n",
       "      <th>286</th>\n",
       "      <td>21.0</td>\n",
       "      <td>1</td>\n",
       "      <td>2</td>\n",
       "      <td>4</td>\n",
       "      <td>7</td>\n",
       "      <td>1</td>\n",
       "      <td>1</td>\n",
       "      <td>0</td>\n",
       "      <td>0</td>\n",
       "      <td>2</td>\n",
       "      <td>...</td>\n",
       "      <td>3</td>\n",
       "      <td>2</td>\n",
       "      <td>1</td>\n",
       "      <td>3</td>\n",
       "      <td>3</td>\n",
       "      <td>3</td>\n",
       "      <td>1</td>\n",
       "      <td>1</td>\n",
       "      <td>2.4844</td>\n",
       "      <td>4</td>\n",
       "    </tr>\n",
       "    <tr>\n",
       "      <th>231</th>\n",
       "      <td>21.0</td>\n",
       "      <td>1</td>\n",
       "      <td>2</td>\n",
       "      <td>3</td>\n",
       "      <td>13</td>\n",
       "      <td>3</td>\n",
       "      <td>1</td>\n",
       "      <td>0</td>\n",
       "      <td>0</td>\n",
       "      <td>2</td>\n",
       "      <td>...</td>\n",
       "      <td>1</td>\n",
       "      <td>2</td>\n",
       "      <td>1</td>\n",
       "      <td>2</td>\n",
       "      <td>3</td>\n",
       "      <td>1</td>\n",
       "      <td>3</td>\n",
       "      <td>3</td>\n",
       "      <td>2.6310</td>\n",
       "      <td>4</td>\n",
       "    </tr>\n",
       "    <tr>\n",
       "      <th>216</th>\n",
       "      <td>19.0</td>\n",
       "      <td>1</td>\n",
       "      <td>2</td>\n",
       "      <td>2</td>\n",
       "      <td>0</td>\n",
       "      <td>1</td>\n",
       "      <td>1</td>\n",
       "      <td>0</td>\n",
       "      <td>0</td>\n",
       "      <td>2</td>\n",
       "      <td>...</td>\n",
       "      <td>2</td>\n",
       "      <td>2</td>\n",
       "      <td>2</td>\n",
       "      <td>3</td>\n",
       "      <td>2</td>\n",
       "      <td>2</td>\n",
       "      <td>1</td>\n",
       "      <td>1</td>\n",
       "      <td>1.4896</td>\n",
       "      <td>2</td>\n",
       "    </tr>\n",
       "    <tr>\n",
       "      <th>327</th>\n",
       "      <td>26.0</td>\n",
       "      <td>0</td>\n",
       "      <td>4</td>\n",
       "      <td>3</td>\n",
       "      <td>11</td>\n",
       "      <td>1</td>\n",
       "      <td>1</td>\n",
       "      <td>0</td>\n",
       "      <td>0</td>\n",
       "      <td>1</td>\n",
       "      <td>...</td>\n",
       "      <td>1</td>\n",
       "      <td>3</td>\n",
       "      <td>1</td>\n",
       "      <td>3</td>\n",
       "      <td>2</td>\n",
       "      <td>3</td>\n",
       "      <td>3</td>\n",
       "      <td>3</td>\n",
       "      <td>1.9130</td>\n",
       "      <td>3</td>\n",
       "    </tr>\n",
       "    <tr>\n",
       "      <th>289</th>\n",
       "      <td>21.0</td>\n",
       "      <td>0</td>\n",
       "      <td>2</td>\n",
       "      <td>4</td>\n",
       "      <td>4</td>\n",
       "      <td>1</td>\n",
       "      <td>1</td>\n",
       "      <td>0</td>\n",
       "      <td>1</td>\n",
       "      <td>2</td>\n",
       "      <td>...</td>\n",
       "      <td>2</td>\n",
       "      <td>3</td>\n",
       "      <td>1</td>\n",
       "      <td>2</td>\n",
       "      <td>3</td>\n",
       "      <td>3</td>\n",
       "      <td>2</td>\n",
       "      <td>1</td>\n",
       "      <td>2.3438</td>\n",
       "      <td>4</td>\n",
       "    </tr>\n",
       "    <tr>\n",
       "      <th>212</th>\n",
       "      <td>19.0</td>\n",
       "      <td>1</td>\n",
       "      <td>2</td>\n",
       "      <td>2</td>\n",
       "      <td>12</td>\n",
       "      <td>3</td>\n",
       "      <td>1</td>\n",
       "      <td>0</td>\n",
       "      <td>0</td>\n",
       "      <td>3</td>\n",
       "      <td>...</td>\n",
       "      <td>1</td>\n",
       "      <td>3</td>\n",
       "      <td>1</td>\n",
       "      <td>2</td>\n",
       "      <td>2</td>\n",
       "      <td>2</td>\n",
       "      <td>2</td>\n",
       "      <td>1</td>\n",
       "      <td>1.5938</td>\n",
       "      <td>2</td>\n",
       "    </tr>\n",
       "    <tr>\n",
       "      <th>12</th>\n",
       "      <td>25.0</td>\n",
       "      <td>1</td>\n",
       "      <td>1</td>\n",
       "      <td>2</td>\n",
       "      <td>8</td>\n",
       "      <td>4</td>\n",
       "      <td>0</td>\n",
       "      <td>1</td>\n",
       "      <td>1</td>\n",
       "      <td>2</td>\n",
       "      <td>...</td>\n",
       "      <td>3</td>\n",
       "      <td>3</td>\n",
       "      <td>1</td>\n",
       "      <td>2</td>\n",
       "      <td>2</td>\n",
       "      <td>2</td>\n",
       "      <td>2</td>\n",
       "      <td>2</td>\n",
       "      <td>1.5441</td>\n",
       "      <td>2</td>\n",
       "    </tr>\n",
       "  </tbody>\n",
       "</table>\n",
       "<p>10 rows × 50 columns</p>\n",
       "</div>"
      ],
      "text/plain": [
       "      age  sex  course  yr_level  personality_type  socioeconomic_stat  \\\n",
       "158  22.0    1       3         4                 3                   3   \n",
       "92   19.0    1       3         2                14                   1   \n",
       "352  21.0    0       4         2                 6                   2   \n",
       "286  21.0    1       2         4                 7                   1   \n",
       "231  21.0    1       2         3                13                   3   \n",
       "216  19.0    1       2         2                 0                   1   \n",
       "327  26.0    0       4         3                11                   1   \n",
       "289  21.0    0       2         4                 4                   1   \n",
       "212  19.0    1       2         2                12                   3   \n",
       "12   25.0    1       1         2                 8                   4   \n",
       "\n",
       "     fam_support  working_stud  scholar  TM1  ...  wifi  prepaid-wifi  \\\n",
       "158            1             0        0    2  ...     1             2   \n",
       "92             1             0        0    2  ...     3             3   \n",
       "352            1             0        0    2  ...     1             2   \n",
       "286            1             0        0    2  ...     3             2   \n",
       "231            1             0        0    2  ...     1             2   \n",
       "216            1             0        0    2  ...     2             2   \n",
       "327            1             0        0    1  ...     1             3   \n",
       "289            1             0        1    2  ...     2             3   \n",
       "212            1             0        0    3  ...     1             3   \n",
       "12             0             1        1    2  ...     3             3   \n",
       "\n",
       "     cellular_data  hotspot  vhigh_speed  high_speed  moderate_speed  \\\n",
       "158              2        3            1           2               2   \n",
       "92               1        2            2           2               2   \n",
       "352              3        3            2           2               2   \n",
       "286              1        3            3           3               1   \n",
       "231              1        2            3           1               3   \n",
       "216              2        3            2           2               1   \n",
       "327              1        3            2           3               3   \n",
       "289              1        2            3           3               2   \n",
       "212              1        2            2           2               2   \n",
       "12               1        2            2           2               2   \n",
       "\n",
       "     light_speed     GPA  gpa_range  \n",
       "158            2  2.4605          4  \n",
       "92             2  1.7788          3  \n",
       "352            3  1.9559          3  \n",
       "286            1  2.4844          4  \n",
       "231            3  2.6310          4  \n",
       "216            1  1.4896          2  \n",
       "327            3  1.9130          3  \n",
       "289            1  2.3438          4  \n",
       "212            1  1.5938          2  \n",
       "12             2  1.5441          2  \n",
       "\n",
       "[10 rows x 50 columns]"
      ]
     },
     "execution_count": 43,
     "metadata": {},
     "output_type": "execute_result"
    }
   ],
   "source": [
    "from sklearn.model_selection import train_test_split\n",
    "train, test =train_test_split(newDF, test_size=0.2, random_state=42)\n",
    "train.sample(10)"
   ]
  },
  {
   "cell_type": "code",
   "execution_count": 44,
   "id": "a6d25e1e",
   "metadata": {},
   "outputs": [
    {
     "data": {
      "text/html": [
       "<div>\n",
       "<style scoped>\n",
       "    .dataframe tbody tr th:only-of-type {\n",
       "        vertical-align: middle;\n",
       "    }\n",
       "\n",
       "    .dataframe tbody tr th {\n",
       "        vertical-align: top;\n",
       "    }\n",
       "\n",
       "    .dataframe thead th {\n",
       "        text-align: right;\n",
       "    }\n",
       "</style>\n",
       "<table border=\"1\" class=\"dataframe\">\n",
       "  <thead>\n",
       "    <tr style=\"text-align: right;\">\n",
       "      <th></th>\n",
       "      <th>age</th>\n",
       "      <th>sex</th>\n",
       "      <th>course</th>\n",
       "      <th>yr_level</th>\n",
       "      <th>personality_type</th>\n",
       "      <th>socioeconomic_stat</th>\n",
       "      <th>fam_support</th>\n",
       "      <th>working_stud</th>\n",
       "      <th>scholar</th>\n",
       "      <th>TM1</th>\n",
       "      <th>...</th>\n",
       "      <th>wifi</th>\n",
       "      <th>prepaid-wifi</th>\n",
       "      <th>cellular_data</th>\n",
       "      <th>hotspot</th>\n",
       "      <th>vhigh_speed</th>\n",
       "      <th>high_speed</th>\n",
       "      <th>moderate_speed</th>\n",
       "      <th>light_speed</th>\n",
       "      <th>GPA</th>\n",
       "      <th>gpa_range</th>\n",
       "    </tr>\n",
       "  </thead>\n",
       "  <tbody>\n",
       "    <tr>\n",
       "      <th>282</th>\n",
       "      <td>21.0</td>\n",
       "      <td>0</td>\n",
       "      <td>2</td>\n",
       "      <td>4</td>\n",
       "      <td>0</td>\n",
       "      <td>1</td>\n",
       "      <td>1</td>\n",
       "      <td>0</td>\n",
       "      <td>0</td>\n",
       "      <td>2</td>\n",
       "      <td>...</td>\n",
       "      <td>2</td>\n",
       "      <td>3</td>\n",
       "      <td>1</td>\n",
       "      <td>3</td>\n",
       "      <td>2</td>\n",
       "      <td>2</td>\n",
       "      <td>1</td>\n",
       "      <td>2</td>\n",
       "      <td>2.4375</td>\n",
       "      <td>4</td>\n",
       "    </tr>\n",
       "    <tr>\n",
       "      <th>333</th>\n",
       "      <td>20.0</td>\n",
       "      <td>0</td>\n",
       "      <td>4</td>\n",
       "      <td>3</td>\n",
       "      <td>5</td>\n",
       "      <td>1</td>\n",
       "      <td>1</td>\n",
       "      <td>0</td>\n",
       "      <td>0</td>\n",
       "      <td>2</td>\n",
       "      <td>...</td>\n",
       "      <td>3</td>\n",
       "      <td>3</td>\n",
       "      <td>1</td>\n",
       "      <td>2</td>\n",
       "      <td>3</td>\n",
       "      <td>3</td>\n",
       "      <td>1</td>\n",
       "      <td>3</td>\n",
       "      <td>1.5870</td>\n",
       "      <td>2</td>\n",
       "    </tr>\n",
       "    <tr>\n",
       "      <th>288</th>\n",
       "      <td>21.0</td>\n",
       "      <td>0</td>\n",
       "      <td>2</td>\n",
       "      <td>4</td>\n",
       "      <td>7</td>\n",
       "      <td>1</td>\n",
       "      <td>1</td>\n",
       "      <td>0</td>\n",
       "      <td>0</td>\n",
       "      <td>3</td>\n",
       "      <td>...</td>\n",
       "      <td>1</td>\n",
       "      <td>3</td>\n",
       "      <td>2</td>\n",
       "      <td>2</td>\n",
       "      <td>2</td>\n",
       "      <td>2</td>\n",
       "      <td>1</td>\n",
       "      <td>2</td>\n",
       "      <td>2.0313</td>\n",
       "      <td>3</td>\n",
       "    </tr>\n",
       "    <tr>\n",
       "      <th>75</th>\n",
       "      <td>21.0</td>\n",
       "      <td>0</td>\n",
       "      <td>1</td>\n",
       "      <td>4</td>\n",
       "      <td>7</td>\n",
       "      <td>1</td>\n",
       "      <td>1</td>\n",
       "      <td>0</td>\n",
       "      <td>0</td>\n",
       "      <td>2</td>\n",
       "      <td>...</td>\n",
       "      <td>1</td>\n",
       "      <td>2</td>\n",
       "      <td>2</td>\n",
       "      <td>2</td>\n",
       "      <td>2</td>\n",
       "      <td>1</td>\n",
       "      <td>2</td>\n",
       "      <td>2</td>\n",
       "      <td>1.8333</td>\n",
       "      <td>3</td>\n",
       "    </tr>\n",
       "    <tr>\n",
       "      <th>255</th>\n",
       "      <td>23.0</td>\n",
       "      <td>1</td>\n",
       "      <td>2</td>\n",
       "      <td>3</td>\n",
       "      <td>7</td>\n",
       "      <td>1</td>\n",
       "      <td>1</td>\n",
       "      <td>0</td>\n",
       "      <td>0</td>\n",
       "      <td>2</td>\n",
       "      <td>...</td>\n",
       "      <td>2</td>\n",
       "      <td>2</td>\n",
       "      <td>2</td>\n",
       "      <td>2</td>\n",
       "      <td>2</td>\n",
       "      <td>2</td>\n",
       "      <td>2</td>\n",
       "      <td>2</td>\n",
       "      <td>2.9881</td>\n",
       "      <td>5</td>\n",
       "    </tr>\n",
       "  </tbody>\n",
       "</table>\n",
       "<p>5 rows × 50 columns</p>\n",
       "</div>"
      ],
      "text/plain": [
       "      age  sex  course  yr_level  personality_type  socioeconomic_stat  \\\n",
       "282  21.0    0       2         4                 0                   1   \n",
       "333  20.0    0       4         3                 5                   1   \n",
       "288  21.0    0       2         4                 7                   1   \n",
       "75   21.0    0       1         4                 7                   1   \n",
       "255  23.0    1       2         3                 7                   1   \n",
       "\n",
       "     fam_support  working_stud  scholar  TM1  ...  wifi  prepaid-wifi  \\\n",
       "282            1             0        0    2  ...     2             3   \n",
       "333            1             0        0    2  ...     3             3   \n",
       "288            1             0        0    3  ...     1             3   \n",
       "75             1             0        0    2  ...     1             2   \n",
       "255            1             0        0    2  ...     2             2   \n",
       "\n",
       "     cellular_data  hotspot  vhigh_speed  high_speed  moderate_speed  \\\n",
       "282              1        3            2           2               1   \n",
       "333              1        2            3           3               1   \n",
       "288              2        2            2           2               1   \n",
       "75               2        2            2           1               2   \n",
       "255              2        2            2           2               2   \n",
       "\n",
       "     light_speed     GPA  gpa_range  \n",
       "282            2  2.4375          4  \n",
       "333            3  1.5870          2  \n",
       "288            2  2.0313          3  \n",
       "75             2  1.8333          3  \n",
       "255            2  2.9881          5  \n",
       "\n",
       "[5 rows x 50 columns]"
      ]
     },
     "execution_count": 44,
     "metadata": {},
     "output_type": "execute_result"
    }
   ],
   "source": [
    "train.head(5)"
   ]
  },
  {
   "cell_type": "code",
   "execution_count": 45,
   "id": "bda99d98",
   "metadata": {},
   "outputs": [
    {
     "data": {
      "text/html": [
       "<div>\n",
       "<style scoped>\n",
       "    .dataframe tbody tr th:only-of-type {\n",
       "        vertical-align: middle;\n",
       "    }\n",
       "\n",
       "    .dataframe tbody tr th {\n",
       "        vertical-align: top;\n",
       "    }\n",
       "\n",
       "    .dataframe thead th {\n",
       "        text-align: right;\n",
       "    }\n",
       "</style>\n",
       "<table border=\"1\" class=\"dataframe\">\n",
       "  <thead>\n",
       "    <tr style=\"text-align: right;\">\n",
       "      <th></th>\n",
       "      <th>age</th>\n",
       "      <th>sex</th>\n",
       "      <th>course</th>\n",
       "      <th>yr_level</th>\n",
       "      <th>personality_type</th>\n",
       "      <th>socioeconomic_stat</th>\n",
       "      <th>fam_support</th>\n",
       "      <th>working_stud</th>\n",
       "      <th>scholar</th>\n",
       "      <th>TM1</th>\n",
       "      <th>...</th>\n",
       "      <th>wifi</th>\n",
       "      <th>prepaid-wifi</th>\n",
       "      <th>cellular_data</th>\n",
       "      <th>hotspot</th>\n",
       "      <th>vhigh_speed</th>\n",
       "      <th>high_speed</th>\n",
       "      <th>moderate_speed</th>\n",
       "      <th>light_speed</th>\n",
       "      <th>GPA</th>\n",
       "      <th>gpa_range</th>\n",
       "    </tr>\n",
       "  </thead>\n",
       "  <tbody>\n",
       "    <tr>\n",
       "      <th>222</th>\n",
       "      <td>10.0</td>\n",
       "      <td>0</td>\n",
       "      <td>2</td>\n",
       "      <td>2</td>\n",
       "      <td>3</td>\n",
       "      <td>2</td>\n",
       "      <td>1</td>\n",
       "      <td>0</td>\n",
       "      <td>0</td>\n",
       "      <td>3</td>\n",
       "      <td>...</td>\n",
       "      <td>2</td>\n",
       "      <td>3</td>\n",
       "      <td>1</td>\n",
       "      <td>3</td>\n",
       "      <td>3</td>\n",
       "      <td>2</td>\n",
       "      <td>1</td>\n",
       "      <td>1</td>\n",
       "      <td>1.5313</td>\n",
       "      <td>2</td>\n",
       "    </tr>\n",
       "    <tr>\n",
       "      <th>42</th>\n",
       "      <td>22.0</td>\n",
       "      <td>0</td>\n",
       "      <td>1</td>\n",
       "      <td>3</td>\n",
       "      <td>3</td>\n",
       "      <td>1</td>\n",
       "      <td>1</td>\n",
       "      <td>0</td>\n",
       "      <td>0</td>\n",
       "      <td>2</td>\n",
       "      <td>...</td>\n",
       "      <td>3</td>\n",
       "      <td>2</td>\n",
       "      <td>1</td>\n",
       "      <td>3</td>\n",
       "      <td>2</td>\n",
       "      <td>1</td>\n",
       "      <td>2</td>\n",
       "      <td>3</td>\n",
       "      <td>1.9231</td>\n",
       "      <td>3</td>\n",
       "    </tr>\n",
       "    <tr>\n",
       "      <th>291</th>\n",
       "      <td>21.0</td>\n",
       "      <td>0</td>\n",
       "      <td>2</td>\n",
       "      <td>4</td>\n",
       "      <td>1</td>\n",
       "      <td>2</td>\n",
       "      <td>1</td>\n",
       "      <td>0</td>\n",
       "      <td>0</td>\n",
       "      <td>2</td>\n",
       "      <td>...</td>\n",
       "      <td>1</td>\n",
       "      <td>2</td>\n",
       "      <td>1</td>\n",
       "      <td>2</td>\n",
       "      <td>2</td>\n",
       "      <td>2</td>\n",
       "      <td>2</td>\n",
       "      <td>2</td>\n",
       "      <td>2.3906</td>\n",
       "      <td>3</td>\n",
       "    </tr>\n",
       "    <tr>\n",
       "      <th>300</th>\n",
       "      <td>21.0</td>\n",
       "      <td>1</td>\n",
       "      <td>2</td>\n",
       "      <td>4</td>\n",
       "      <td>4</td>\n",
       "      <td>1</td>\n",
       "      <td>1</td>\n",
       "      <td>0</td>\n",
       "      <td>0</td>\n",
       "      <td>2</td>\n",
       "      <td>...</td>\n",
       "      <td>2</td>\n",
       "      <td>2</td>\n",
       "      <td>1</td>\n",
       "      <td>2</td>\n",
       "      <td>2</td>\n",
       "      <td>2</td>\n",
       "      <td>1</td>\n",
       "      <td>1</td>\n",
       "      <td>2.4844</td>\n",
       "      <td>3</td>\n",
       "    </tr>\n",
       "    <tr>\n",
       "      <th>56</th>\n",
       "      <td>20.0</td>\n",
       "      <td>0</td>\n",
       "      <td>1</td>\n",
       "      <td>3</td>\n",
       "      <td>1</td>\n",
       "      <td>1</td>\n",
       "      <td>1</td>\n",
       "      <td>0</td>\n",
       "      <td>0</td>\n",
       "      <td>2</td>\n",
       "      <td>...</td>\n",
       "      <td>2</td>\n",
       "      <td>2</td>\n",
       "      <td>1</td>\n",
       "      <td>2</td>\n",
       "      <td>2</td>\n",
       "      <td>2</td>\n",
       "      <td>2</td>\n",
       "      <td>2</td>\n",
       "      <td>1.6058</td>\n",
       "      <td>2</td>\n",
       "    </tr>\n",
       "  </tbody>\n",
       "</table>\n",
       "<p>5 rows × 50 columns</p>\n",
       "</div>"
      ],
      "text/plain": [
       "      age  sex  course  yr_level  personality_type  socioeconomic_stat  \\\n",
       "222  10.0    0       2         2                 3                   2   \n",
       "42   22.0    0       1         3                 3                   1   \n",
       "291  21.0    0       2         4                 1                   2   \n",
       "300  21.0    1       2         4                 4                   1   \n",
       "56   20.0    0       1         3                 1                   1   \n",
       "\n",
       "     fam_support  working_stud  scholar  TM1  ...  wifi  prepaid-wifi  \\\n",
       "222            1             0        0    3  ...     2             3   \n",
       "42             1             0        0    2  ...     3             2   \n",
       "291            1             0        0    2  ...     1             2   \n",
       "300            1             0        0    2  ...     2             2   \n",
       "56             1             0        0    2  ...     2             2   \n",
       "\n",
       "     cellular_data  hotspot  vhigh_speed  high_speed  moderate_speed  \\\n",
       "222              1        3            3           2               1   \n",
       "42               1        3            2           1               2   \n",
       "291              1        2            2           2               2   \n",
       "300              1        2            2           2               1   \n",
       "56               1        2            2           2               2   \n",
       "\n",
       "     light_speed     GPA  gpa_range  \n",
       "222            1  1.5313          2  \n",
       "42             3  1.9231          3  \n",
       "291            2  2.3906          3  \n",
       "300            1  2.4844          3  \n",
       "56             2  1.6058          2  \n",
       "\n",
       "[5 rows x 50 columns]"
      ]
     },
     "execution_count": 45,
     "metadata": {},
     "output_type": "execute_result"
    }
   ],
   "source": [
    "test.head(5)"
   ]
  },
  {
   "cell_type": "code",
   "execution_count": 46,
   "id": "359c8384",
   "metadata": {},
   "outputs": [
    {
     "data": {
      "text/plain": [
       "(72, 50)"
      ]
     },
     "execution_count": 46,
     "metadata": {},
     "output_type": "execute_result"
    }
   ],
   "source": [
    "test.shape"
   ]
  },
  {
   "cell_type": "code",
   "execution_count": 47,
   "id": "7aae76f4",
   "metadata": {},
   "outputs": [
    {
     "data": {
      "text/plain": [
       "(285, 50)"
      ]
     },
     "execution_count": 47,
     "metadata": {},
     "output_type": "execute_result"
    }
   ],
   "source": [
    "train.shape"
   ]
  },
  {
   "cell_type": "code",
   "execution_count": null,
   "id": "e07d1ad1",
   "metadata": {},
   "outputs": [],
   "source": [
    "# Import Ensemble Bagging Regressor\n",
    "from sklearn.ensemble import BaggingRegressor\n",
    "\n",
    "#Random Forest, Decision Trees, Extra Trees, Adaboost, Lasso\n",
    "from sklearn.tree import DecisionTreeRegressor\n",
    "from sklearn.ensemble import RandomForestRegressor\n",
    "from sklearn.ensemble import ExtraTreesRegressor\n",
    "from sklearn.ensemble import AdaBoostRegressor\n",
    "from sklearn.linear_model import LassoCV\n",
    "\n",
    "from sklearn.pipeline import Pipeline\n",
    "from sklearn.model_selection import cross_val_score, KFold\n",
    "from sklearn.metrics import confusion_matrix, accuracy_score\n",
    "from numpy import mean\n",
    "from numpy import std\n",
    "import math"
   ]
  },
  {
   "cell_type": "code",
   "execution_count": 49,
   "id": "ee749d4c",
   "metadata": {},
   "outputs": [],
   "source": [
    "#load the data in the variables \n",
    "X_train = train[features]\n",
    "Y_train = train[target]\n",
    "X_test = test[features]\n",
    "Y_test = test[target]"
   ]
  },
  {
   "cell_type": "code",
   "execution_count": 50,
   "id": "a2073c47",
   "metadata": {},
   "outputs": [],
   "source": [
    "#define the models to be used\n",
    "models = dict()\n",
    "models['rf'] = RandomForestRegressor()\n",
    "models['dt'] = DecisionTreeRegressor()\n",
    "models['etr'] = ExtraTreesRegressor()\n",
    "models['ada'] = AdaBoostRegressor()\n",
    "models['lso'] = LassoCV()"
   ]
  },
  {
   "cell_type": "markdown",
   "id": "3e7c5bed",
   "metadata": {},
   "source": [
    "## Checking overfit or underfit models"
   ]
  },
  {
   "cell_type": "markdown",
   "id": "4746bcf2",
   "metadata": {},
   "source": [
    "### DecisionTreeRegressor"
   ]
  },
  {
   "cell_type": "code",
   "execution_count": 51,
   "id": "5490a63e",
   "metadata": {},
   "outputs": [],
   "source": [
    "score=[]\n",
    "regressor = DecisionTreeRegressor()"
   ]
  },
  {
   "cell_type": "code",
   "execution_count": 52,
   "id": "5bb673c2",
   "metadata": {},
   "outputs": [
    {
     "data": {
      "text/html": [
       "<style>#sk-container-id-1 {color: black;background-color: white;}#sk-container-id-1 pre{padding: 0;}#sk-container-id-1 div.sk-toggleable {background-color: white;}#sk-container-id-1 label.sk-toggleable__label {cursor: pointer;display: block;width: 100%;margin-bottom: 0;padding: 0.3em;box-sizing: border-box;text-align: center;}#sk-container-id-1 label.sk-toggleable__label-arrow:before {content: \"▸\";float: left;margin-right: 0.25em;color: #696969;}#sk-container-id-1 label.sk-toggleable__label-arrow:hover:before {color: black;}#sk-container-id-1 div.sk-estimator:hover label.sk-toggleable__label-arrow:before {color: black;}#sk-container-id-1 div.sk-toggleable__content {max-height: 0;max-width: 0;overflow: hidden;text-align: left;background-color: #f0f8ff;}#sk-container-id-1 div.sk-toggleable__content pre {margin: 0.2em;color: black;border-radius: 0.25em;background-color: #f0f8ff;}#sk-container-id-1 input.sk-toggleable__control:checked~div.sk-toggleable__content {max-height: 200px;max-width: 100%;overflow: auto;}#sk-container-id-1 input.sk-toggleable__control:checked~label.sk-toggleable__label-arrow:before {content: \"▾\";}#sk-container-id-1 div.sk-estimator input.sk-toggleable__control:checked~label.sk-toggleable__label {background-color: #d4ebff;}#sk-container-id-1 div.sk-label input.sk-toggleable__control:checked~label.sk-toggleable__label {background-color: #d4ebff;}#sk-container-id-1 input.sk-hidden--visually {border: 0;clip: rect(1px 1px 1px 1px);clip: rect(1px, 1px, 1px, 1px);height: 1px;margin: -1px;overflow: hidden;padding: 0;position: absolute;width: 1px;}#sk-container-id-1 div.sk-estimator {font-family: monospace;background-color: #f0f8ff;border: 1px dotted black;border-radius: 0.25em;box-sizing: border-box;margin-bottom: 0.5em;}#sk-container-id-1 div.sk-estimator:hover {background-color: #d4ebff;}#sk-container-id-1 div.sk-parallel-item::after {content: \"\";width: 100%;border-bottom: 1px solid gray;flex-grow: 1;}#sk-container-id-1 div.sk-label:hover label.sk-toggleable__label {background-color: #d4ebff;}#sk-container-id-1 div.sk-serial::before {content: \"\";position: absolute;border-left: 1px solid gray;box-sizing: border-box;top: 0;bottom: 0;left: 50%;z-index: 0;}#sk-container-id-1 div.sk-serial {display: flex;flex-direction: column;align-items: center;background-color: white;padding-right: 0.2em;padding-left: 0.2em;position: relative;}#sk-container-id-1 div.sk-item {position: relative;z-index: 1;}#sk-container-id-1 div.sk-parallel {display: flex;align-items: stretch;justify-content: center;background-color: white;position: relative;}#sk-container-id-1 div.sk-item::before, #sk-container-id-1 div.sk-parallel-item::before {content: \"\";position: absolute;border-left: 1px solid gray;box-sizing: border-box;top: 0;bottom: 0;left: 50%;z-index: -1;}#sk-container-id-1 div.sk-parallel-item {display: flex;flex-direction: column;z-index: 1;position: relative;background-color: white;}#sk-container-id-1 div.sk-parallel-item:first-child::after {align-self: flex-end;width: 50%;}#sk-container-id-1 div.sk-parallel-item:last-child::after {align-self: flex-start;width: 50%;}#sk-container-id-1 div.sk-parallel-item:only-child::after {width: 0;}#sk-container-id-1 div.sk-dashed-wrapped {border: 1px dashed gray;margin: 0 0.4em 0.5em 0.4em;box-sizing: border-box;padding-bottom: 0.4em;background-color: white;}#sk-container-id-1 div.sk-label label {font-family: monospace;font-weight: bold;display: inline-block;line-height: 1.2em;}#sk-container-id-1 div.sk-label-container {text-align: center;}#sk-container-id-1 div.sk-container {/* jupyter's `normalize.less` sets `[hidden] { display: none; }` but bootstrap.min.css set `[hidden] { display: none !important; }` so we also need the `!important` here to be able to override the default hidden behavior on the sphinx rendered scikit-learn.org. See: https://github.com/scikit-learn/scikit-learn/issues/21755 */display: inline-block !important;position: relative;}#sk-container-id-1 div.sk-text-repr-fallback {display: none;}</style><div id=\"sk-container-id-1\" class=\"sk-top-container\"><div class=\"sk-text-repr-fallback\"><pre>DecisionTreeRegressor()</pre><b>In a Jupyter environment, please rerun this cell to show the HTML representation or trust the notebook. <br />On GitHub, the HTML representation is unable to render, please try loading this page with nbviewer.org.</b></div><div class=\"sk-container\" hidden><div class=\"sk-item\"><div class=\"sk-estimator sk-toggleable\"><input class=\"sk-toggleable__control sk-hidden--visually\" id=\"sk-estimator-id-1\" type=\"checkbox\" checked><label for=\"sk-estimator-id-1\" class=\"sk-toggleable__label sk-toggleable__label-arrow\">DecisionTreeRegressor</label><div class=\"sk-toggleable__content\"><pre>DecisionTreeRegressor()</pre></div></div></div></div></div>"
      ],
      "text/plain": [
       "DecisionTreeRegressor()"
      ]
     },
     "execution_count": 52,
     "metadata": {},
     "output_type": "execute_result"
    }
   ],
   "source": [
    "regressor.fit(X_train, Y_train)"
   ]
  },
  {
   "cell_type": "code",
   "execution_count": 53,
   "id": "497dd792",
   "metadata": {},
   "outputs": [
    {
     "data": {
      "text/plain": [
       "(1.0, 0.9084435401831129)"
      ]
     },
     "execution_count": 53,
     "metadata": {},
     "output_type": "execute_result"
    }
   ],
   "source": [
    "regressor.score(X_train, Y_train),regressor.score(X_test, Y_test)"
   ]
  },
  {
   "cell_type": "markdown",
   "id": "a508ad74",
   "metadata": {},
   "source": [
    "Using the DecisionTreeRegressor algo, well, the test score seems good, but the 1.0 score shows the model is overfitting!"
   ]
  },
  {
   "cell_type": "markdown",
   "id": "d01c0066",
   "metadata": {},
   "source": [
    "##### >> Utilize bagging ensemble method"
   ]
  },
  {
   "cell_type": "code",
   "execution_count": 54,
   "id": "70d704d8",
   "metadata": {},
   "outputs": [],
   "source": [
    "models['dt']= DecisionTreeRegressor()"
   ]
  },
  {
   "cell_type": "code",
   "execution_count": 55,
   "id": "24786d76",
   "metadata": {},
   "outputs": [
    {
     "name": "stderr",
     "output_type": "stream",
     "text": [
      "C:\\ProgramData\\Anaconda3\\lib\\site-packages\\sklearn\\ensemble\\_bagging.py:470: DataConversionWarning: A column-vector y was passed when a 1d array was expected. Please change the shape of y to (n_samples, ), for example using ravel().\n",
      "  return column_or_1d(y, warn=True)\n"
     ]
    },
    {
     "data": {
      "text/html": [
       "<style>#sk-container-id-2 {color: black;background-color: white;}#sk-container-id-2 pre{padding: 0;}#sk-container-id-2 div.sk-toggleable {background-color: white;}#sk-container-id-2 label.sk-toggleable__label {cursor: pointer;display: block;width: 100%;margin-bottom: 0;padding: 0.3em;box-sizing: border-box;text-align: center;}#sk-container-id-2 label.sk-toggleable__label-arrow:before {content: \"▸\";float: left;margin-right: 0.25em;color: #696969;}#sk-container-id-2 label.sk-toggleable__label-arrow:hover:before {color: black;}#sk-container-id-2 div.sk-estimator:hover label.sk-toggleable__label-arrow:before {color: black;}#sk-container-id-2 div.sk-toggleable__content {max-height: 0;max-width: 0;overflow: hidden;text-align: left;background-color: #f0f8ff;}#sk-container-id-2 div.sk-toggleable__content pre {margin: 0.2em;color: black;border-radius: 0.25em;background-color: #f0f8ff;}#sk-container-id-2 input.sk-toggleable__control:checked~div.sk-toggleable__content {max-height: 200px;max-width: 100%;overflow: auto;}#sk-container-id-2 input.sk-toggleable__control:checked~label.sk-toggleable__label-arrow:before {content: \"▾\";}#sk-container-id-2 div.sk-estimator input.sk-toggleable__control:checked~label.sk-toggleable__label {background-color: #d4ebff;}#sk-container-id-2 div.sk-label input.sk-toggleable__control:checked~label.sk-toggleable__label {background-color: #d4ebff;}#sk-container-id-2 input.sk-hidden--visually {border: 0;clip: rect(1px 1px 1px 1px);clip: rect(1px, 1px, 1px, 1px);height: 1px;margin: -1px;overflow: hidden;padding: 0;position: absolute;width: 1px;}#sk-container-id-2 div.sk-estimator {font-family: monospace;background-color: #f0f8ff;border: 1px dotted black;border-radius: 0.25em;box-sizing: border-box;margin-bottom: 0.5em;}#sk-container-id-2 div.sk-estimator:hover {background-color: #d4ebff;}#sk-container-id-2 div.sk-parallel-item::after {content: \"\";width: 100%;border-bottom: 1px solid gray;flex-grow: 1;}#sk-container-id-2 div.sk-label:hover label.sk-toggleable__label {background-color: #d4ebff;}#sk-container-id-2 div.sk-serial::before {content: \"\";position: absolute;border-left: 1px solid gray;box-sizing: border-box;top: 0;bottom: 0;left: 50%;z-index: 0;}#sk-container-id-2 div.sk-serial {display: flex;flex-direction: column;align-items: center;background-color: white;padding-right: 0.2em;padding-left: 0.2em;position: relative;}#sk-container-id-2 div.sk-item {position: relative;z-index: 1;}#sk-container-id-2 div.sk-parallel {display: flex;align-items: stretch;justify-content: center;background-color: white;position: relative;}#sk-container-id-2 div.sk-item::before, #sk-container-id-2 div.sk-parallel-item::before {content: \"\";position: absolute;border-left: 1px solid gray;box-sizing: border-box;top: 0;bottom: 0;left: 50%;z-index: -1;}#sk-container-id-2 div.sk-parallel-item {display: flex;flex-direction: column;z-index: 1;position: relative;background-color: white;}#sk-container-id-2 div.sk-parallel-item:first-child::after {align-self: flex-end;width: 50%;}#sk-container-id-2 div.sk-parallel-item:last-child::after {align-self: flex-start;width: 50%;}#sk-container-id-2 div.sk-parallel-item:only-child::after {width: 0;}#sk-container-id-2 div.sk-dashed-wrapped {border: 1px dashed gray;margin: 0 0.4em 0.5em 0.4em;box-sizing: border-box;padding-bottom: 0.4em;background-color: white;}#sk-container-id-2 div.sk-label label {font-family: monospace;font-weight: bold;display: inline-block;line-height: 1.2em;}#sk-container-id-2 div.sk-label-container {text-align: center;}#sk-container-id-2 div.sk-container {/* jupyter's `normalize.less` sets `[hidden] { display: none; }` but bootstrap.min.css set `[hidden] { display: none !important; }` so we also need the `!important` here to be able to override the default hidden behavior on the sphinx rendered scikit-learn.org. See: https://github.com/scikit-learn/scikit-learn/issues/21755 */display: inline-block !important;position: relative;}#sk-container-id-2 div.sk-text-repr-fallback {display: none;}</style><div id=\"sk-container-id-2\" class=\"sk-top-container\"><div class=\"sk-text-repr-fallback\"><pre>BaggingRegressor(base_estimator=DecisionTreeRegressor(), n_estimators=100,\n",
       "                 n_jobs=-1, random_state=42)</pre><b>In a Jupyter environment, please rerun this cell to show the HTML representation or trust the notebook. <br />On GitHub, the HTML representation is unable to render, please try loading this page with nbviewer.org.</b></div><div class=\"sk-container\" hidden><div class=\"sk-item sk-dashed-wrapped\"><div class=\"sk-label-container\"><div class=\"sk-label sk-toggleable\"><input class=\"sk-toggleable__control sk-hidden--visually\" id=\"sk-estimator-id-2\" type=\"checkbox\" ><label for=\"sk-estimator-id-2\" class=\"sk-toggleable__label sk-toggleable__label-arrow\">BaggingRegressor</label><div class=\"sk-toggleable__content\"><pre>BaggingRegressor(base_estimator=DecisionTreeRegressor(), n_estimators=100,\n",
       "                 n_jobs=-1, random_state=42)</pre></div></div></div><div class=\"sk-parallel\"><div class=\"sk-parallel-item\"><div class=\"sk-item\"><div class=\"sk-label-container\"><div class=\"sk-label sk-toggleable\"><input class=\"sk-toggleable__control sk-hidden--visually\" id=\"sk-estimator-id-3\" type=\"checkbox\" ><label for=\"sk-estimator-id-3\" class=\"sk-toggleable__label sk-toggleable__label-arrow\">base_estimator: DecisionTreeRegressor</label><div class=\"sk-toggleable__content\"><pre>DecisionTreeRegressor()</pre></div></div></div><div class=\"sk-serial\"><div class=\"sk-item\"><div class=\"sk-estimator sk-toggleable\"><input class=\"sk-toggleable__control sk-hidden--visually\" id=\"sk-estimator-id-4\" type=\"checkbox\" ><label for=\"sk-estimator-id-4\" class=\"sk-toggleable__label sk-toggleable__label-arrow\">DecisionTreeRegressor</label><div class=\"sk-toggleable__content\"><pre>DecisionTreeRegressor()</pre></div></div></div></div></div></div></div></div></div></div>"
      ],
      "text/plain": [
       "BaggingRegressor(base_estimator=DecisionTreeRegressor(), n_estimators=100,\n",
       "                 n_jobs=-1, random_state=42)"
      ]
     },
     "execution_count": 55,
     "metadata": {},
     "output_type": "execute_result"
    }
   ],
   "source": [
    "bag_clf = BaggingRegressor(base_estimator=models['dt'], n_estimators=100,\n",
    "                            bootstrap=True, n_jobs=-1,\n",
    "                            random_state=42)\n",
    "\n",
    "bag_clf.fit(X_train, Y_train)"
   ]
  },
  {
   "cell_type": "code",
   "execution_count": 56,
   "id": "ace7cfad",
   "metadata": {},
   "outputs": [
    {
     "data": {
      "text/plain": [
       "(0.9886376953485795, 0.9263940996948118)"
      ]
     },
     "execution_count": 56,
     "metadata": {},
     "output_type": "execute_result"
    }
   ],
   "source": [
    "bag_clf.score(X_train,Y_train),bag_clf.score(X_test,Y_test)"
   ]
  },
  {
   "cell_type": "markdown",
   "id": "f42cc888",
   "metadata": {},
   "source": [
    "### RandomForestRegressor"
   ]
  },
  {
   "cell_type": "code",
   "execution_count": 57,
   "id": "ce34fada",
   "metadata": {},
   "outputs": [],
   "source": [
    "score=[]\n",
    "regressorRF = RandomForestRegressor()"
   ]
  },
  {
   "cell_type": "code",
   "execution_count": 58,
   "id": "bc05cab5",
   "metadata": {},
   "outputs": [
    {
     "name": "stderr",
     "output_type": "stream",
     "text": [
      "C:\\Users\\jcggr\\AppData\\Local\\Temp\\ipykernel_3760\\2427466003.py:1: DataConversionWarning: A column-vector y was passed when a 1d array was expected. Please change the shape of y to (n_samples,), for example using ravel().\n",
      "  regressorRF.fit(X_train, Y_train)\n"
     ]
    },
    {
     "data": {
      "text/html": [
       "<style>#sk-container-id-3 {color: black;background-color: white;}#sk-container-id-3 pre{padding: 0;}#sk-container-id-3 div.sk-toggleable {background-color: white;}#sk-container-id-3 label.sk-toggleable__label {cursor: pointer;display: block;width: 100%;margin-bottom: 0;padding: 0.3em;box-sizing: border-box;text-align: center;}#sk-container-id-3 label.sk-toggleable__label-arrow:before {content: \"▸\";float: left;margin-right: 0.25em;color: #696969;}#sk-container-id-3 label.sk-toggleable__label-arrow:hover:before {color: black;}#sk-container-id-3 div.sk-estimator:hover label.sk-toggleable__label-arrow:before {color: black;}#sk-container-id-3 div.sk-toggleable__content {max-height: 0;max-width: 0;overflow: hidden;text-align: left;background-color: #f0f8ff;}#sk-container-id-3 div.sk-toggleable__content pre {margin: 0.2em;color: black;border-radius: 0.25em;background-color: #f0f8ff;}#sk-container-id-3 input.sk-toggleable__control:checked~div.sk-toggleable__content {max-height: 200px;max-width: 100%;overflow: auto;}#sk-container-id-3 input.sk-toggleable__control:checked~label.sk-toggleable__label-arrow:before {content: \"▾\";}#sk-container-id-3 div.sk-estimator input.sk-toggleable__control:checked~label.sk-toggleable__label {background-color: #d4ebff;}#sk-container-id-3 div.sk-label input.sk-toggleable__control:checked~label.sk-toggleable__label {background-color: #d4ebff;}#sk-container-id-3 input.sk-hidden--visually {border: 0;clip: rect(1px 1px 1px 1px);clip: rect(1px, 1px, 1px, 1px);height: 1px;margin: -1px;overflow: hidden;padding: 0;position: absolute;width: 1px;}#sk-container-id-3 div.sk-estimator {font-family: monospace;background-color: #f0f8ff;border: 1px dotted black;border-radius: 0.25em;box-sizing: border-box;margin-bottom: 0.5em;}#sk-container-id-3 div.sk-estimator:hover {background-color: #d4ebff;}#sk-container-id-3 div.sk-parallel-item::after {content: \"\";width: 100%;border-bottom: 1px solid gray;flex-grow: 1;}#sk-container-id-3 div.sk-label:hover label.sk-toggleable__label {background-color: #d4ebff;}#sk-container-id-3 div.sk-serial::before {content: \"\";position: absolute;border-left: 1px solid gray;box-sizing: border-box;top: 0;bottom: 0;left: 50%;z-index: 0;}#sk-container-id-3 div.sk-serial {display: flex;flex-direction: column;align-items: center;background-color: white;padding-right: 0.2em;padding-left: 0.2em;position: relative;}#sk-container-id-3 div.sk-item {position: relative;z-index: 1;}#sk-container-id-3 div.sk-parallel {display: flex;align-items: stretch;justify-content: center;background-color: white;position: relative;}#sk-container-id-3 div.sk-item::before, #sk-container-id-3 div.sk-parallel-item::before {content: \"\";position: absolute;border-left: 1px solid gray;box-sizing: border-box;top: 0;bottom: 0;left: 50%;z-index: -1;}#sk-container-id-3 div.sk-parallel-item {display: flex;flex-direction: column;z-index: 1;position: relative;background-color: white;}#sk-container-id-3 div.sk-parallel-item:first-child::after {align-self: flex-end;width: 50%;}#sk-container-id-3 div.sk-parallel-item:last-child::after {align-self: flex-start;width: 50%;}#sk-container-id-3 div.sk-parallel-item:only-child::after {width: 0;}#sk-container-id-3 div.sk-dashed-wrapped {border: 1px dashed gray;margin: 0 0.4em 0.5em 0.4em;box-sizing: border-box;padding-bottom: 0.4em;background-color: white;}#sk-container-id-3 div.sk-label label {font-family: monospace;font-weight: bold;display: inline-block;line-height: 1.2em;}#sk-container-id-3 div.sk-label-container {text-align: center;}#sk-container-id-3 div.sk-container {/* jupyter's `normalize.less` sets `[hidden] { display: none; }` but bootstrap.min.css set `[hidden] { display: none !important; }` so we also need the `!important` here to be able to override the default hidden behavior on the sphinx rendered scikit-learn.org. See: https://github.com/scikit-learn/scikit-learn/issues/21755 */display: inline-block !important;position: relative;}#sk-container-id-3 div.sk-text-repr-fallback {display: none;}</style><div id=\"sk-container-id-3\" class=\"sk-top-container\"><div class=\"sk-text-repr-fallback\"><pre>RandomForestRegressor()</pre><b>In a Jupyter environment, please rerun this cell to show the HTML representation or trust the notebook. <br />On GitHub, the HTML representation is unable to render, please try loading this page with nbviewer.org.</b></div><div class=\"sk-container\" hidden><div class=\"sk-item\"><div class=\"sk-estimator sk-toggleable\"><input class=\"sk-toggleable__control sk-hidden--visually\" id=\"sk-estimator-id-5\" type=\"checkbox\" checked><label for=\"sk-estimator-id-5\" class=\"sk-toggleable__label sk-toggleable__label-arrow\">RandomForestRegressor</label><div class=\"sk-toggleable__content\"><pre>RandomForestRegressor()</pre></div></div></div></div></div>"
      ],
      "text/plain": [
       "RandomForestRegressor()"
      ]
     },
     "execution_count": 58,
     "metadata": {},
     "output_type": "execute_result"
    }
   ],
   "source": [
    "regressorRF.fit(X_train, Y_train)"
   ]
  },
  {
   "cell_type": "code",
   "execution_count": 59,
   "id": "6fd9f239",
   "metadata": {},
   "outputs": [
    {
     "data": {
      "text/plain": [
       "(0.9910057634758193, 0.9292817904374364)"
      ]
     },
     "execution_count": 59,
     "metadata": {},
     "output_type": "execute_result"
    }
   ],
   "source": [
    "regressorRF.score(X_train, Y_train),regressorRF.score(X_test, Y_test)"
   ]
  },
  {
   "cell_type": "markdown",
   "id": "7a1e63d5",
   "metadata": {},
   "source": [
    "##### >> Utilize bagging ensemble method"
   ]
  },
  {
   "cell_type": "code",
   "execution_count": 60,
   "id": "c0d89f3e",
   "metadata": {},
   "outputs": [],
   "source": [
    "models['rf'] = RandomForestRegressor()"
   ]
  },
  {
   "cell_type": "code",
   "execution_count": 61,
   "id": "f64937e6",
   "metadata": {},
   "outputs": [
    {
     "name": "stderr",
     "output_type": "stream",
     "text": [
      "C:\\ProgramData\\Anaconda3\\lib\\site-packages\\sklearn\\ensemble\\_bagging.py:470: DataConversionWarning: A column-vector y was passed when a 1d array was expected. Please change the shape of y to (n_samples, ), for example using ravel().\n",
      "  return column_or_1d(y, warn=True)\n"
     ]
    },
    {
     "data": {
      "text/html": [
       "<style>#sk-container-id-4 {color: black;background-color: white;}#sk-container-id-4 pre{padding: 0;}#sk-container-id-4 div.sk-toggleable {background-color: white;}#sk-container-id-4 label.sk-toggleable__label {cursor: pointer;display: block;width: 100%;margin-bottom: 0;padding: 0.3em;box-sizing: border-box;text-align: center;}#sk-container-id-4 label.sk-toggleable__label-arrow:before {content: \"▸\";float: left;margin-right: 0.25em;color: #696969;}#sk-container-id-4 label.sk-toggleable__label-arrow:hover:before {color: black;}#sk-container-id-4 div.sk-estimator:hover label.sk-toggleable__label-arrow:before {color: black;}#sk-container-id-4 div.sk-toggleable__content {max-height: 0;max-width: 0;overflow: hidden;text-align: left;background-color: #f0f8ff;}#sk-container-id-4 div.sk-toggleable__content pre {margin: 0.2em;color: black;border-radius: 0.25em;background-color: #f0f8ff;}#sk-container-id-4 input.sk-toggleable__control:checked~div.sk-toggleable__content {max-height: 200px;max-width: 100%;overflow: auto;}#sk-container-id-4 input.sk-toggleable__control:checked~label.sk-toggleable__label-arrow:before {content: \"▾\";}#sk-container-id-4 div.sk-estimator input.sk-toggleable__control:checked~label.sk-toggleable__label {background-color: #d4ebff;}#sk-container-id-4 div.sk-label input.sk-toggleable__control:checked~label.sk-toggleable__label {background-color: #d4ebff;}#sk-container-id-4 input.sk-hidden--visually {border: 0;clip: rect(1px 1px 1px 1px);clip: rect(1px, 1px, 1px, 1px);height: 1px;margin: -1px;overflow: hidden;padding: 0;position: absolute;width: 1px;}#sk-container-id-4 div.sk-estimator {font-family: monospace;background-color: #f0f8ff;border: 1px dotted black;border-radius: 0.25em;box-sizing: border-box;margin-bottom: 0.5em;}#sk-container-id-4 div.sk-estimator:hover {background-color: #d4ebff;}#sk-container-id-4 div.sk-parallel-item::after {content: \"\";width: 100%;border-bottom: 1px solid gray;flex-grow: 1;}#sk-container-id-4 div.sk-label:hover label.sk-toggleable__label {background-color: #d4ebff;}#sk-container-id-4 div.sk-serial::before {content: \"\";position: absolute;border-left: 1px solid gray;box-sizing: border-box;top: 0;bottom: 0;left: 50%;z-index: 0;}#sk-container-id-4 div.sk-serial {display: flex;flex-direction: column;align-items: center;background-color: white;padding-right: 0.2em;padding-left: 0.2em;position: relative;}#sk-container-id-4 div.sk-item {position: relative;z-index: 1;}#sk-container-id-4 div.sk-parallel {display: flex;align-items: stretch;justify-content: center;background-color: white;position: relative;}#sk-container-id-4 div.sk-item::before, #sk-container-id-4 div.sk-parallel-item::before {content: \"\";position: absolute;border-left: 1px solid gray;box-sizing: border-box;top: 0;bottom: 0;left: 50%;z-index: -1;}#sk-container-id-4 div.sk-parallel-item {display: flex;flex-direction: column;z-index: 1;position: relative;background-color: white;}#sk-container-id-4 div.sk-parallel-item:first-child::after {align-self: flex-end;width: 50%;}#sk-container-id-4 div.sk-parallel-item:last-child::after {align-self: flex-start;width: 50%;}#sk-container-id-4 div.sk-parallel-item:only-child::after {width: 0;}#sk-container-id-4 div.sk-dashed-wrapped {border: 1px dashed gray;margin: 0 0.4em 0.5em 0.4em;box-sizing: border-box;padding-bottom: 0.4em;background-color: white;}#sk-container-id-4 div.sk-label label {font-family: monospace;font-weight: bold;display: inline-block;line-height: 1.2em;}#sk-container-id-4 div.sk-label-container {text-align: center;}#sk-container-id-4 div.sk-container {/* jupyter's `normalize.less` sets `[hidden] { display: none; }` but bootstrap.min.css set `[hidden] { display: none !important; }` so we also need the `!important` here to be able to override the default hidden behavior on the sphinx rendered scikit-learn.org. See: https://github.com/scikit-learn/scikit-learn/issues/21755 */display: inline-block !important;position: relative;}#sk-container-id-4 div.sk-text-repr-fallback {display: none;}</style><div id=\"sk-container-id-4\" class=\"sk-top-container\"><div class=\"sk-text-repr-fallback\"><pre>BaggingRegressor(base_estimator=RandomForestRegressor(), n_estimators=100,\n",
       "                 n_jobs=-1, random_state=42)</pre><b>In a Jupyter environment, please rerun this cell to show the HTML representation or trust the notebook. <br />On GitHub, the HTML representation is unable to render, please try loading this page with nbviewer.org.</b></div><div class=\"sk-container\" hidden><div class=\"sk-item sk-dashed-wrapped\"><div class=\"sk-label-container\"><div class=\"sk-label sk-toggleable\"><input class=\"sk-toggleable__control sk-hidden--visually\" id=\"sk-estimator-id-6\" type=\"checkbox\" ><label for=\"sk-estimator-id-6\" class=\"sk-toggleable__label sk-toggleable__label-arrow\">BaggingRegressor</label><div class=\"sk-toggleable__content\"><pre>BaggingRegressor(base_estimator=RandomForestRegressor(), n_estimators=100,\n",
       "                 n_jobs=-1, random_state=42)</pre></div></div></div><div class=\"sk-parallel\"><div class=\"sk-parallel-item\"><div class=\"sk-item\"><div class=\"sk-label-container\"><div class=\"sk-label sk-toggleable\"><input class=\"sk-toggleable__control sk-hidden--visually\" id=\"sk-estimator-id-7\" type=\"checkbox\" ><label for=\"sk-estimator-id-7\" class=\"sk-toggleable__label sk-toggleable__label-arrow\">base_estimator: RandomForestRegressor</label><div class=\"sk-toggleable__content\"><pre>RandomForestRegressor()</pre></div></div></div><div class=\"sk-serial\"><div class=\"sk-item\"><div class=\"sk-estimator sk-toggleable\"><input class=\"sk-toggleable__control sk-hidden--visually\" id=\"sk-estimator-id-8\" type=\"checkbox\" ><label for=\"sk-estimator-id-8\" class=\"sk-toggleable__label sk-toggleable__label-arrow\">RandomForestRegressor</label><div class=\"sk-toggleable__content\"><pre>RandomForestRegressor()</pre></div></div></div></div></div></div></div></div></div></div>"
      ],
      "text/plain": [
       "BaggingRegressor(base_estimator=RandomForestRegressor(), n_estimators=100,\n",
       "                 n_jobs=-1, random_state=42)"
      ]
     },
     "execution_count": 61,
     "metadata": {},
     "output_type": "execute_result"
    }
   ],
   "source": [
    "bag_clf = BaggingRegressor(base_estimator=models['rf'], n_estimators=100,\n",
    "                            bootstrap=True, n_jobs=-1,\n",
    "                            random_state=42)\n",
    "\n",
    "bag_clf.fit(X_train, Y_train)"
   ]
  },
  {
   "cell_type": "code",
   "execution_count": 62,
   "id": "c101d3fa",
   "metadata": {},
   "outputs": [
    {
     "data": {
      "text/plain": [
       "(0.9695956697380574, 0.9108288172329604)"
      ]
     },
     "execution_count": 62,
     "metadata": {},
     "output_type": "execute_result"
    }
   ],
   "source": [
    "bag_clf.score(X_train,Y_train),bag_clf.score(X_test,Y_test)"
   ]
  },
  {
   "cell_type": "markdown",
   "id": "ddac2e51",
   "metadata": {},
   "source": [
    "### Lasso Regressor"
   ]
  },
  {
   "cell_type": "code",
   "execution_count": 88,
   "id": "332ddc47",
   "metadata": {},
   "outputs": [],
   "source": [
    "score=[]\n",
    "regressorLSO = LassoCV()"
   ]
  },
  {
   "cell_type": "code",
   "execution_count": 90,
   "id": "3dc23ca8",
   "metadata": {},
   "outputs": [
    {
     "name": "stderr",
     "output_type": "stream",
     "text": [
      "C:\\ProgramData\\Anaconda3\\lib\\site-packages\\sklearn\\linear_model\\_coordinate_descent.py:1614: DataConversionWarning: A column-vector y was passed when a 1d array was expected. Please change the shape of y to (n_samples, ), for example using ravel().\n",
      "  y = column_or_1d(y, warn=True)\n"
     ]
    },
    {
     "data": {
      "text/html": [
       "<style>#sk-container-id-12 {color: black;background-color: white;}#sk-container-id-12 pre{padding: 0;}#sk-container-id-12 div.sk-toggleable {background-color: white;}#sk-container-id-12 label.sk-toggleable__label {cursor: pointer;display: block;width: 100%;margin-bottom: 0;padding: 0.3em;box-sizing: border-box;text-align: center;}#sk-container-id-12 label.sk-toggleable__label-arrow:before {content: \"▸\";float: left;margin-right: 0.25em;color: #696969;}#sk-container-id-12 label.sk-toggleable__label-arrow:hover:before {color: black;}#sk-container-id-12 div.sk-estimator:hover label.sk-toggleable__label-arrow:before {color: black;}#sk-container-id-12 div.sk-toggleable__content {max-height: 0;max-width: 0;overflow: hidden;text-align: left;background-color: #f0f8ff;}#sk-container-id-12 div.sk-toggleable__content pre {margin: 0.2em;color: black;border-radius: 0.25em;background-color: #f0f8ff;}#sk-container-id-12 input.sk-toggleable__control:checked~div.sk-toggleable__content {max-height: 200px;max-width: 100%;overflow: auto;}#sk-container-id-12 input.sk-toggleable__control:checked~label.sk-toggleable__label-arrow:before {content: \"▾\";}#sk-container-id-12 div.sk-estimator input.sk-toggleable__control:checked~label.sk-toggleable__label {background-color: #d4ebff;}#sk-container-id-12 div.sk-label input.sk-toggleable__control:checked~label.sk-toggleable__label {background-color: #d4ebff;}#sk-container-id-12 input.sk-hidden--visually {border: 0;clip: rect(1px 1px 1px 1px);clip: rect(1px, 1px, 1px, 1px);height: 1px;margin: -1px;overflow: hidden;padding: 0;position: absolute;width: 1px;}#sk-container-id-12 div.sk-estimator {font-family: monospace;background-color: #f0f8ff;border: 1px dotted black;border-radius: 0.25em;box-sizing: border-box;margin-bottom: 0.5em;}#sk-container-id-12 div.sk-estimator:hover {background-color: #d4ebff;}#sk-container-id-12 div.sk-parallel-item::after {content: \"\";width: 100%;border-bottom: 1px solid gray;flex-grow: 1;}#sk-container-id-12 div.sk-label:hover label.sk-toggleable__label {background-color: #d4ebff;}#sk-container-id-12 div.sk-serial::before {content: \"\";position: absolute;border-left: 1px solid gray;box-sizing: border-box;top: 0;bottom: 0;left: 50%;z-index: 0;}#sk-container-id-12 div.sk-serial {display: flex;flex-direction: column;align-items: center;background-color: white;padding-right: 0.2em;padding-left: 0.2em;position: relative;}#sk-container-id-12 div.sk-item {position: relative;z-index: 1;}#sk-container-id-12 div.sk-parallel {display: flex;align-items: stretch;justify-content: center;background-color: white;position: relative;}#sk-container-id-12 div.sk-item::before, #sk-container-id-12 div.sk-parallel-item::before {content: \"\";position: absolute;border-left: 1px solid gray;box-sizing: border-box;top: 0;bottom: 0;left: 50%;z-index: -1;}#sk-container-id-12 div.sk-parallel-item {display: flex;flex-direction: column;z-index: 1;position: relative;background-color: white;}#sk-container-id-12 div.sk-parallel-item:first-child::after {align-self: flex-end;width: 50%;}#sk-container-id-12 div.sk-parallel-item:last-child::after {align-self: flex-start;width: 50%;}#sk-container-id-12 div.sk-parallel-item:only-child::after {width: 0;}#sk-container-id-12 div.sk-dashed-wrapped {border: 1px dashed gray;margin: 0 0.4em 0.5em 0.4em;box-sizing: border-box;padding-bottom: 0.4em;background-color: white;}#sk-container-id-12 div.sk-label label {font-family: monospace;font-weight: bold;display: inline-block;line-height: 1.2em;}#sk-container-id-12 div.sk-label-container {text-align: center;}#sk-container-id-12 div.sk-container {/* jupyter's `normalize.less` sets `[hidden] { display: none; }` but bootstrap.min.css set `[hidden] { display: none !important; }` so we also need the `!important` here to be able to override the default hidden behavior on the sphinx rendered scikit-learn.org. See: https://github.com/scikit-learn/scikit-learn/issues/21755 */display: inline-block !important;position: relative;}#sk-container-id-12 div.sk-text-repr-fallback {display: none;}</style><div id=\"sk-container-id-12\" class=\"sk-top-container\"><div class=\"sk-text-repr-fallback\"><pre>LassoCV()</pre><b>In a Jupyter environment, please rerun this cell to show the HTML representation or trust the notebook. <br />On GitHub, the HTML representation is unable to render, please try loading this page with nbviewer.org.</b></div><div class=\"sk-container\" hidden><div class=\"sk-item\"><div class=\"sk-estimator sk-toggleable\"><input class=\"sk-toggleable__control sk-hidden--visually\" id=\"sk-estimator-id-22\" type=\"checkbox\" checked><label for=\"sk-estimator-id-22\" class=\"sk-toggleable__label sk-toggleable__label-arrow\">LassoCV</label><div class=\"sk-toggleable__content\"><pre>LassoCV()</pre></div></div></div></div></div>"
      ],
      "text/plain": [
       "LassoCV()"
      ]
     },
     "execution_count": 90,
     "metadata": {},
     "output_type": "execute_result"
    }
   ],
   "source": [
    "regressorLSO.fit(X_train, Y_train)"
   ]
  },
  {
   "cell_type": "code",
   "execution_count": 91,
   "id": "18df8153",
   "metadata": {},
   "outputs": [
    {
     "data": {
      "text/plain": [
       "(0.8232755594531066, 0.8347401485316958)"
      ]
     },
     "execution_count": 91,
     "metadata": {},
     "output_type": "execute_result"
    }
   ],
   "source": [
    "regressorLSO.score(X_train, Y_train),regressorLSO.score(X_test, Y_test)"
   ]
  },
  {
   "cell_type": "markdown",
   "id": "5984870a",
   "metadata": {},
   "source": [
    "##### >> Utilize bagging ensemble method"
   ]
  },
  {
   "cell_type": "code",
   "execution_count": 92,
   "id": "6855c7e5",
   "metadata": {},
   "outputs": [],
   "source": [
    "models['lso'] = LassoCV()"
   ]
  },
  {
   "cell_type": "code",
   "execution_count": 93,
   "id": "1ee75d4e",
   "metadata": {},
   "outputs": [
    {
     "name": "stderr",
     "output_type": "stream",
     "text": [
      "C:\\ProgramData\\Anaconda3\\lib\\site-packages\\sklearn\\ensemble\\_bagging.py:470: DataConversionWarning: A column-vector y was passed when a 1d array was expected. Please change the shape of y to (n_samples, ), for example using ravel().\n",
      "  return column_or_1d(y, warn=True)\n"
     ]
    },
    {
     "data": {
      "text/html": [
       "<style>#sk-container-id-13 {color: black;background-color: white;}#sk-container-id-13 pre{padding: 0;}#sk-container-id-13 div.sk-toggleable {background-color: white;}#sk-container-id-13 label.sk-toggleable__label {cursor: pointer;display: block;width: 100%;margin-bottom: 0;padding: 0.3em;box-sizing: border-box;text-align: center;}#sk-container-id-13 label.sk-toggleable__label-arrow:before {content: \"▸\";float: left;margin-right: 0.25em;color: #696969;}#sk-container-id-13 label.sk-toggleable__label-arrow:hover:before {color: black;}#sk-container-id-13 div.sk-estimator:hover label.sk-toggleable__label-arrow:before {color: black;}#sk-container-id-13 div.sk-toggleable__content {max-height: 0;max-width: 0;overflow: hidden;text-align: left;background-color: #f0f8ff;}#sk-container-id-13 div.sk-toggleable__content pre {margin: 0.2em;color: black;border-radius: 0.25em;background-color: #f0f8ff;}#sk-container-id-13 input.sk-toggleable__control:checked~div.sk-toggleable__content {max-height: 200px;max-width: 100%;overflow: auto;}#sk-container-id-13 input.sk-toggleable__control:checked~label.sk-toggleable__label-arrow:before {content: \"▾\";}#sk-container-id-13 div.sk-estimator input.sk-toggleable__control:checked~label.sk-toggleable__label {background-color: #d4ebff;}#sk-container-id-13 div.sk-label input.sk-toggleable__control:checked~label.sk-toggleable__label {background-color: #d4ebff;}#sk-container-id-13 input.sk-hidden--visually {border: 0;clip: rect(1px 1px 1px 1px);clip: rect(1px, 1px, 1px, 1px);height: 1px;margin: -1px;overflow: hidden;padding: 0;position: absolute;width: 1px;}#sk-container-id-13 div.sk-estimator {font-family: monospace;background-color: #f0f8ff;border: 1px dotted black;border-radius: 0.25em;box-sizing: border-box;margin-bottom: 0.5em;}#sk-container-id-13 div.sk-estimator:hover {background-color: #d4ebff;}#sk-container-id-13 div.sk-parallel-item::after {content: \"\";width: 100%;border-bottom: 1px solid gray;flex-grow: 1;}#sk-container-id-13 div.sk-label:hover label.sk-toggleable__label {background-color: #d4ebff;}#sk-container-id-13 div.sk-serial::before {content: \"\";position: absolute;border-left: 1px solid gray;box-sizing: border-box;top: 0;bottom: 0;left: 50%;z-index: 0;}#sk-container-id-13 div.sk-serial {display: flex;flex-direction: column;align-items: center;background-color: white;padding-right: 0.2em;padding-left: 0.2em;position: relative;}#sk-container-id-13 div.sk-item {position: relative;z-index: 1;}#sk-container-id-13 div.sk-parallel {display: flex;align-items: stretch;justify-content: center;background-color: white;position: relative;}#sk-container-id-13 div.sk-item::before, #sk-container-id-13 div.sk-parallel-item::before {content: \"\";position: absolute;border-left: 1px solid gray;box-sizing: border-box;top: 0;bottom: 0;left: 50%;z-index: -1;}#sk-container-id-13 div.sk-parallel-item {display: flex;flex-direction: column;z-index: 1;position: relative;background-color: white;}#sk-container-id-13 div.sk-parallel-item:first-child::after {align-self: flex-end;width: 50%;}#sk-container-id-13 div.sk-parallel-item:last-child::after {align-self: flex-start;width: 50%;}#sk-container-id-13 div.sk-parallel-item:only-child::after {width: 0;}#sk-container-id-13 div.sk-dashed-wrapped {border: 1px dashed gray;margin: 0 0.4em 0.5em 0.4em;box-sizing: border-box;padding-bottom: 0.4em;background-color: white;}#sk-container-id-13 div.sk-label label {font-family: monospace;font-weight: bold;display: inline-block;line-height: 1.2em;}#sk-container-id-13 div.sk-label-container {text-align: center;}#sk-container-id-13 div.sk-container {/* jupyter's `normalize.less` sets `[hidden] { display: none; }` but bootstrap.min.css set `[hidden] { display: none !important; }` so we also need the `!important` here to be able to override the default hidden behavior on the sphinx rendered scikit-learn.org. See: https://github.com/scikit-learn/scikit-learn/issues/21755 */display: inline-block !important;position: relative;}#sk-container-id-13 div.sk-text-repr-fallback {display: none;}</style><div id=\"sk-container-id-13\" class=\"sk-top-container\"><div class=\"sk-text-repr-fallback\"><pre>BaggingRegressor(base_estimator=LassoCV(), n_estimators=100, n_jobs=-1,\n",
       "                 random_state=42)</pre><b>In a Jupyter environment, please rerun this cell to show the HTML representation or trust the notebook. <br />On GitHub, the HTML representation is unable to render, please try loading this page with nbviewer.org.</b></div><div class=\"sk-container\" hidden><div class=\"sk-item sk-dashed-wrapped\"><div class=\"sk-label-container\"><div class=\"sk-label sk-toggleable\"><input class=\"sk-toggleable__control sk-hidden--visually\" id=\"sk-estimator-id-23\" type=\"checkbox\" ><label for=\"sk-estimator-id-23\" class=\"sk-toggleable__label sk-toggleable__label-arrow\">BaggingRegressor</label><div class=\"sk-toggleable__content\"><pre>BaggingRegressor(base_estimator=LassoCV(), n_estimators=100, n_jobs=-1,\n",
       "                 random_state=42)</pre></div></div></div><div class=\"sk-parallel\"><div class=\"sk-parallel-item\"><div class=\"sk-item\"><div class=\"sk-label-container\"><div class=\"sk-label sk-toggleable\"><input class=\"sk-toggleable__control sk-hidden--visually\" id=\"sk-estimator-id-24\" type=\"checkbox\" ><label for=\"sk-estimator-id-24\" class=\"sk-toggleable__label sk-toggleable__label-arrow\">base_estimator: LassoCV</label><div class=\"sk-toggleable__content\"><pre>LassoCV()</pre></div></div></div><div class=\"sk-serial\"><div class=\"sk-item\"><div class=\"sk-estimator sk-toggleable\"><input class=\"sk-toggleable__control sk-hidden--visually\" id=\"sk-estimator-id-25\" type=\"checkbox\" ><label for=\"sk-estimator-id-25\" class=\"sk-toggleable__label sk-toggleable__label-arrow\">LassoCV</label><div class=\"sk-toggleable__content\"><pre>LassoCV()</pre></div></div></div></div></div></div></div></div></div></div>"
      ],
      "text/plain": [
       "BaggingRegressor(base_estimator=LassoCV(), n_estimators=100, n_jobs=-1,\n",
       "                 random_state=42)"
      ]
     },
     "execution_count": 93,
     "metadata": {},
     "output_type": "execute_result"
    }
   ],
   "source": [
    "bag_clf = BaggingRegressor(base_estimator=models['lso'], n_estimators=100,\n",
    "                            bootstrap=True, n_jobs=-1,\n",
    "                            random_state=42)\n",
    "\n",
    "bag_clf.fit(X_train, Y_train)"
   ]
  },
  {
   "cell_type": "code",
   "execution_count": 94,
   "id": "879f5117",
   "metadata": {},
   "outputs": [
    {
     "data": {
      "text/plain": [
       "(0.8239444005057299, 0.8308490074366335)"
      ]
     },
     "execution_count": 94,
     "metadata": {},
     "output_type": "execute_result"
    }
   ],
   "source": [
    "bag_clf.score(X_train,Y_train),bag_clf.score(X_test,Y_test)"
   ]
  },
  {
   "cell_type": "markdown",
   "id": "a5c25b6c",
   "metadata": {},
   "source": [
    "### ExtraTreesRegressor"
   ]
  },
  {
   "cell_type": "code",
   "execution_count": 69,
   "id": "a5958961",
   "metadata": {},
   "outputs": [],
   "source": [
    "score=[]\n",
    "regressorET = ExtraTreesRegressor()"
   ]
  },
  {
   "cell_type": "code",
   "execution_count": 70,
   "id": "7f9252ce",
   "metadata": {},
   "outputs": [
    {
     "name": "stderr",
     "output_type": "stream",
     "text": [
      "C:\\Users\\jcggr\\AppData\\Local\\Temp\\ipykernel_3760\\1715063309.py:1: DataConversionWarning: A column-vector y was passed when a 1d array was expected. Please change the shape of y to (n_samples,), for example using ravel().\n",
      "  regressorET.fit(X_train, Y_train)\n"
     ]
    },
    {
     "data": {
      "text/html": [
       "<style>#sk-container-id-7 {color: black;background-color: white;}#sk-container-id-7 pre{padding: 0;}#sk-container-id-7 div.sk-toggleable {background-color: white;}#sk-container-id-7 label.sk-toggleable__label {cursor: pointer;display: block;width: 100%;margin-bottom: 0;padding: 0.3em;box-sizing: border-box;text-align: center;}#sk-container-id-7 label.sk-toggleable__label-arrow:before {content: \"▸\";float: left;margin-right: 0.25em;color: #696969;}#sk-container-id-7 label.sk-toggleable__label-arrow:hover:before {color: black;}#sk-container-id-7 div.sk-estimator:hover label.sk-toggleable__label-arrow:before {color: black;}#sk-container-id-7 div.sk-toggleable__content {max-height: 0;max-width: 0;overflow: hidden;text-align: left;background-color: #f0f8ff;}#sk-container-id-7 div.sk-toggleable__content pre {margin: 0.2em;color: black;border-radius: 0.25em;background-color: #f0f8ff;}#sk-container-id-7 input.sk-toggleable__control:checked~div.sk-toggleable__content {max-height: 200px;max-width: 100%;overflow: auto;}#sk-container-id-7 input.sk-toggleable__control:checked~label.sk-toggleable__label-arrow:before {content: \"▾\";}#sk-container-id-7 div.sk-estimator input.sk-toggleable__control:checked~label.sk-toggleable__label {background-color: #d4ebff;}#sk-container-id-7 div.sk-label input.sk-toggleable__control:checked~label.sk-toggleable__label {background-color: #d4ebff;}#sk-container-id-7 input.sk-hidden--visually {border: 0;clip: rect(1px 1px 1px 1px);clip: rect(1px, 1px, 1px, 1px);height: 1px;margin: -1px;overflow: hidden;padding: 0;position: absolute;width: 1px;}#sk-container-id-7 div.sk-estimator {font-family: monospace;background-color: #f0f8ff;border: 1px dotted black;border-radius: 0.25em;box-sizing: border-box;margin-bottom: 0.5em;}#sk-container-id-7 div.sk-estimator:hover {background-color: #d4ebff;}#sk-container-id-7 div.sk-parallel-item::after {content: \"\";width: 100%;border-bottom: 1px solid gray;flex-grow: 1;}#sk-container-id-7 div.sk-label:hover label.sk-toggleable__label {background-color: #d4ebff;}#sk-container-id-7 div.sk-serial::before {content: \"\";position: absolute;border-left: 1px solid gray;box-sizing: border-box;top: 0;bottom: 0;left: 50%;z-index: 0;}#sk-container-id-7 div.sk-serial {display: flex;flex-direction: column;align-items: center;background-color: white;padding-right: 0.2em;padding-left: 0.2em;position: relative;}#sk-container-id-7 div.sk-item {position: relative;z-index: 1;}#sk-container-id-7 div.sk-parallel {display: flex;align-items: stretch;justify-content: center;background-color: white;position: relative;}#sk-container-id-7 div.sk-item::before, #sk-container-id-7 div.sk-parallel-item::before {content: \"\";position: absolute;border-left: 1px solid gray;box-sizing: border-box;top: 0;bottom: 0;left: 50%;z-index: -1;}#sk-container-id-7 div.sk-parallel-item {display: flex;flex-direction: column;z-index: 1;position: relative;background-color: white;}#sk-container-id-7 div.sk-parallel-item:first-child::after {align-self: flex-end;width: 50%;}#sk-container-id-7 div.sk-parallel-item:last-child::after {align-self: flex-start;width: 50%;}#sk-container-id-7 div.sk-parallel-item:only-child::after {width: 0;}#sk-container-id-7 div.sk-dashed-wrapped {border: 1px dashed gray;margin: 0 0.4em 0.5em 0.4em;box-sizing: border-box;padding-bottom: 0.4em;background-color: white;}#sk-container-id-7 div.sk-label label {font-family: monospace;font-weight: bold;display: inline-block;line-height: 1.2em;}#sk-container-id-7 div.sk-label-container {text-align: center;}#sk-container-id-7 div.sk-container {/* jupyter's `normalize.less` sets `[hidden] { display: none; }` but bootstrap.min.css set `[hidden] { display: none !important; }` so we also need the `!important` here to be able to override the default hidden behavior on the sphinx rendered scikit-learn.org. See: https://github.com/scikit-learn/scikit-learn/issues/21755 */display: inline-block !important;position: relative;}#sk-container-id-7 div.sk-text-repr-fallback {display: none;}</style><div id=\"sk-container-id-7\" class=\"sk-top-container\"><div class=\"sk-text-repr-fallback\"><pre>ExtraTreesRegressor()</pre><b>In a Jupyter environment, please rerun this cell to show the HTML representation or trust the notebook. <br />On GitHub, the HTML representation is unable to render, please try loading this page with nbviewer.org.</b></div><div class=\"sk-container\" hidden><div class=\"sk-item\"><div class=\"sk-estimator sk-toggleable\"><input class=\"sk-toggleable__control sk-hidden--visually\" id=\"sk-estimator-id-13\" type=\"checkbox\" checked><label for=\"sk-estimator-id-13\" class=\"sk-toggleable__label sk-toggleable__label-arrow\">ExtraTreesRegressor</label><div class=\"sk-toggleable__content\"><pre>ExtraTreesRegressor()</pre></div></div></div></div></div>"
      ],
      "text/plain": [
       "ExtraTreesRegressor()"
      ]
     },
     "execution_count": 70,
     "metadata": {},
     "output_type": "execute_result"
    }
   ],
   "source": [
    "regressorET.fit(X_train, Y_train)"
   ]
  },
  {
   "cell_type": "code",
   "execution_count": 71,
   "id": "d164c60c",
   "metadata": {},
   "outputs": [
    {
     "data": {
      "text/plain": [
       "(1.0, 0.17086469989827058)"
      ]
     },
     "execution_count": 71,
     "metadata": {},
     "output_type": "execute_result"
    }
   ],
   "source": [
    "regressorET.score(X_train, Y_train),regressorKNN.score(X_test, Y_test)"
   ]
  },
  {
   "cell_type": "markdown",
   "id": "f7b2e903",
   "metadata": {},
   "source": [
    "##### >> Utilize bagging ensemble method"
   ]
  },
  {
   "cell_type": "code",
   "execution_count": 72,
   "id": "59481f6e",
   "metadata": {},
   "outputs": [],
   "source": [
    "models['etr']= ExtraTreesRegressor(n_estimators = 100)"
   ]
  },
  {
   "cell_type": "code",
   "execution_count": 73,
   "id": "c544310b",
   "metadata": {},
   "outputs": [
    {
     "name": "stderr",
     "output_type": "stream",
     "text": [
      "C:\\ProgramData\\Anaconda3\\lib\\site-packages\\sklearn\\ensemble\\_bagging.py:470: DataConversionWarning: A column-vector y was passed when a 1d array was expected. Please change the shape of y to (n_samples, ), for example using ravel().\n",
      "  return column_or_1d(y, warn=True)\n"
     ]
    },
    {
     "data": {
      "text/html": [
       "<style>#sk-container-id-8 {color: black;background-color: white;}#sk-container-id-8 pre{padding: 0;}#sk-container-id-8 div.sk-toggleable {background-color: white;}#sk-container-id-8 label.sk-toggleable__label {cursor: pointer;display: block;width: 100%;margin-bottom: 0;padding: 0.3em;box-sizing: border-box;text-align: center;}#sk-container-id-8 label.sk-toggleable__label-arrow:before {content: \"▸\";float: left;margin-right: 0.25em;color: #696969;}#sk-container-id-8 label.sk-toggleable__label-arrow:hover:before {color: black;}#sk-container-id-8 div.sk-estimator:hover label.sk-toggleable__label-arrow:before {color: black;}#sk-container-id-8 div.sk-toggleable__content {max-height: 0;max-width: 0;overflow: hidden;text-align: left;background-color: #f0f8ff;}#sk-container-id-8 div.sk-toggleable__content pre {margin: 0.2em;color: black;border-radius: 0.25em;background-color: #f0f8ff;}#sk-container-id-8 input.sk-toggleable__control:checked~div.sk-toggleable__content {max-height: 200px;max-width: 100%;overflow: auto;}#sk-container-id-8 input.sk-toggleable__control:checked~label.sk-toggleable__label-arrow:before {content: \"▾\";}#sk-container-id-8 div.sk-estimator input.sk-toggleable__control:checked~label.sk-toggleable__label {background-color: #d4ebff;}#sk-container-id-8 div.sk-label input.sk-toggleable__control:checked~label.sk-toggleable__label {background-color: #d4ebff;}#sk-container-id-8 input.sk-hidden--visually {border: 0;clip: rect(1px 1px 1px 1px);clip: rect(1px, 1px, 1px, 1px);height: 1px;margin: -1px;overflow: hidden;padding: 0;position: absolute;width: 1px;}#sk-container-id-8 div.sk-estimator {font-family: monospace;background-color: #f0f8ff;border: 1px dotted black;border-radius: 0.25em;box-sizing: border-box;margin-bottom: 0.5em;}#sk-container-id-8 div.sk-estimator:hover {background-color: #d4ebff;}#sk-container-id-8 div.sk-parallel-item::after {content: \"\";width: 100%;border-bottom: 1px solid gray;flex-grow: 1;}#sk-container-id-8 div.sk-label:hover label.sk-toggleable__label {background-color: #d4ebff;}#sk-container-id-8 div.sk-serial::before {content: \"\";position: absolute;border-left: 1px solid gray;box-sizing: border-box;top: 0;bottom: 0;left: 50%;z-index: 0;}#sk-container-id-8 div.sk-serial {display: flex;flex-direction: column;align-items: center;background-color: white;padding-right: 0.2em;padding-left: 0.2em;position: relative;}#sk-container-id-8 div.sk-item {position: relative;z-index: 1;}#sk-container-id-8 div.sk-parallel {display: flex;align-items: stretch;justify-content: center;background-color: white;position: relative;}#sk-container-id-8 div.sk-item::before, #sk-container-id-8 div.sk-parallel-item::before {content: \"\";position: absolute;border-left: 1px solid gray;box-sizing: border-box;top: 0;bottom: 0;left: 50%;z-index: -1;}#sk-container-id-8 div.sk-parallel-item {display: flex;flex-direction: column;z-index: 1;position: relative;background-color: white;}#sk-container-id-8 div.sk-parallel-item:first-child::after {align-self: flex-end;width: 50%;}#sk-container-id-8 div.sk-parallel-item:last-child::after {align-self: flex-start;width: 50%;}#sk-container-id-8 div.sk-parallel-item:only-child::after {width: 0;}#sk-container-id-8 div.sk-dashed-wrapped {border: 1px dashed gray;margin: 0 0.4em 0.5em 0.4em;box-sizing: border-box;padding-bottom: 0.4em;background-color: white;}#sk-container-id-8 div.sk-label label {font-family: monospace;font-weight: bold;display: inline-block;line-height: 1.2em;}#sk-container-id-8 div.sk-label-container {text-align: center;}#sk-container-id-8 div.sk-container {/* jupyter's `normalize.less` sets `[hidden] { display: none; }` but bootstrap.min.css set `[hidden] { display: none !important; }` so we also need the `!important` here to be able to override the default hidden behavior on the sphinx rendered scikit-learn.org. See: https://github.com/scikit-learn/scikit-learn/issues/21755 */display: inline-block !important;position: relative;}#sk-container-id-8 div.sk-text-repr-fallback {display: none;}</style><div id=\"sk-container-id-8\" class=\"sk-top-container\"><div class=\"sk-text-repr-fallback\"><pre>BaggingRegressor(base_estimator=ExtraTreesRegressor(), n_estimators=100,\n",
       "                 n_jobs=-1, random_state=42)</pre><b>In a Jupyter environment, please rerun this cell to show the HTML representation or trust the notebook. <br />On GitHub, the HTML representation is unable to render, please try loading this page with nbviewer.org.</b></div><div class=\"sk-container\" hidden><div class=\"sk-item sk-dashed-wrapped\"><div class=\"sk-label-container\"><div class=\"sk-label sk-toggleable\"><input class=\"sk-toggleable__control sk-hidden--visually\" id=\"sk-estimator-id-14\" type=\"checkbox\" ><label for=\"sk-estimator-id-14\" class=\"sk-toggleable__label sk-toggleable__label-arrow\">BaggingRegressor</label><div class=\"sk-toggleable__content\"><pre>BaggingRegressor(base_estimator=ExtraTreesRegressor(), n_estimators=100,\n",
       "                 n_jobs=-1, random_state=42)</pre></div></div></div><div class=\"sk-parallel\"><div class=\"sk-parallel-item\"><div class=\"sk-item\"><div class=\"sk-label-container\"><div class=\"sk-label sk-toggleable\"><input class=\"sk-toggleable__control sk-hidden--visually\" id=\"sk-estimator-id-15\" type=\"checkbox\" ><label for=\"sk-estimator-id-15\" class=\"sk-toggleable__label sk-toggleable__label-arrow\">base_estimator: ExtraTreesRegressor</label><div class=\"sk-toggleable__content\"><pre>ExtraTreesRegressor()</pre></div></div></div><div class=\"sk-serial\"><div class=\"sk-item\"><div class=\"sk-estimator sk-toggleable\"><input class=\"sk-toggleable__control sk-hidden--visually\" id=\"sk-estimator-id-16\" type=\"checkbox\" ><label for=\"sk-estimator-id-16\" class=\"sk-toggleable__label sk-toggleable__label-arrow\">ExtraTreesRegressor</label><div class=\"sk-toggleable__content\"><pre>ExtraTreesRegressor()</pre></div></div></div></div></div></div></div></div></div></div>"
      ],
      "text/plain": [
       "BaggingRegressor(base_estimator=ExtraTreesRegressor(), n_estimators=100,\n",
       "                 n_jobs=-1, random_state=42)"
      ]
     },
     "execution_count": 73,
     "metadata": {},
     "output_type": "execute_result"
    }
   ],
   "source": [
    "bag_clf = BaggingRegressor(base_estimator=models['etr'], n_estimators=100,\n",
    "                            bootstrap=True, n_jobs=-1,\n",
    "                            random_state=42)\n",
    "\n",
    "bag_clf.fit(X_train, Y_train)"
   ]
  },
  {
   "cell_type": "code",
   "execution_count": 74,
   "id": "f8be2332",
   "metadata": {},
   "outputs": [
    {
     "data": {
      "text/plain": [
       "(0.981439678247497, 0.8856941303153611)"
      ]
     },
     "execution_count": 74,
     "metadata": {},
     "output_type": "execute_result"
    }
   ],
   "source": [
    "bag_clf.score(X_train,Y_train),bag_clf.score(X_test,Y_test)"
   ]
  },
  {
   "cell_type": "markdown",
   "id": "b93f183a",
   "metadata": {},
   "source": [
    "### AdaBoostRegressor"
   ]
  },
  {
   "cell_type": "code",
   "execution_count": 75,
   "id": "87d7ffce",
   "metadata": {},
   "outputs": [],
   "source": [
    "score=[]\n",
    "regressorADA = AdaBoostRegressor()"
   ]
  },
  {
   "cell_type": "code",
   "execution_count": 76,
   "id": "7502f4e4",
   "metadata": {},
   "outputs": [
    {
     "name": "stderr",
     "output_type": "stream",
     "text": [
      "C:\\ProgramData\\Anaconda3\\lib\\site-packages\\sklearn\\utils\\validation.py:1111: DataConversionWarning: A column-vector y was passed when a 1d array was expected. Please change the shape of y to (n_samples, ), for example using ravel().\n",
      "  y = column_or_1d(y, warn=True)\n"
     ]
    },
    {
     "data": {
      "text/html": [
       "<style>#sk-container-id-9 {color: black;background-color: white;}#sk-container-id-9 pre{padding: 0;}#sk-container-id-9 div.sk-toggleable {background-color: white;}#sk-container-id-9 label.sk-toggleable__label {cursor: pointer;display: block;width: 100%;margin-bottom: 0;padding: 0.3em;box-sizing: border-box;text-align: center;}#sk-container-id-9 label.sk-toggleable__label-arrow:before {content: \"▸\";float: left;margin-right: 0.25em;color: #696969;}#sk-container-id-9 label.sk-toggleable__label-arrow:hover:before {color: black;}#sk-container-id-9 div.sk-estimator:hover label.sk-toggleable__label-arrow:before {color: black;}#sk-container-id-9 div.sk-toggleable__content {max-height: 0;max-width: 0;overflow: hidden;text-align: left;background-color: #f0f8ff;}#sk-container-id-9 div.sk-toggleable__content pre {margin: 0.2em;color: black;border-radius: 0.25em;background-color: #f0f8ff;}#sk-container-id-9 input.sk-toggleable__control:checked~div.sk-toggleable__content {max-height: 200px;max-width: 100%;overflow: auto;}#sk-container-id-9 input.sk-toggleable__control:checked~label.sk-toggleable__label-arrow:before {content: \"▾\";}#sk-container-id-9 div.sk-estimator input.sk-toggleable__control:checked~label.sk-toggleable__label {background-color: #d4ebff;}#sk-container-id-9 div.sk-label input.sk-toggleable__control:checked~label.sk-toggleable__label {background-color: #d4ebff;}#sk-container-id-9 input.sk-hidden--visually {border: 0;clip: rect(1px 1px 1px 1px);clip: rect(1px, 1px, 1px, 1px);height: 1px;margin: -1px;overflow: hidden;padding: 0;position: absolute;width: 1px;}#sk-container-id-9 div.sk-estimator {font-family: monospace;background-color: #f0f8ff;border: 1px dotted black;border-radius: 0.25em;box-sizing: border-box;margin-bottom: 0.5em;}#sk-container-id-9 div.sk-estimator:hover {background-color: #d4ebff;}#sk-container-id-9 div.sk-parallel-item::after {content: \"\";width: 100%;border-bottom: 1px solid gray;flex-grow: 1;}#sk-container-id-9 div.sk-label:hover label.sk-toggleable__label {background-color: #d4ebff;}#sk-container-id-9 div.sk-serial::before {content: \"\";position: absolute;border-left: 1px solid gray;box-sizing: border-box;top: 0;bottom: 0;left: 50%;z-index: 0;}#sk-container-id-9 div.sk-serial {display: flex;flex-direction: column;align-items: center;background-color: white;padding-right: 0.2em;padding-left: 0.2em;position: relative;}#sk-container-id-9 div.sk-item {position: relative;z-index: 1;}#sk-container-id-9 div.sk-parallel {display: flex;align-items: stretch;justify-content: center;background-color: white;position: relative;}#sk-container-id-9 div.sk-item::before, #sk-container-id-9 div.sk-parallel-item::before {content: \"\";position: absolute;border-left: 1px solid gray;box-sizing: border-box;top: 0;bottom: 0;left: 50%;z-index: -1;}#sk-container-id-9 div.sk-parallel-item {display: flex;flex-direction: column;z-index: 1;position: relative;background-color: white;}#sk-container-id-9 div.sk-parallel-item:first-child::after {align-self: flex-end;width: 50%;}#sk-container-id-9 div.sk-parallel-item:last-child::after {align-self: flex-start;width: 50%;}#sk-container-id-9 div.sk-parallel-item:only-child::after {width: 0;}#sk-container-id-9 div.sk-dashed-wrapped {border: 1px dashed gray;margin: 0 0.4em 0.5em 0.4em;box-sizing: border-box;padding-bottom: 0.4em;background-color: white;}#sk-container-id-9 div.sk-label label {font-family: monospace;font-weight: bold;display: inline-block;line-height: 1.2em;}#sk-container-id-9 div.sk-label-container {text-align: center;}#sk-container-id-9 div.sk-container {/* jupyter's `normalize.less` sets `[hidden] { display: none; }` but bootstrap.min.css set `[hidden] { display: none !important; }` so we also need the `!important` here to be able to override the default hidden behavior on the sphinx rendered scikit-learn.org. See: https://github.com/scikit-learn/scikit-learn/issues/21755 */display: inline-block !important;position: relative;}#sk-container-id-9 div.sk-text-repr-fallback {display: none;}</style><div id=\"sk-container-id-9\" class=\"sk-top-container\"><div class=\"sk-text-repr-fallback\"><pre>AdaBoostRegressor()</pre><b>In a Jupyter environment, please rerun this cell to show the HTML representation or trust the notebook. <br />On GitHub, the HTML representation is unable to render, please try loading this page with nbviewer.org.</b></div><div class=\"sk-container\" hidden><div class=\"sk-item\"><div class=\"sk-estimator sk-toggleable\"><input class=\"sk-toggleable__control sk-hidden--visually\" id=\"sk-estimator-id-17\" type=\"checkbox\" checked><label for=\"sk-estimator-id-17\" class=\"sk-toggleable__label sk-toggleable__label-arrow\">AdaBoostRegressor</label><div class=\"sk-toggleable__content\"><pre>AdaBoostRegressor()</pre></div></div></div></div></div>"
      ],
      "text/plain": [
       "AdaBoostRegressor()"
      ]
     },
     "execution_count": 76,
     "metadata": {},
     "output_type": "execute_result"
    }
   ],
   "source": [
    "regressorADA.fit(X_train, Y_train)"
   ]
  },
  {
   "cell_type": "code",
   "execution_count": 77,
   "id": "14bf8f31",
   "metadata": {},
   "outputs": [
    {
     "data": {
      "text/plain": [
       "(0.9404204135432099, 0.9237510061476734)"
      ]
     },
     "execution_count": 77,
     "metadata": {},
     "output_type": "execute_result"
    }
   ],
   "source": [
    "regressorADA.score(X_train, Y_train),regressorADA.score(X_test, Y_test)"
   ]
  },
  {
   "cell_type": "markdown",
   "id": "38e56930",
   "metadata": {},
   "source": [
    "##### >> Utilize bagging ensemble method"
   ]
  },
  {
   "cell_type": "code",
   "execution_count": 78,
   "id": "22660642",
   "metadata": {},
   "outputs": [],
   "source": [
    "models['ada'] = AdaBoostRegressor()"
   ]
  },
  {
   "cell_type": "code",
   "execution_count": 79,
   "id": "a0755cb3",
   "metadata": {},
   "outputs": [
    {
     "name": "stderr",
     "output_type": "stream",
     "text": [
      "C:\\ProgramData\\Anaconda3\\lib\\site-packages\\sklearn\\ensemble\\_bagging.py:470: DataConversionWarning: A column-vector y was passed when a 1d array was expected. Please change the shape of y to (n_samples, ), for example using ravel().\n",
      "  return column_or_1d(y, warn=True)\n"
     ]
    },
    {
     "data": {
      "text/html": [
       "<style>#sk-container-id-10 {color: black;background-color: white;}#sk-container-id-10 pre{padding: 0;}#sk-container-id-10 div.sk-toggleable {background-color: white;}#sk-container-id-10 label.sk-toggleable__label {cursor: pointer;display: block;width: 100%;margin-bottom: 0;padding: 0.3em;box-sizing: border-box;text-align: center;}#sk-container-id-10 label.sk-toggleable__label-arrow:before {content: \"▸\";float: left;margin-right: 0.25em;color: #696969;}#sk-container-id-10 label.sk-toggleable__label-arrow:hover:before {color: black;}#sk-container-id-10 div.sk-estimator:hover label.sk-toggleable__label-arrow:before {color: black;}#sk-container-id-10 div.sk-toggleable__content {max-height: 0;max-width: 0;overflow: hidden;text-align: left;background-color: #f0f8ff;}#sk-container-id-10 div.sk-toggleable__content pre {margin: 0.2em;color: black;border-radius: 0.25em;background-color: #f0f8ff;}#sk-container-id-10 input.sk-toggleable__control:checked~div.sk-toggleable__content {max-height: 200px;max-width: 100%;overflow: auto;}#sk-container-id-10 input.sk-toggleable__control:checked~label.sk-toggleable__label-arrow:before {content: \"▾\";}#sk-container-id-10 div.sk-estimator input.sk-toggleable__control:checked~label.sk-toggleable__label {background-color: #d4ebff;}#sk-container-id-10 div.sk-label input.sk-toggleable__control:checked~label.sk-toggleable__label {background-color: #d4ebff;}#sk-container-id-10 input.sk-hidden--visually {border: 0;clip: rect(1px 1px 1px 1px);clip: rect(1px, 1px, 1px, 1px);height: 1px;margin: -1px;overflow: hidden;padding: 0;position: absolute;width: 1px;}#sk-container-id-10 div.sk-estimator {font-family: monospace;background-color: #f0f8ff;border: 1px dotted black;border-radius: 0.25em;box-sizing: border-box;margin-bottom: 0.5em;}#sk-container-id-10 div.sk-estimator:hover {background-color: #d4ebff;}#sk-container-id-10 div.sk-parallel-item::after {content: \"\";width: 100%;border-bottom: 1px solid gray;flex-grow: 1;}#sk-container-id-10 div.sk-label:hover label.sk-toggleable__label {background-color: #d4ebff;}#sk-container-id-10 div.sk-serial::before {content: \"\";position: absolute;border-left: 1px solid gray;box-sizing: border-box;top: 0;bottom: 0;left: 50%;z-index: 0;}#sk-container-id-10 div.sk-serial {display: flex;flex-direction: column;align-items: center;background-color: white;padding-right: 0.2em;padding-left: 0.2em;position: relative;}#sk-container-id-10 div.sk-item {position: relative;z-index: 1;}#sk-container-id-10 div.sk-parallel {display: flex;align-items: stretch;justify-content: center;background-color: white;position: relative;}#sk-container-id-10 div.sk-item::before, #sk-container-id-10 div.sk-parallel-item::before {content: \"\";position: absolute;border-left: 1px solid gray;box-sizing: border-box;top: 0;bottom: 0;left: 50%;z-index: -1;}#sk-container-id-10 div.sk-parallel-item {display: flex;flex-direction: column;z-index: 1;position: relative;background-color: white;}#sk-container-id-10 div.sk-parallel-item:first-child::after {align-self: flex-end;width: 50%;}#sk-container-id-10 div.sk-parallel-item:last-child::after {align-self: flex-start;width: 50%;}#sk-container-id-10 div.sk-parallel-item:only-child::after {width: 0;}#sk-container-id-10 div.sk-dashed-wrapped {border: 1px dashed gray;margin: 0 0.4em 0.5em 0.4em;box-sizing: border-box;padding-bottom: 0.4em;background-color: white;}#sk-container-id-10 div.sk-label label {font-family: monospace;font-weight: bold;display: inline-block;line-height: 1.2em;}#sk-container-id-10 div.sk-label-container {text-align: center;}#sk-container-id-10 div.sk-container {/* jupyter's `normalize.less` sets `[hidden] { display: none; }` but bootstrap.min.css set `[hidden] { display: none !important; }` so we also need the `!important` here to be able to override the default hidden behavior on the sphinx rendered scikit-learn.org. See: https://github.com/scikit-learn/scikit-learn/issues/21755 */display: inline-block !important;position: relative;}#sk-container-id-10 div.sk-text-repr-fallback {display: none;}</style><div id=\"sk-container-id-10\" class=\"sk-top-container\"><div class=\"sk-text-repr-fallback\"><pre>BaggingRegressor(base_estimator=AdaBoostRegressor(), n_estimators=100,\n",
       "                 n_jobs=-1, random_state=42)</pre><b>In a Jupyter environment, please rerun this cell to show the HTML representation or trust the notebook. <br />On GitHub, the HTML representation is unable to render, please try loading this page with nbviewer.org.</b></div><div class=\"sk-container\" hidden><div class=\"sk-item sk-dashed-wrapped\"><div class=\"sk-label-container\"><div class=\"sk-label sk-toggleable\"><input class=\"sk-toggleable__control sk-hidden--visually\" id=\"sk-estimator-id-18\" type=\"checkbox\" ><label for=\"sk-estimator-id-18\" class=\"sk-toggleable__label sk-toggleable__label-arrow\">BaggingRegressor</label><div class=\"sk-toggleable__content\"><pre>BaggingRegressor(base_estimator=AdaBoostRegressor(), n_estimators=100,\n",
       "                 n_jobs=-1, random_state=42)</pre></div></div></div><div class=\"sk-parallel\"><div class=\"sk-parallel-item\"><div class=\"sk-item\"><div class=\"sk-label-container\"><div class=\"sk-label sk-toggleable\"><input class=\"sk-toggleable__control sk-hidden--visually\" id=\"sk-estimator-id-19\" type=\"checkbox\" ><label for=\"sk-estimator-id-19\" class=\"sk-toggleable__label sk-toggleable__label-arrow\">base_estimator: AdaBoostRegressor</label><div class=\"sk-toggleable__content\"><pre>AdaBoostRegressor()</pre></div></div></div><div class=\"sk-serial\"><div class=\"sk-item\"><div class=\"sk-estimator sk-toggleable\"><input class=\"sk-toggleable__control sk-hidden--visually\" id=\"sk-estimator-id-20\" type=\"checkbox\" ><label for=\"sk-estimator-id-20\" class=\"sk-toggleable__label sk-toggleable__label-arrow\">AdaBoostRegressor</label><div class=\"sk-toggleable__content\"><pre>AdaBoostRegressor()</pre></div></div></div></div></div></div></div></div></div></div>"
      ],
      "text/plain": [
       "BaggingRegressor(base_estimator=AdaBoostRegressor(), n_estimators=100,\n",
       "                 n_jobs=-1, random_state=42)"
      ]
     },
     "execution_count": 79,
     "metadata": {},
     "output_type": "execute_result"
    }
   ],
   "source": [
    "bag_clf = BaggingRegressor(base_estimator=models['ada'], n_estimators=100,\n",
    "                            bootstrap=True, n_jobs=-1,\n",
    "                            random_state=42)\n",
    "\n",
    "bag_clf.fit(X_train, Y_train)"
   ]
  },
  {
   "cell_type": "code",
   "execution_count": 80,
   "id": "74c7e896",
   "metadata": {},
   "outputs": [
    {
     "data": {
      "text/plain": [
       "(0.9553121058097329, 0.9296486253542221)"
      ]
     },
     "execution_count": 80,
     "metadata": {},
     "output_type": "execute_result"
    }
   ],
   "source": [
    "bag_clf.score(X_train,Y_train),bag_clf.score(X_test,Y_test)"
   ]
  },
  {
   "cell_type": "markdown",
   "id": "78d8674d",
   "metadata": {},
   "source": [
    "# Check algorithms and apply the bagging ensemble method"
   ]
  },
  {
   "cell_type": "code",
   "execution_count": 95,
   "id": "7123f267",
   "metadata": {
    "scrolled": true
   },
   "outputs": [
    {
     "name": "stderr",
     "output_type": "stream",
     "text": [
      "C:\\ProgramData\\Anaconda3\\lib\\site-packages\\sklearn\\model_selection\\_validation.py:686: DataConversionWarning: A column-vector y was passed when a 1d array was expected. Please change the shape of y to (n_samples,), for example using ravel().\n",
      "  estimator.fit(X_train, y_train, **fit_params)\n",
      "C:\\ProgramData\\Anaconda3\\lib\\site-packages\\sklearn\\model_selection\\_validation.py:686: DataConversionWarning: A column-vector y was passed when a 1d array was expected. Please change the shape of y to (n_samples,), for example using ravel().\n",
      "  estimator.fit(X_train, y_train, **fit_params)\n",
      "C:\\ProgramData\\Anaconda3\\lib\\site-packages\\sklearn\\model_selection\\_validation.py:686: DataConversionWarning: A column-vector y was passed when a 1d array was expected. Please change the shape of y to (n_samples,), for example using ravel().\n",
      "  estimator.fit(X_train, y_train, **fit_params)\n",
      "C:\\ProgramData\\Anaconda3\\lib\\site-packages\\sklearn\\model_selection\\_validation.py:686: DataConversionWarning: A column-vector y was passed when a 1d array was expected. Please change the shape of y to (n_samples,), for example using ravel().\n",
      "  estimator.fit(X_train, y_train, **fit_params)\n",
      "C:\\ProgramData\\Anaconda3\\lib\\site-packages\\sklearn\\model_selection\\_validation.py:686: DataConversionWarning: A column-vector y was passed when a 1d array was expected. Please change the shape of y to (n_samples,), for example using ravel().\n",
      "  estimator.fit(X_train, y_train, **fit_params)\n"
     ]
    },
    {
     "name": "stdout",
     "output_type": "stream",
     "text": [
      "RandomForestRegressor() \n",
      "5-Fold Validation Scores:\n",
      " [0.78670809 0.96546173 0.96976931 0.93150871 0.91412309]\n",
      "Cross Validation Training Accuracy: 0.914 (0.067)\n",
      "\n",
      "Mean of: 0.914, std: (+/-) 0.067 [RandomForestRegressor]\n",
      "Mean of: 0.261, std: (+/-) 0.050 [Bagging RandomForestRegressor]\n",
      "\n",
      "=====================================================================\n",
      "\n",
      "\n"
     ]
    },
    {
     "name": "stderr",
     "output_type": "stream",
     "text": [
      "C:\\ProgramData\\Anaconda3\\lib\\site-packages\\sklearn\\linear_model\\_coordinate_descent.py:1614: DataConversionWarning: A column-vector y was passed when a 1d array was expected. Please change the shape of y to (n_samples, ), for example using ravel().\n",
      "  y = column_or_1d(y, warn=True)\n",
      "C:\\ProgramData\\Anaconda3\\lib\\site-packages\\sklearn\\linear_model\\_coordinate_descent.py:1614: DataConversionWarning: A column-vector y was passed when a 1d array was expected. Please change the shape of y to (n_samples, ), for example using ravel().\n",
      "  y = column_or_1d(y, warn=True)\n",
      "C:\\ProgramData\\Anaconda3\\lib\\site-packages\\sklearn\\linear_model\\_coordinate_descent.py:1614: DataConversionWarning: A column-vector y was passed when a 1d array was expected. Please change the shape of y to (n_samples, ), for example using ravel().\n",
      "  y = column_or_1d(y, warn=True)\n",
      "C:\\ProgramData\\Anaconda3\\lib\\site-packages\\sklearn\\linear_model\\_coordinate_descent.py:1614: DataConversionWarning: A column-vector y was passed when a 1d array was expected. Please change the shape of y to (n_samples, ), for example using ravel().\n",
      "  y = column_or_1d(y, warn=True)\n",
      "C:\\ProgramData\\Anaconda3\\lib\\site-packages\\sklearn\\linear_model\\_coordinate_descent.py:1614: DataConversionWarning: A column-vector y was passed when a 1d array was expected. Please change the shape of y to (n_samples, ), for example using ravel().\n",
      "  y = column_or_1d(y, warn=True)\n"
     ]
    },
    {
     "name": "stdout",
     "output_type": "stream",
     "text": [
      "LassoCV() \n",
      "5-Fold Validation Scores:\n",
      " [0.74819867 0.86026334 0.85236693 0.78127858 0.78426362]\n",
      "Cross Validation Training Accuracy: 0.805 (0.044)\n",
      "\n",
      "Mean of: 0.805, std: (+/-) 0.044 [LassoCV]\n",
      "Mean of: 0.188, std: (+/-) 0.044 [Bagging LassoCV]\n",
      "\n",
      "=====================================================================\n",
      "\n",
      "\n",
      "DecisionTreeRegressor() \n",
      "5-Fold Validation Scores:\n",
      " [0.73823192 0.95948827 0.95403226 0.91441441 0.83468677]\n",
      "Cross Validation Training Accuracy: 0.880 (0.084)\n",
      "\n",
      "Mean of: 0.880, std: (+/-) 0.084 [DecisionTreeRegressor]\n",
      "Mean of: 0.161, std: (+/-) 0.076 [Bagging DecisionTreeRegressor]\n",
      "\n",
      "=====================================================================\n",
      "\n",
      "\n"
     ]
    },
    {
     "name": "stderr",
     "output_type": "stream",
     "text": [
      "C:\\ProgramData\\Anaconda3\\lib\\site-packages\\sklearn\\model_selection\\_validation.py:686: DataConversionWarning: A column-vector y was passed when a 1d array was expected. Please change the shape of y to (n_samples,), for example using ravel().\n",
      "  estimator.fit(X_train, y_train, **fit_params)\n",
      "C:\\ProgramData\\Anaconda3\\lib\\site-packages\\sklearn\\model_selection\\_validation.py:686: DataConversionWarning: A column-vector y was passed when a 1d array was expected. Please change the shape of y to (n_samples,), for example using ravel().\n",
      "  estimator.fit(X_train, y_train, **fit_params)\n",
      "C:\\ProgramData\\Anaconda3\\lib\\site-packages\\sklearn\\model_selection\\_validation.py:686: DataConversionWarning: A column-vector y was passed when a 1d array was expected. Please change the shape of y to (n_samples,), for example using ravel().\n",
      "  estimator.fit(X_train, y_train, **fit_params)\n",
      "C:\\ProgramData\\Anaconda3\\lib\\site-packages\\sklearn\\model_selection\\_validation.py:686: DataConversionWarning: A column-vector y was passed when a 1d array was expected. Please change the shape of y to (n_samples,), for example using ravel().\n",
      "  estimator.fit(X_train, y_train, **fit_params)\n",
      "C:\\ProgramData\\Anaconda3\\lib\\site-packages\\sklearn\\model_selection\\_validation.py:686: DataConversionWarning: A column-vector y was passed when a 1d array was expected. Please change the shape of y to (n_samples,), for example using ravel().\n",
      "  estimator.fit(X_train, y_train, **fit_params)\n"
     ]
    },
    {
     "name": "stdout",
     "output_type": "stream",
     "text": [
      "ExtraTreesRegressor() \n",
      "5-Fold Validation Scores:\n",
      " [0.83230809 0.91555938 0.88986359 0.85282988 0.91854356]\n",
      "Cross Validation Training Accuracy: 0.882 (0.034)\n",
      "\n",
      "Mean of: 0.882, std: (+/-) 0.034 [ExtraTreesRegressor]\n",
      "Mean of: 0.260, std: (+/-) 0.061 [Bagging ExtraTreesRegressor]\n",
      "\n",
      "=====================================================================\n",
      "\n",
      "\n"
     ]
    },
    {
     "name": "stderr",
     "output_type": "stream",
     "text": [
      "C:\\ProgramData\\Anaconda3\\lib\\site-packages\\sklearn\\utils\\validation.py:1111: DataConversionWarning: A column-vector y was passed when a 1d array was expected. Please change the shape of y to (n_samples, ), for example using ravel().\n",
      "  y = column_or_1d(y, warn=True)\n",
      "C:\\ProgramData\\Anaconda3\\lib\\site-packages\\sklearn\\utils\\validation.py:1111: DataConversionWarning: A column-vector y was passed when a 1d array was expected. Please change the shape of y to (n_samples, ), for example using ravel().\n",
      "  y = column_or_1d(y, warn=True)\n",
      "C:\\ProgramData\\Anaconda3\\lib\\site-packages\\sklearn\\utils\\validation.py:1111: DataConversionWarning: A column-vector y was passed when a 1d array was expected. Please change the shape of y to (n_samples, ), for example using ravel().\n",
      "  y = column_or_1d(y, warn=True)\n",
      "C:\\ProgramData\\Anaconda3\\lib\\site-packages\\sklearn\\utils\\validation.py:1111: DataConversionWarning: A column-vector y was passed when a 1d array was expected. Please change the shape of y to (n_samples, ), for example using ravel().\n",
      "  y = column_or_1d(y, warn=True)\n",
      "C:\\ProgramData\\Anaconda3\\lib\\site-packages\\sklearn\\utils\\validation.py:1111: DataConversionWarning: A column-vector y was passed when a 1d array was expected. Please change the shape of y to (n_samples, ), for example using ravel().\n",
      "  y = column_or_1d(y, warn=True)\n"
     ]
    },
    {
     "name": "stdout",
     "output_type": "stream",
     "text": [
      "AdaBoostRegressor() \n",
      "5-Fold Validation Scores:\n",
      " [0.79503831 0.92616733 0.91268981 0.89621383 0.86160023]\n",
      "Cross Validation Training Accuracy: 0.878 (0.047)\n",
      "\n",
      "Mean of: 0.878, std: (+/-) 0.047 [AdaBoostRegressor]\n",
      "Mean of: 0.230, std: (+/-) 0.028 [Bagging AdaBoostRegressor]\n",
      "\n",
      "=====================================================================\n",
      "\n",
      "\n"
     ]
    }
   ],
   "source": [
    "rf = RandomForestRegressor()\n",
    "lso = LassoCV()\n",
    "dt = DecisionTreeRegressor()\n",
    "etr = ExtraTreesRegressor()\n",
    "ada = AdaBoostRegressor()\n",
    "\n",
    "clf_array = [rf, lso, dt, etr, ada]\n",
    "\n",
    "estimators = []\n",
    "for clf in clf_array:\n",
    "    cv = KFold(n_splits = 5, shuffle = True, random_state = 42)\n",
    "    scores = cross_val_score(clf, X_train, Y_train, cv=cv, n_jobs = 1, error_score = 'raise')\n",
    "    bagging_clf = BaggingRegressor(clf,max_samples=0.4, max_features=10, random_state=42)\n",
    "    bagging_scores = cross_val_score(bagging_clf, X_train, Y_train, cv=cv,n_jobs=-1)\n",
    "    \n",
    "    print(clf, '\\n5-Fold Validation Scores:\\n', scores)\n",
    "    print('Cross Validation Training Accuracy: %.3f (%.3f)\\n' % (mean(scores), std(scores)))\n",
    "    \n",
    "    print (\"Mean of: {1:.3f}, std: (+/-) {2:.3f} [{0}]\".format(clf.__class__.__name__,scores.mean(), scores.std()))\n",
    "    print (\"Mean of: {1:.3f}, std: (+/-) {2:.3f} [Bagging {0}]\\n\".format(clf.__class__.__name__,bagging_scores.mean(), bagging_scores.std()))\n",
    "    print(\"=====================================================================\\n\\n\")"
   ]
  },
  {
   "cell_type": "code",
   "execution_count": null,
   "id": "d4e3b2eb",
   "metadata": {},
   "outputs": [],
   "source": []
  },
  {
   "cell_type": "code",
   "execution_count": 96,
   "id": "7b2624c2",
   "metadata": {},
   "outputs": [],
   "source": [
    "#Random Forest, Decision Trees, Extra Trees, Adaboost, Lasso\n",
    "from sklearn.tree import DecisionTreeRegressor\n",
    "from sklearn.ensemble import RandomForestRegressor\n",
    "from sklearn.ensemble import ExtraTreesRegressor\n",
    "from sklearn.ensemble import AdaBoostRegressor\n",
    "from sklearn.linear_model import LassoCV\n",
    "\n",
    "from sklearn.pipeline import Pipeline\n",
    "from sklearn.metrics import r2_score\n",
    "from sklearn.model_selection import cross_val_score, KFold\n",
    "from sklearn.metrics import confusion_matrix, accuracy_score\n",
    "from numpy import mean\n",
    "from numpy import std\n",
    "import math\n",
    "\n",
    "from sklearn.ensemble import VotingRegressor\n",
    "from sklearn import model_selection\n",
    "from sklearn.ensemble import VotingClassifier"
   ]
  },
  {
   "cell_type": "markdown",
   "id": "92f9d012",
   "metadata": {},
   "source": [
    "## Let’s Vote!\n",
    "Sklearn’s VotingClassifier allows you to combine different machine learning classifiers, and perform a vote on what the predicted class label(s) are for a record."
   ]
  },
  {
   "cell_type": "code",
   "execution_count": 101,
   "id": "2fcb48aa",
   "metadata": {},
   "outputs": [
    {
     "name": "stderr",
     "output_type": "stream",
     "text": [
      "C:\\ProgramData\\Anaconda3\\lib\\site-packages\\sklearn\\ensemble\\_voting.py:600: DataConversionWarning: A column-vector y was passed when a 1d array was expected. Please change the shape of y to (n_samples, ), for example using ravel().\n",
      "  y = column_or_1d(y, warn=True)\n",
      "C:\\ProgramData\\Anaconda3\\lib\\site-packages\\sklearn\\ensemble\\_voting.py:600: DataConversionWarning: A column-vector y was passed when a 1d array was expected. Please change the shape of y to (n_samples, ), for example using ravel().\n",
      "  y = column_or_1d(y, warn=True)\n",
      "C:\\ProgramData\\Anaconda3\\lib\\site-packages\\sklearn\\ensemble\\_voting.py:600: DataConversionWarning: A column-vector y was passed when a 1d array was expected. Please change the shape of y to (n_samples, ), for example using ravel().\n",
      "  y = column_or_1d(y, warn=True)\n",
      "C:\\ProgramData\\Anaconda3\\lib\\site-packages\\sklearn\\ensemble\\_voting.py:600: DataConversionWarning: A column-vector y was passed when a 1d array was expected. Please change the shape of y to (n_samples, ), for example using ravel().\n",
      "  y = column_or_1d(y, warn=True)\n",
      "C:\\ProgramData\\Anaconda3\\lib\\site-packages\\sklearn\\ensemble\\_voting.py:600: DataConversionWarning: A column-vector y was passed when a 1d array was expected. Please change the shape of y to (n_samples, ), for example using ravel().\n",
      "  y = column_or_1d(y, warn=True)\n"
     ]
    },
    {
     "name": "stdout",
     "output_type": "stream",
     "text": [
      "[Bagging score] : 90.938123%  rf 5-fold cross validation :  [0.816728   0.92637066 0.95059247 0.92695651 0.9262585 ]\n",
      "[rf std score] :  0.04725539422240956\n",
      "\n",
      "[nBagging score] : 91.440537%  dt 5-fold cross validation :  [0.78657067 0.96849808 0.97132992 0.93338303 0.91224513]\n",
      "[dt std score] :  0.06763572372423898\n",
      "\n",
      "[Bagging score] : 86.693890%  etr 5-fold cross validation :  [0.83859576 0.87698676 0.8662703  0.85603206 0.89680961]\n",
      "[etr std score] :  0.019575282453501548\n",
      "\n",
      "[Bagging score] : 91.110050%  ada 5-fold cross validation :  [0.83035096 0.93716369 0.95196836 0.92018992 0.91582956]\n",
      "[ada std score] :  0.04236730374433841\n",
      "\n",
      "[Bagging score] : 80.415296%  ada 5-fold cross validation :  [0.75049585 0.86095945 0.84761763 0.78296292 0.77872895]\n",
      "[lso std score] :  0.042639510355144544\n",
      "\n",
      "\n",
      "Ensemble Accuracy Score result: [91.073912%]\n",
      "Ensemble ST score : [3.940618%] \n",
      "\n",
      "\n",
      "[0.83778469 0.94634974 0.9448178  0.91048957 0.91425379]\n"
     ]
    }
   ],
   "source": [
    "MoRF_BR = BaggingRegressor(base_estimator=RandomForestRegressor(), n_estimators=100, bootstrap=True, n_jobs=-1, random_state=42)\n",
    "MoRF_BR_bagging_scores = cross_val_score(MoRF_BR, X_train, Y_train, cv=cv,n_jobs=-1)\n",
    "\n",
    "MoDT_BR = BaggingRegressor(base_estimator=DecisionTreeRegressor(), n_estimators=100,bootstrap=True, n_jobs=-1,random_state=42)\n",
    "MoDT_BR_bagging_scores = cross_val_score(MoDT_BR, X_train, Y_train, cv=cv,n_jobs=-1)\n",
    "\n",
    "MoETR_BR = BaggingRegressor(base_estimator=ExtraTreesRegressor(), n_estimators=100,bootstrap=True, n_jobs=-1,random_state=42)\n",
    "MoETR_BR_bagging_scores = cross_val_score(MoETR_BR, X_train, Y_train, cv=cv,n_jobs=-1)\n",
    "\n",
    "MoADA_BR = BaggingRegressor(base_estimator=AdaBoostRegressor(), n_estimators=100,bootstrap=True, n_jobs=-1,random_state=42)\n",
    "MoADA_BR_bagging_scores = cross_val_score(MoADA_BR, X_train, Y_train, cv=cv,n_jobs=-1)\n",
    "\n",
    "MoLSO_BR = BaggingRegressor(base_estimator=LassoCV(), n_estimators=100,bootstrap=True, n_jobs=-1,random_state=42)\n",
    "MoLSO_BR_bagging_scores = cross_val_score(MoLSO_BR, X_train, Y_train, cv=cv,n_jobs=-1)\n",
    "\n",
    "estimators = []\n",
    "estimators.append(('RandomForestRegressor', MoRF_BR))\n",
    "estimators.append(('DecisionTreeRegressor', MoDT_BR))\n",
    "estimators.append(('ExtraTreesRegressor', MoETR_BR))\n",
    "estimators.append(('AdaBoostRegressor', MoADA_BR))\n",
    "estimators.append(('LassoCV', MoLSO_BR))\n",
    "\n",
    "\n",
    "# create the ensemble model\n",
    "ensemble = VotingRegressor(estimators)\n",
    "results = model_selection.cross_val_score(ensemble, X_train, Y_train, cv=cv, scoring=\"r2\")\n",
    "\n",
    "print(\"[Bagging score] : {:0%}\".format(MoRF_BR_bagging_scores.mean()),\" rf 5-fold cross validation : \", MoRF_BR_bagging_scores)\n",
    "print(\"[rf std score] : \", MoRF_BR_bagging_scores.std())\n",
    "\n",
    "print(\"\\n[nBagging score] : {:0%}\".format(MoDT_BR_bagging_scores.mean()), \" dt 5-fold cross validation : \", MoDT_BR_bagging_scores)\n",
    "print(\"[dt std score] : \", MoDT_BR_bagging_scores.std())\n",
    "\n",
    "print(\"\\n[Bagging score] : {:0%}\".format(MoETR_BR_bagging_scores.mean()), \" etr 5-fold cross validation : \", MoETR_BR_bagging_scores)\n",
    "print(\"[etr std score] : \", MoETR_BR_bagging_scores.std())\n",
    "\n",
    "print(\"\\n[Bagging score] : {:0%}\".format(MoADA_BR_bagging_scores.mean()), \" ada 5-fold cross validation : \", MoADA_BR_bagging_scores)\n",
    "print(\"[ada std score] : \", MoADA_BR_bagging_scores.std())\n",
    "\n",
    "print(\"\\n[Bagging score] : {:0%}\".format(MoLSO_BR_bagging_scores.mean()), \" ada 5-fold cross validation : \", MoLSO_BR_bagging_scores)\n",
    "print(\"[lso std score] : \", MoLSO_BR_bagging_scores.std())\n",
    "\n",
    "print(\"\\n\\nEnsemble Accuracy Score result: [{:0%}]\".format(results.mean()))\n",
    "print(\"Ensemble ST score : [{:0%}]\".format(results.std()),\"\\n\\n\")\n",
    "print(results)"
   ]
  },
  {
   "cell_type": "code",
   "execution_count": 103,
   "id": "a834b9f6",
   "metadata": {},
   "outputs": [
    {
     "name": "stdout",
     "output_type": "stream",
     "text": [
      "estimators :\n",
      " [('RandomForestRegressor', BaggingRegressor(base_estimator=RandomForestRegressor(), n_estimators=100,\n",
      "                 n_jobs=-1, random_state=42)), ('DecisionTreeRegressor', BaggingRegressor(base_estimator=DecisionTreeRegressor(), n_estimators=100,\n",
      "                 n_jobs=-1, random_state=42)), ('ExtraTreesRegressor', BaggingRegressor(base_estimator=ExtraTreesRegressor(), n_estimators=100,\n",
      "                 n_jobs=-1, random_state=42)), ('AdaBoostRegressor', BaggingRegressor(base_estimator=AdaBoostRegressor(), n_estimators=100,\n",
      "                 n_jobs=-1, random_state=42)), ('LassoCV', BaggingRegressor(base_estimator=LassoCV(), n_estimators=100, n_jobs=-1,\n",
      "                 random_state=42))]\n"
     ]
    }
   ],
   "source": [
    "print(\"estimators :\\n\" , estimators)"
   ]
  },
  {
   "cell_type": "code",
   "execution_count": 104,
   "id": "21bf084a",
   "metadata": {},
   "outputs": [],
   "source": [
    "from sklearn.metrics import mean_squared_error"
   ]
  },
  {
   "cell_type": "code",
   "execution_count": 105,
   "id": "93063ec3",
   "metadata": {},
   "outputs": [
    {
     "name": "stderr",
     "output_type": "stream",
     "text": [
      "C:\\ProgramData\\Anaconda3\\lib\\site-packages\\sklearn\\ensemble\\_voting.py:600: DataConversionWarning: A column-vector y was passed when a 1d array was expected. Please change the shape of y to (n_samples, ), for example using ravel().\n",
      "  y = column_or_1d(y, warn=True)\n"
     ]
    }
   ],
   "source": [
    "predictions = ensemble.fit(X_train, Y_train)"
   ]
  },
  {
   "cell_type": "code",
   "execution_count": 106,
   "id": "cd6b6c0a",
   "metadata": {},
   "outputs": [],
   "source": [
    "pre1 = predictions.predict(X_train)"
   ]
  },
  {
   "cell_type": "code",
   "execution_count": 107,
   "id": "5abb4009",
   "metadata": {},
   "outputs": [
    {
     "data": {
      "text/plain": [
       "array([3.78309701, 2.0596342 , 3.00661221, 2.95486098, 4.84422336,\n",
       "       2.06821292, 3.01148971, 3.07625286, 3.02768608, 2.03535809,\n",
       "       4.79389875, 3.05040697, 2.06274579, 2.10415475, 2.06561306,\n",
       "       3.85183118, 2.06570717, 2.98877443, 2.98168509, 2.10573808,\n",
       "       4.82386773, 2.91149296, 3.08207777, 2.00276665, 2.0575588 ,\n",
       "       2.99659594, 2.1137207 , 1.91442146, 2.02771439, 2.94097362,\n",
       "       2.95937156, 3.79671518, 3.66012019, 2.05230666, 2.96461168,\n",
       "       2.01836002, 3.04240206, 3.42032574, 5.76455008, 2.03355682,\n",
       "       2.02054387, 3.79429803, 2.02047411, 3.52279757, 2.04430556,\n",
       "       1.94894077, 2.04086826, 1.97647129, 2.92812144, 2.98888121,\n",
       "       2.98090577, 3.80763669, 3.02057702, 3.7775077 , 3.02160905,\n",
       "       2.98872488, 3.02424701, 3.81548038, 2.04587321, 1.95518592,\n",
       "       2.0300823 , 3.52031878, 3.05580166, 3.38226362, 3.05907228,\n",
       "       2.96235673, 1.98847574, 3.06859996, 1.94877254, 3.02595229,\n",
       "       3.0110374 , 3.10488381, 2.0243501 , 2.88581303, 2.92346308,\n",
       "       2.92334454, 1.99383713, 2.05477503, 2.1075795 , 1.98454596,\n",
       "       3.05596374, 3.82719792, 2.05557125, 2.99287912, 3.86787786,\n",
       "       2.05583046, 3.69071648, 3.03051034, 2.03381054, 3.81184387,\n",
       "       3.7641183 , 2.10215386, 2.89170947, 3.44719666, 2.07748562,\n",
       "       3.02977428, 2.06191673, 3.09481668, 2.96983877, 2.97290962,\n",
       "       3.02800587, 2.97587139, 2.92898478, 3.12514662, 2.07916766,\n",
       "       3.85550092, 2.07193955, 2.05260947, 3.08039031, 3.73314209,\n",
       "       2.0571497 , 1.99480805, 2.01224908, 1.98849167, 3.0617157 ,\n",
       "       2.02580737, 2.97911982, 2.03943717, 3.86971244, 2.99263212,\n",
       "       2.95203045, 2.06186696, 2.08632341, 3.08378309, 2.08874403,\n",
       "       2.06234231, 2.0473883 , 3.7983192 , 3.66903831, 2.02880318,\n",
       "       3.84823076, 2.61149332, 3.77398288, 1.95179855, 2.13027208,\n",
       "       3.51570206, 5.6898429 , 2.0299042 , 3.8205606 , 2.90326176,\n",
       "       3.83250612, 3.12250271, 2.90823184, 2.0436213 , 3.07284682,\n",
       "       2.94474456, 2.02884772, 2.93984652, 3.13204877, 3.74913413,\n",
       "       2.0415999 , 3.04789318, 3.74495823, 2.97778058, 2.96968281,\n",
       "       3.69235266, 1.99763944, 3.02553467, 3.86381281, 2.95014943,\n",
       "       3.00382143, 2.0229448 , 2.13267002, 3.07798441, 2.05525337,\n",
       "       2.93457333, 2.94235613, 2.05532677, 3.07855976, 2.99194862,\n",
       "       3.13218146, 2.13998026, 5.63657969, 2.97289616, 3.11172584,\n",
       "       3.46323147, 2.00632763, 2.05040889, 2.05486179, 3.46609375,\n",
       "       2.07112206, 3.06099437, 2.02353417, 1.34339057, 2.05603304,\n",
       "       1.48148518, 2.98097987, 2.03454393, 2.01864278, 2.98610203,\n",
       "       2.92124947, 2.09390131, 2.12216681, 2.03825166, 3.03783773,\n",
       "       2.94782197, 2.07114383, 2.95728129, 3.71204256, 3.29747197,\n",
       "       2.09763239, 3.08047837, 4.3033696 , 2.06010275, 2.09451225,\n",
       "       2.95747497, 2.08133649, 2.98959394, 2.92148318, 2.95150792,\n",
       "       3.03514045, 2.02577726, 3.01774547, 2.05350396, 3.79342312,\n",
       "       2.94316493, 2.05421674, 2.03948842, 3.08852906, 2.11479897,\n",
       "       2.97836454, 2.08341962, 2.05952633, 2.9996672 , 2.94393291,\n",
       "       2.05160785, 2.07516904, 2.96604343, 2.96709419, 2.10375959,\n",
       "       1.99409461, 2.96597208, 1.98715638, 2.09168979, 2.92379618,\n",
       "       2.98766985, 2.9018698 , 2.92727047, 3.80165588, 3.01035544,\n",
       "       2.0124043 , 2.99343813, 2.99079523, 3.79165907, 1.99685345,\n",
       "       2.98348445, 3.39361344, 1.9640612 , 2.01934265, 2.98011806,\n",
       "       3.0112257 , 3.07893769, 3.06537894, 2.01144588, 2.86727767,\n",
       "       2.09488416, 2.94936255, 2.0946064 , 2.94417745, 3.0740454 ,\n",
       "       3.76608515, 1.98592045, 2.03052177, 3.712437  , 3.80076256,\n",
       "       2.13220548, 4.80578242, 3.89138722, 2.92862307, 3.08239492,\n",
       "       3.7652608 , 3.06828077, 2.95098838, 2.92766731, 2.03971634,\n",
       "       1.97365195, 2.99089897, 1.98996376, 2.08572926, 2.08484531,\n",
       "       2.95121743, 2.00167322, 3.0048684 , 2.01837741, 1.95299761])"
      ]
     },
     "execution_count": 107,
     "metadata": {},
     "output_type": "execute_result"
    }
   ],
   "source": [
    "pre1"
   ]
  },
  {
   "cell_type": "code",
   "execution_count": 108,
   "id": "6e491a8f",
   "metadata": {},
   "outputs": [],
   "source": [
    "mse = mean_squared_error(Y_train, pre1)"
   ]
  },
  {
   "cell_type": "code",
   "execution_count": 109,
   "id": "0fc70d26",
   "metadata": {},
   "outputs": [
    {
     "data": {
      "text/plain": [
       "0.021816254219003166"
      ]
     },
     "execution_count": 109,
     "metadata": {},
     "output_type": "execute_result"
    }
   ],
   "source": [
    "mse"
   ]
  },
  {
   "cell_type": "code",
   "execution_count": 114,
   "id": "94bc8ade",
   "metadata": {},
   "outputs": [
    {
     "data": {
      "text/plain": [
       "Index(['age', 'sex', 'course', 'yr_level', 'personality_type',\n",
       "       'socioeconomic_stat', 'fam_support', 'working_stud', 'scholar', 'TM1',\n",
       "       'TM2', 'TM3', 'TM4', 'TM5', 'TM6', 'TM7', 'CAP1', 'CAP2', 'CAP3',\n",
       "       'CAP4', 'GSS1', 'GSS2', 'GSS3', 'GSS4', 'GSS5', 'GSS6', 'GSS7', 'EP1',\n",
       "       'EP2', 'EP3', 'EP4', 'EP5', 'EP6', 'NT1', 'NT2', 'NT3', 'desktop',\n",
       "       'laptop', 'mobile_phone', 'tablet', 'wifi', 'prepaid-wifi',\n",
       "       'cellular_data', 'hotspot', 'vhigh_speed', 'high_speed',\n",
       "       'moderate_speed', 'light_speed', 'GPA', 'gpa_range'],\n",
       "      dtype='object')"
      ]
     },
     "execution_count": 114,
     "metadata": {},
     "output_type": "execute_result"
    }
   ],
   "source": [
    "newDF.columns"
   ]
  },
  {
   "cell_type": "code",
   "execution_count": 125,
   "id": "ad65f520",
   "metadata": {},
   "outputs": [
    {
     "data": {
      "image/png": "[encoded data removed]",
      "text/plain": [
       "<Figure size 432x288 with 2 Axes>"
      ]
     },
     "metadata": {
      "needs_background": "light"
     },
     "output_type": "display_data"
    }
   ],
   "source": [
    "sns.heatmap(newDF[['age', 'sex', 'course', 'yr_level']].corr(), cmap='Blues', annot=True)\n",
    "plt.show()"
   ]
  },
  {
   "cell_type": "code",
   "execution_count": 126,
   "id": "f21929a1",
   "metadata": {},
   "outputs": [
    {
     "data": {
      "image/png": "[encoded data removed]",
      "text/plain": [
       "<Figure size 432x288 with 2 Axes>"
      ]
     },
     "metadata": {
      "needs_background": "light"
     },
     "output_type": "display_data"
    }
   ],
   "source": [
    "sns.heatmap(newDF[['age', 'sex', 'course', 'yr_level', 'personality_type',\n",
    "       'socioeconomic_stat', 'fam_support', 'working_stud', 'scholar']].corr(), cmap='Blues', annot=True)\n",
    "plt.show()"
   ]
  },
  {
   "cell_type": "markdown",
   "id": "b3588049",
   "metadata": {},
   "source": [
    "## Deploy trained model"
   ]
  },
  {
   "cell_type": "code",
   "execution_count": 111,
   "id": "a230da92",
   "metadata": {},
   "outputs": [],
   "source": [
    "import pickle"
   ]
  },
  {
   "cell_type": "code",
   "execution_count": 112,
   "id": "1babde90",
   "metadata": {},
   "outputs": [],
   "source": [
    "pickle.dump(ensemble, open('studenstmodel.pkl','wb'))"
   ]
  },
  {
   "cell_type": "code",
   "execution_count": 113,
   "id": "7bb461d6",
   "metadata": {},
   "outputs": [],
   "source": [
    "test_model = pickle.load(open('studenstmodel.pkl','rb'))"
   ]
  },
  {
   "cell_type": "code",
   "execution_count": 115,
   "id": "20452aa7",
   "metadata": {},
   "outputs": [
    {
     "name": "stdout",
     "output_type": "stream",
     "text": [
      "           age  sex  course  yr_level  personality_type  socioeconomic_stat  \\\n",
      "139  21.000000    0       3         3                 7                   1   \n",
      "93   22.000000    1       3         2                 7                   1   \n",
      "274  19.000000    1       2         3                 0                   1   \n",
      "331  20.462428    0       4         3                 0                   2   \n",
      "84   19.000000    1       3         2                12                   1   \n",
      "124  20.000000    1       3         3                 7                   1   \n",
      "303  22.000000    1       2         4                 5                   3   \n",
      "234  20.462428    1       2         3                 4                   1   \n",
      "345  18.000000    0       4         2                 8                   1   \n",
      "57   19.000000    0       1         3                 3                   2   \n",
      "\n",
      "     fam_support  working_stud  scholar  TM1  ...  tablet  wifi  prepaid-wifi  \\\n",
      "139            1             0        0    2  ...       3     1             3   \n",
      "93             1             0        0    2  ...       3     1             3   \n",
      "274            1             0        0    2  ...       3     2             2   \n",
      "331            1             0        0    2  ...       3     1             3   \n",
      "84             0             0        0    2  ...       3     2             3   \n",
      "124            1             0        0    2  ...       3     2             2   \n",
      "303            1             0        0    2  ...       3     1             2   \n",
      "234            1             0        0    2  ...       3     1             2   \n",
      "345            1             0        0    2  ...       3     1             3   \n",
      "57             1             0        0    2  ...       2     2             2   \n",
      "\n",
      "     cellular_data  hotspot  vhigh_speed  high_speed  moderate_speed  \\\n",
      "139              1        3            1           1               3   \n",
      "93               1        3            1           3               3   \n",
      "274              2        2            2           1               2   \n",
      "331              3        3            3           1               3   \n",
      "84               1        1            2           2               1   \n",
      "124              2        2            2           2               2   \n",
      "303              1        2            2           2               2   \n",
      "234              1        3            1           3               3   \n",
      "345              2        2            2           3               1   \n",
      "57               1        2            1           1               2   \n",
      "\n",
      "     light_speed     GPA  \n",
      "139            3  1.6477  \n",
      "93             3  2.2981  \n",
      "274            3  2.2500  \n",
      "331            3  1.8152  \n",
      "84             1  2.6250  \n",
      "124            1  1.7273  \n",
      "303            2  1.8906  \n",
      "234            3  2.0714  \n",
      "345            3  1.4706  \n",
      "57             2  1.9519  \n",
      "\n",
      "[10 rows x 49 columns]\n"
     ]
    }
   ],
   "source": [
    "new_Xdata = X_test.sample(10)\n",
    "new_Ydata = Y_test['gpa_range'].loc[new_Xdata.index.values]\n",
    "print(new_Xdata)"
   ]
  },
  {
   "cell_type": "code",
   "execution_count": 116,
   "id": "528190dc",
   "metadata": {},
   "outputs": [
    {
     "data": {
      "text/plain": [
       "139    2\n",
       "93     4\n",
       "274    4\n",
       "331    3\n",
       "84     4\n",
       "124    2\n",
       "303    3\n",
       "234    3\n",
       "345    2\n",
       "57     3\n",
       "Name: gpa_range, dtype: int64"
      ]
     },
     "execution_count": 116,
     "metadata": {},
     "output_type": "execute_result"
    }
   ],
   "source": [
    "new_Ydata"
   ]
  },
  {
   "cell_type": "code",
   "execution_count": 121,
   "id": "d241dc00",
   "metadata": {},
   "outputs": [
    {
     "name": "stdout",
     "output_type": "stream",
     "text": [
      "[2.10330145 3.6307853  3.61217232 2.8966596  3.82731063 2.17509653\n",
      " 2.99368181 3.0330872  2.01163627 2.97753109]\n"
     ]
    }
   ],
   "source": [
    "#predictions by the model\n",
    "pred = test_model.predict(new_Xdata)\n",
    "print(pred)"
   ]
  },
  {
   "cell_type": "code",
   "execution_count": 122,
   "id": "692e12b8",
   "metadata": {},
   "outputs": [
    {
     "name": "stdout",
     "output_type": "stream",
     "text": [
      "[2 4 4 3 4 2 3 3 2 3]\n"
     ]
    }
   ],
   "source": [
    "print(new_Ydata.values)"
   ]
  },
  {
   "cell_type": "code",
   "execution_count": 132,
   "id": "adf3edd5",
   "metadata": {},
   "outputs": [
    {
     "name": "stdout",
     "output_type": "stream",
     "text": [
      "Mean Squared Error:\n",
      " 0.037033558645004655\n",
      "Accuracy Score:\n",
      " 0.9382774022583256\n"
     ]
    }
   ],
   "source": [
    "#checking for the accuracy score using r-squared\n",
    "mse2 = mean_squared_error(new_Ydata, pred)\n",
    "print('Mean Squared Error:\\n', mse2)\n",
    "acc = r2_score(new_Ydata, pred)\n",
    "print('Accuracy Score:\\n', acc)"
   ]
  },
  {
   "cell_type": "code",
   "execution_count": null,
   "id": "30831b4b",
   "metadata": {},
   "outputs": [],
   "source": []
  }
 ],
 "metadata": {
  "kernelspec": {
   "display_name": "Python 3 (ipykernel)",
   "language": "python",
   "name": "python3"
  },
  "language_info": {
   "codemirror_mode": {
    "name": "ipython",
    "version": 3
   },
   "file_extension": ".py",
   "mimetype": "text/x-python",
   "name": "python",
   "nbconvert_exporter": "python",
   "pygments_lexer": "ipython3",
   "version": "3.9.12"
  },
  "widgets": {
   "application/vnd.jupyter.widget-state+json": {
    "state": {},
    "version_major": 2,
    "version_minor": 0
   }
  }
 },
 "nbformat": 4,
 "nbformat_minor": 5
}
